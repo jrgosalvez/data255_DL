{
  "nbformat": 4,
  "nbformat_minor": 0,
  "metadata": {
    "colab": {
      "provenance": [],
      "gpuType": "T4",
      "include_colab_link": true
    },
    "kernelspec": {
      "name": "python3",
      "display_name": "Python 3"
    },
    "language_info": {
      "name": "python"
    },
    "accelerator": "GPU"
  },
  "cells": [
    {
      "cell_type": "markdown",
      "metadata": {
        "id": "view-in-github",
        "colab_type": "text"
      },
      "source": [
        "<a href=\"https://colab.research.google.com/github/jrgosalvez/data255_DL/blob/main/Lab1/Part_1_DL_255_Lab_1.ipynb\" target=\"_parent\"><img src=\"https://colab.research.google.com/assets/colab-badge.svg\" alt=\"Open In Colab\"/></a>"
      ]
    },
    {
      "cell_type": "markdown",
      "source": [
        "# SJSU MSDS 255 DL, Spring 2024\n",
        "#### Lab 1 - Part 1; Team 9"
      ],
      "metadata": {
        "id": "6ncGLclwMcu4"
      }
    },
    {
      "cell_type": "markdown",
      "source": [
        "Hi Anbu. I've started Part 1 by copying in the Kaggle example and datasets. We need to update three parts:\n",
        "1. the depth and width of nodes\n",
        "2. that training should be on ALL features for users & items, not just IDs\n",
        "3. Split data 80/20"
      ],
      "metadata": {
        "id": "-RJTcEfvwGag"
      }
    },
    {
      "cell_type": "markdown",
      "source": [
        "## Recommendation System"
      ],
      "metadata": {
        "id": "atiXtZAjMgRz"
      }
    },
    {
      "cell_type": "code",
      "source": [
        "# prompt: mount drive\n",
        "\n",
        "from google.colab import drive\n",
        "drive.mount('/content/drive')"
      ],
      "metadata": {
        "colab": {
          "base_uri": "https://localhost:8080/"
        },
        "id": "FUC05SRVTLG7",
        "outputId": "35f6827d-f5c9-49e3-e017-0795fea55603"
      },
      "execution_count": 1,
      "outputs": [
        {
          "output_type": "stream",
          "name": "stdout",
          "text": [
            "Drive already mounted at /content/drive; to attempt to forcibly remount, call drive.mount(\"/content/drive\", force_remount=True).\n"
          ]
        }
      ]
    },
    {
      "cell_type": "markdown",
      "source": [
        "### Check Directory and Map to Google Drive"
      ],
      "metadata": {
        "id": "pimWtV_v2BVd"
      }
    },
    {
      "cell_type": "code",
      "execution_count": 2,
      "metadata": {
        "id": "nLyWIujSfpd-",
        "colab": {
          "base_uri": "https://localhost:8080/"
        },
        "outputId": "a84bc275-7499-4e80-8c2d-4b84580682d6"
      },
      "outputs": [
        {
          "output_type": "stream",
          "name": "stdout",
          "text": [
            "/content\n"
          ]
        }
      ],
      "source": [
        "# confirm drive diretory, should be /content to navigate Drive to files on Drive\n",
        "!pwd"
      ]
    },
    {
      "cell_type": "code",
      "source": [
        "!ls /content/drive/Shareddrives/DATA_255_DL/Lab_1/Part1_DL_ItemBasedRecommendation/BookCrossingData"
      ],
      "metadata": {
        "colab": {
          "base_uri": "https://localhost:8080/"
        },
        "id": "zUJ6JbJBy39n",
        "outputId": "9de9f671-9066-4e7a-f668-5797a00e10a2"
      },
      "execution_count": 3,
      "outputs": [
        {
          "output_type": "stream",
          "name": "stdout",
          "text": [
            "BX-Book-Ratings.csv  BX-Books.csv  BX-Users.csv\n"
          ]
        }
      ]
    },
    {
      "cell_type": "markdown",
      "source": [
        "### Load Libraries"
      ],
      "metadata": {
        "id": "OpyTcfLm2KaB"
      }
    },
    {
      "cell_type": "code",
      "source": [
        "# Basic\n",
        "import numpy as np\n",
        "import pandas as pd\n",
        "import seaborn as sns\n",
        "import matplotlib.pyplot as plt\n",
        "\n",
        "# System\n",
        "import warnings\n",
        "import os\n",
        "warnings.filterwarnings(\"ignore\")\n",
        "%matplotlib inline"
      ],
      "metadata": {
        "id": "qLFUezUY03aQ"
      },
      "execution_count": 4,
      "outputs": []
    },
    {
      "cell_type": "markdown",
      "source": [
        "### Check files"
      ],
      "metadata": {
        "id": "7dcK2dZZ2OT3"
      }
    },
    {
      "cell_type": "code",
      "source": [
        "for dirname, _, filenames in os.walk('/content/drive/Shareddrives/DATA_255_DL/Lab_1/Part1_DL_ItemBasedRecommendation/BookCrossingData'):\n",
        "    for filename in filenames:\n",
        "        print(os.path.join(dirname, filename))"
      ],
      "metadata": {
        "id": "SgjiGEzn1oRs",
        "colab": {
          "base_uri": "https://localhost:8080/"
        },
        "outputId": "f3a7011d-e366-4e3f-fdf2-032efbd7948c"
      },
      "execution_count": 5,
      "outputs": [
        {
          "output_type": "stream",
          "name": "stdout",
          "text": [
            "/content/drive/Shareddrives/DATA_255_DL/Lab_1/Part1_DL_ItemBasedRecommendation/BookCrossingData/BX-Book-Ratings.csv\n",
            "/content/drive/Shareddrives/DATA_255_DL/Lab_1/Part1_DL_ItemBasedRecommendation/BookCrossingData/BX-Books.csv\n",
            "/content/drive/Shareddrives/DATA_255_DL/Lab_1/Part1_DL_ItemBasedRecommendation/BookCrossingData/BX-Users.csv\n"
          ]
        }
      ]
    },
    {
      "cell_type": "markdown",
      "source": [
        "### Load Data"
      ],
      "metadata": {
        "id": "xMigcID816y7"
      }
    },
    {
      "cell_type": "markdown",
      "source": [
        "NOTE: Kaggle describes encoding as latin-1, which is ISO-8859-1"
      ],
      "metadata": {
        "id": "Lf7YdhUj2hgz"
      }
    },
    {
      "cell_type": "code",
      "source": [
        "users = pd.read_csv('/content/drive/Shareddrives/DATA_255_DL/Lab_1/Part1_DL_ItemBasedRecommendation/BookCrossingData/BX-Users.csv', error_bad_lines=False, delimiter=';', encoding = 'ISO-8859-1')"
      ],
      "metadata": {
        "id": "gW9PzGd-1vLy"
      },
      "execution_count": 6,
      "outputs": []
    },
    {
      "cell_type": "code",
      "source": [
        "books = pd.read_csv('/content/drive/Shareddrives/DATA_255_DL/Lab_1/Part1_DL_ItemBasedRecommendation/BookCrossingData/BX-Books.csv', error_bad_lines=False, delimiter=';', encoding = 'ISO-8859-1')"
      ],
      "metadata": {
        "colab": {
          "base_uri": "https://localhost:8080/"
        },
        "id": "BjoFss3u2U6n",
        "outputId": "9251cce9-b137-41e9-d107-4ffc3d5a93fc"
      },
      "execution_count": 7,
      "outputs": [
        {
          "output_type": "stream",
          "name": "stderr",
          "text": [
            "Skipping line 6452: expected 8 fields, saw 9\n",
            "Skipping line 43667: expected 8 fields, saw 10\n",
            "Skipping line 51751: expected 8 fields, saw 9\n",
            "\n",
            "Skipping line 92038: expected 8 fields, saw 9\n",
            "Skipping line 104319: expected 8 fields, saw 9\n",
            "Skipping line 121768: expected 8 fields, saw 9\n",
            "\n",
            "Skipping line 144058: expected 8 fields, saw 9\n",
            "Skipping line 150789: expected 8 fields, saw 9\n",
            "Skipping line 157128: expected 8 fields, saw 9\n",
            "Skipping line 180189: expected 8 fields, saw 9\n",
            "Skipping line 185738: expected 8 fields, saw 9\n",
            "\n",
            "Skipping line 209388: expected 8 fields, saw 9\n",
            "Skipping line 220626: expected 8 fields, saw 9\n",
            "Skipping line 227933: expected 8 fields, saw 11\n",
            "Skipping line 228957: expected 8 fields, saw 10\n",
            "Skipping line 245933: expected 8 fields, saw 9\n",
            "Skipping line 251296: expected 8 fields, saw 9\n",
            "Skipping line 259941: expected 8 fields, saw 9\n",
            "Skipping line 261529: expected 8 fields, saw 9\n",
            "\n"
          ]
        }
      ]
    },
    {
      "cell_type": "code",
      "source": [
        "ratings = pd.read_csv('/content/drive/Shareddrives/DATA_255_DL/Lab_1/Part1_DL_ItemBasedRecommendation/BookCrossingData/BX-Book-Ratings.csv', error_bad_lines=False, delimiter=';', encoding = 'ISO-8859-1')"
      ],
      "metadata": {
        "id": "aPBllXxV2yWN"
      },
      "execution_count": 8,
      "outputs": []
    },
    {
      "cell_type": "markdown",
      "source": [
        "### Explore Data"
      ],
      "metadata": {
        "id": "JphLeYp13IW-"
      }
    },
    {
      "cell_type": "code",
      "source": [
        "print(users.shape)\n",
        "print(books.shape)\n",
        "print(ratings.shape)"
      ],
      "metadata": {
        "colab": {
          "base_uri": "https://localhost:8080/"
        },
        "id": "cgzBJiNO263n",
        "outputId": "4df50781-1386-4c65-a9f8-6b81655827a8"
      },
      "execution_count": 9,
      "outputs": [
        {
          "output_type": "stream",
          "name": "stdout",
          "text": [
            "(278858, 3)\n",
            "(271360, 8)\n",
            "(1149780, 3)\n"
          ]
        }
      ]
    },
    {
      "cell_type": "code",
      "source": [
        "print(users.columns)\n",
        "print(books.columns)\n",
        "print(ratings.columns)"
      ],
      "metadata": {
        "colab": {
          "base_uri": "https://localhost:8080/"
        },
        "id": "Ewm-545e3DNE",
        "outputId": "51026a31-88a5-47df-96f5-517564a63b77"
      },
      "execution_count": 10,
      "outputs": [
        {
          "output_type": "stream",
          "name": "stdout",
          "text": [
            "Index(['User-ID', 'Location', 'Age'], dtype='object')\n",
            "Index(['ISBN', 'Book-Title', 'Book-Author', 'Year-Of-Publication', 'Publisher',\n",
            "       'Image-URL-S', 'Image-URL-M', 'Image-URL-L'],\n",
            "      dtype='object')\n",
            "Index(['User-ID', 'ISBN', 'Book-Rating'], dtype='object')\n"
          ]
        }
      ]
    },
    {
      "cell_type": "markdown",
      "source": [
        "### Join Data"
      ],
      "metadata": {
        "id": "GeojSz8Q3SVl"
      }
    },
    {
      "cell_type": "code",
      "source": [
        "data = pd.merge(ratings, users, on='User-ID', how='inner')"
      ],
      "metadata": {
        "id": "NHOU6qgG3Dad"
      },
      "execution_count": 11,
      "outputs": []
    },
    {
      "cell_type": "code",
      "source": [
        "data = pd.merge(data, books, on='ISBN', how='inner')"
      ],
      "metadata": {
        "id": "Nqni4r9v3Ddl"
      },
      "execution_count": 12,
      "outputs": []
    },
    {
      "cell_type": "code",
      "source": [
        "data.columns"
      ],
      "metadata": {
        "colab": {
          "base_uri": "https://localhost:8080/"
        },
        "id": "l40I__7X3DhJ",
        "outputId": "36fdd8ae-bbbd-4c58-c984-b28d3c474037"
      },
      "execution_count": 13,
      "outputs": [
        {
          "output_type": "execute_result",
          "data": {
            "text/plain": [
              "Index(['User-ID', 'ISBN', 'Book-Rating', 'Location', 'Age', 'Book-Title',\n",
              "       'Book-Author', 'Year-Of-Publication', 'Publisher', 'Image-URL-S',\n",
              "       'Image-URL-M', 'Image-URL-L'],\n",
              "      dtype='object')"
            ]
          },
          "metadata": {},
          "execution_count": 13
        }
      ]
    },
    {
      "cell_type": "code",
      "source": [
        "data.shape"
      ],
      "metadata": {
        "colab": {
          "base_uri": "https://localhost:8080/"
        },
        "id": "EFcWUM7p3iOs",
        "outputId": "066b5e9a-64b9-4653-9cea-8aae9e75796d"
      },
      "execution_count": 14,
      "outputs": [
        {
          "output_type": "execute_result",
          "data": {
            "text/plain": [
              "(1031136, 12)"
            ]
          },
          "metadata": {},
          "execution_count": 14
        }
      ]
    },
    {
      "cell_type": "code",
      "source": [
        "print('Size of the dataset is: ', data.memory_usage().sum() / 1024**2, ' MB')"
      ],
      "metadata": {
        "colab": {
          "base_uri": "https://localhost:8080/"
        },
        "id": "hGz2wzga3iZM",
        "outputId": "2d3040f0-469f-41cb-a4ae-cfa7999a45f8"
      },
      "execution_count": 15,
      "outputs": [
        {
          "output_type": "stream",
          "name": "stdout",
          "text": [
            "Size of the dataset is:  102.270263671875  MB\n"
          ]
        }
      ]
    },
    {
      "cell_type": "code",
      "source": [
        "data.head()"
      ],
      "metadata": {
        "colab": {
          "base_uri": "https://localhost:8080/",
          "height": 397
        },
        "id": "bDMt7krO3icf",
        "outputId": "78aaf71b-bdcf-4fb2-b993-cc6d61d35701"
      },
      "execution_count": 16,
      "outputs": [
        {
          "output_type": "execute_result",
          "data": {
            "text/plain": [
              "   User-ID        ISBN  Book-Rating                           Location   Age  \\\n",
              "0   276725  034545104X            0                  tyler, texas, usa   NaN   \n",
              "1     2313  034545104X            5              cincinnati, ohio, usa  23.0   \n",
              "2     6543  034545104X            0           strafford, missouri, usa  34.0   \n",
              "3     8680  034545104X            5  st. charles county, missouri, usa   2.0   \n",
              "4    10314  034545104X            9             beaverton, oregon, usa   NaN   \n",
              "\n",
              "             Book-Title Book-Author Year-Of-Publication         Publisher  \\\n",
              "0  Flesh Tones: A Novel  M. J. Rose                2002  Ballantine Books   \n",
              "1  Flesh Tones: A Novel  M. J. Rose                2002  Ballantine Books   \n",
              "2  Flesh Tones: A Novel  M. J. Rose                2002  Ballantine Books   \n",
              "3  Flesh Tones: A Novel  M. J. Rose                2002  Ballantine Books   \n",
              "4  Flesh Tones: A Novel  M. J. Rose                2002  Ballantine Books   \n",
              "\n",
              "                                         Image-URL-S  \\\n",
              "0  http://images.amazon.com/images/P/034545104X.0...   \n",
              "1  http://images.amazon.com/images/P/034545104X.0...   \n",
              "2  http://images.amazon.com/images/P/034545104X.0...   \n",
              "3  http://images.amazon.com/images/P/034545104X.0...   \n",
              "4  http://images.amazon.com/images/P/034545104X.0...   \n",
              "\n",
              "                                         Image-URL-M  \\\n",
              "0  http://images.amazon.com/images/P/034545104X.0...   \n",
              "1  http://images.amazon.com/images/P/034545104X.0...   \n",
              "2  http://images.amazon.com/images/P/034545104X.0...   \n",
              "3  http://images.amazon.com/images/P/034545104X.0...   \n",
              "4  http://images.amazon.com/images/P/034545104X.0...   \n",
              "\n",
              "                                         Image-URL-L  \n",
              "0  http://images.amazon.com/images/P/034545104X.0...  \n",
              "1  http://images.amazon.com/images/P/034545104X.0...  \n",
              "2  http://images.amazon.com/images/P/034545104X.0...  \n",
              "3  http://images.amazon.com/images/P/034545104X.0...  \n",
              "4  http://images.amazon.com/images/P/034545104X.0...  "
            ],
            "text/html": [
              "\n",
              "  <div id=\"df-08c2291f-6811-494e-b1aa-7f459cf5a28f\" class=\"colab-df-container\">\n",
              "    <div>\n",
              "<style scoped>\n",
              "    .dataframe tbody tr th:only-of-type {\n",
              "        vertical-align: middle;\n",
              "    }\n",
              "\n",
              "    .dataframe tbody tr th {\n",
              "        vertical-align: top;\n",
              "    }\n",
              "\n",
              "    .dataframe thead th {\n",
              "        text-align: right;\n",
              "    }\n",
              "</style>\n",
              "<table border=\"1\" class=\"dataframe\">\n",
              "  <thead>\n",
              "    <tr style=\"text-align: right;\">\n",
              "      <th></th>\n",
              "      <th>User-ID</th>\n",
              "      <th>ISBN</th>\n",
              "      <th>Book-Rating</th>\n",
              "      <th>Location</th>\n",
              "      <th>Age</th>\n",
              "      <th>Book-Title</th>\n",
              "      <th>Book-Author</th>\n",
              "      <th>Year-Of-Publication</th>\n",
              "      <th>Publisher</th>\n",
              "      <th>Image-URL-S</th>\n",
              "      <th>Image-URL-M</th>\n",
              "      <th>Image-URL-L</th>\n",
              "    </tr>\n",
              "  </thead>\n",
              "  <tbody>\n",
              "    <tr>\n",
              "      <th>0</th>\n",
              "      <td>276725</td>\n",
              "      <td>034545104X</td>\n",
              "      <td>0</td>\n",
              "      <td>tyler, texas, usa</td>\n",
              "      <td>NaN</td>\n",
              "      <td>Flesh Tones: A Novel</td>\n",
              "      <td>M. J. Rose</td>\n",
              "      <td>2002</td>\n",
              "      <td>Ballantine Books</td>\n",
              "      <td>http://images.amazon.com/images/P/034545104X.0...</td>\n",
              "      <td>http://images.amazon.com/images/P/034545104X.0...</td>\n",
              "      <td>http://images.amazon.com/images/P/034545104X.0...</td>\n",
              "    </tr>\n",
              "    <tr>\n",
              "      <th>1</th>\n",
              "      <td>2313</td>\n",
              "      <td>034545104X</td>\n",
              "      <td>5</td>\n",
              "      <td>cincinnati, ohio, usa</td>\n",
              "      <td>23.0</td>\n",
              "      <td>Flesh Tones: A Novel</td>\n",
              "      <td>M. J. Rose</td>\n",
              "      <td>2002</td>\n",
              "      <td>Ballantine Books</td>\n",
              "      <td>http://images.amazon.com/images/P/034545104X.0...</td>\n",
              "      <td>http://images.amazon.com/images/P/034545104X.0...</td>\n",
              "      <td>http://images.amazon.com/images/P/034545104X.0...</td>\n",
              "    </tr>\n",
              "    <tr>\n",
              "      <th>2</th>\n",
              "      <td>6543</td>\n",
              "      <td>034545104X</td>\n",
              "      <td>0</td>\n",
              "      <td>strafford, missouri, usa</td>\n",
              "      <td>34.0</td>\n",
              "      <td>Flesh Tones: A Novel</td>\n",
              "      <td>M. J. Rose</td>\n",
              "      <td>2002</td>\n",
              "      <td>Ballantine Books</td>\n",
              "      <td>http://images.amazon.com/images/P/034545104X.0...</td>\n",
              "      <td>http://images.amazon.com/images/P/034545104X.0...</td>\n",
              "      <td>http://images.amazon.com/images/P/034545104X.0...</td>\n",
              "    </tr>\n",
              "    <tr>\n",
              "      <th>3</th>\n",
              "      <td>8680</td>\n",
              "      <td>034545104X</td>\n",
              "      <td>5</td>\n",
              "      <td>st. charles county, missouri, usa</td>\n",
              "      <td>2.0</td>\n",
              "      <td>Flesh Tones: A Novel</td>\n",
              "      <td>M. J. Rose</td>\n",
              "      <td>2002</td>\n",
              "      <td>Ballantine Books</td>\n",
              "      <td>http://images.amazon.com/images/P/034545104X.0...</td>\n",
              "      <td>http://images.amazon.com/images/P/034545104X.0...</td>\n",
              "      <td>http://images.amazon.com/images/P/034545104X.0...</td>\n",
              "    </tr>\n",
              "    <tr>\n",
              "      <th>4</th>\n",
              "      <td>10314</td>\n",
              "      <td>034545104X</td>\n",
              "      <td>9</td>\n",
              "      <td>beaverton, oregon, usa</td>\n",
              "      <td>NaN</td>\n",
              "      <td>Flesh Tones: A Novel</td>\n",
              "      <td>M. J. Rose</td>\n",
              "      <td>2002</td>\n",
              "      <td>Ballantine Books</td>\n",
              "      <td>http://images.amazon.com/images/P/034545104X.0...</td>\n",
              "      <td>http://images.amazon.com/images/P/034545104X.0...</td>\n",
              "      <td>http://images.amazon.com/images/P/034545104X.0...</td>\n",
              "    </tr>\n",
              "  </tbody>\n",
              "</table>\n",
              "</div>\n",
              "    <div class=\"colab-df-buttons\">\n",
              "\n",
              "  <div class=\"colab-df-container\">\n",
              "    <button class=\"colab-df-convert\" onclick=\"convertToInteractive('df-08c2291f-6811-494e-b1aa-7f459cf5a28f')\"\n",
              "            title=\"Convert this dataframe to an interactive table.\"\n",
              "            style=\"display:none;\">\n",
              "\n",
              "  <svg xmlns=\"http://www.w3.org/2000/svg\" height=\"24px\" viewBox=\"0 -960 960 960\">\n",
              "    <path d=\"M120-120v-720h720v720H120Zm60-500h600v-160H180v160Zm220 220h160v-160H400v160Zm0 220h160v-160H400v160ZM180-400h160v-160H180v160Zm440 0h160v-160H620v160ZM180-180h160v-160H180v160Zm440 0h160v-160H620v160Z\"/>\n",
              "  </svg>\n",
              "    </button>\n",
              "\n",
              "  <style>\n",
              "    .colab-df-container {\n",
              "      display:flex;\n",
              "      gap: 12px;\n",
              "    }\n",
              "\n",
              "    .colab-df-convert {\n",
              "      background-color: #E8F0FE;\n",
              "      border: none;\n",
              "      border-radius: 50%;\n",
              "      cursor: pointer;\n",
              "      display: none;\n",
              "      fill: #1967D2;\n",
              "      height: 32px;\n",
              "      padding: 0 0 0 0;\n",
              "      width: 32px;\n",
              "    }\n",
              "\n",
              "    .colab-df-convert:hover {\n",
              "      background-color: #E2EBFA;\n",
              "      box-shadow: 0px 1px 2px rgba(60, 64, 67, 0.3), 0px 1px 3px 1px rgba(60, 64, 67, 0.15);\n",
              "      fill: #174EA6;\n",
              "    }\n",
              "\n",
              "    .colab-df-buttons div {\n",
              "      margin-bottom: 4px;\n",
              "    }\n",
              "\n",
              "    [theme=dark] .colab-df-convert {\n",
              "      background-color: #3B4455;\n",
              "      fill: #D2E3FC;\n",
              "    }\n",
              "\n",
              "    [theme=dark] .colab-df-convert:hover {\n",
              "      background-color: #434B5C;\n",
              "      box-shadow: 0px 1px 3px 1px rgba(0, 0, 0, 0.15);\n",
              "      filter: drop-shadow(0px 1px 2px rgba(0, 0, 0, 0.3));\n",
              "      fill: #FFFFFF;\n",
              "    }\n",
              "  </style>\n",
              "\n",
              "    <script>\n",
              "      const buttonEl =\n",
              "        document.querySelector('#df-08c2291f-6811-494e-b1aa-7f459cf5a28f button.colab-df-convert');\n",
              "      buttonEl.style.display =\n",
              "        google.colab.kernel.accessAllowed ? 'block' : 'none';\n",
              "\n",
              "      async function convertToInteractive(key) {\n",
              "        const element = document.querySelector('#df-08c2291f-6811-494e-b1aa-7f459cf5a28f');\n",
              "        const dataTable =\n",
              "          await google.colab.kernel.invokeFunction('convertToInteractive',\n",
              "                                                    [key], {});\n",
              "        if (!dataTable) return;\n",
              "\n",
              "        const docLinkHtml = 'Like what you see? Visit the ' +\n",
              "          '<a target=\"_blank\" href=https://colab.research.google.com/notebooks/data_table.ipynb>data table notebook</a>'\n",
              "          + ' to learn more about interactive tables.';\n",
              "        element.innerHTML = '';\n",
              "        dataTable['output_type'] = 'display_data';\n",
              "        await google.colab.output.renderOutput(dataTable, element);\n",
              "        const docLink = document.createElement('div');\n",
              "        docLink.innerHTML = docLinkHtml;\n",
              "        element.appendChild(docLink);\n",
              "      }\n",
              "    </script>\n",
              "  </div>\n",
              "\n",
              "\n",
              "<div id=\"df-a6fa2304-07fb-4584-8923-463941196282\">\n",
              "  <button class=\"colab-df-quickchart\" onclick=\"quickchart('df-a6fa2304-07fb-4584-8923-463941196282')\"\n",
              "            title=\"Suggest charts\"\n",
              "            style=\"display:none;\">\n",
              "\n",
              "<svg xmlns=\"http://www.w3.org/2000/svg\" height=\"24px\"viewBox=\"0 0 24 24\"\n",
              "     width=\"24px\">\n",
              "    <g>\n",
              "        <path d=\"M19 3H5c-1.1 0-2 .9-2 2v14c0 1.1.9 2 2 2h14c1.1 0 2-.9 2-2V5c0-1.1-.9-2-2-2zM9 17H7v-7h2v7zm4 0h-2V7h2v10zm4 0h-2v-4h2v4z\"/>\n",
              "    </g>\n",
              "</svg>\n",
              "  </button>\n",
              "\n",
              "<style>\n",
              "  .colab-df-quickchart {\n",
              "      --bg-color: #E8F0FE;\n",
              "      --fill-color: #1967D2;\n",
              "      --hover-bg-color: #E2EBFA;\n",
              "      --hover-fill-color: #174EA6;\n",
              "      --disabled-fill-color: #AAA;\n",
              "      --disabled-bg-color: #DDD;\n",
              "  }\n",
              "\n",
              "  [theme=dark] .colab-df-quickchart {\n",
              "      --bg-color: #3B4455;\n",
              "      --fill-color: #D2E3FC;\n",
              "      --hover-bg-color: #434B5C;\n",
              "      --hover-fill-color: #FFFFFF;\n",
              "      --disabled-bg-color: #3B4455;\n",
              "      --disabled-fill-color: #666;\n",
              "  }\n",
              "\n",
              "  .colab-df-quickchart {\n",
              "    background-color: var(--bg-color);\n",
              "    border: none;\n",
              "    border-radius: 50%;\n",
              "    cursor: pointer;\n",
              "    display: none;\n",
              "    fill: var(--fill-color);\n",
              "    height: 32px;\n",
              "    padding: 0;\n",
              "    width: 32px;\n",
              "  }\n",
              "\n",
              "  .colab-df-quickchart:hover {\n",
              "    background-color: var(--hover-bg-color);\n",
              "    box-shadow: 0 1px 2px rgba(60, 64, 67, 0.3), 0 1px 3px 1px rgba(60, 64, 67, 0.15);\n",
              "    fill: var(--button-hover-fill-color);\n",
              "  }\n",
              "\n",
              "  .colab-df-quickchart-complete:disabled,\n",
              "  .colab-df-quickchart-complete:disabled:hover {\n",
              "    background-color: var(--disabled-bg-color);\n",
              "    fill: var(--disabled-fill-color);\n",
              "    box-shadow: none;\n",
              "  }\n",
              "\n",
              "  .colab-df-spinner {\n",
              "    border: 2px solid var(--fill-color);\n",
              "    border-color: transparent;\n",
              "    border-bottom-color: var(--fill-color);\n",
              "    animation:\n",
              "      spin 1s steps(1) infinite;\n",
              "  }\n",
              "\n",
              "  @keyframes spin {\n",
              "    0% {\n",
              "      border-color: transparent;\n",
              "      border-bottom-color: var(--fill-color);\n",
              "      border-left-color: var(--fill-color);\n",
              "    }\n",
              "    20% {\n",
              "      border-color: transparent;\n",
              "      border-left-color: var(--fill-color);\n",
              "      border-top-color: var(--fill-color);\n",
              "    }\n",
              "    30% {\n",
              "      border-color: transparent;\n",
              "      border-left-color: var(--fill-color);\n",
              "      border-top-color: var(--fill-color);\n",
              "      border-right-color: var(--fill-color);\n",
              "    }\n",
              "    40% {\n",
              "      border-color: transparent;\n",
              "      border-right-color: var(--fill-color);\n",
              "      border-top-color: var(--fill-color);\n",
              "    }\n",
              "    60% {\n",
              "      border-color: transparent;\n",
              "      border-right-color: var(--fill-color);\n",
              "    }\n",
              "    80% {\n",
              "      border-color: transparent;\n",
              "      border-right-color: var(--fill-color);\n",
              "      border-bottom-color: var(--fill-color);\n",
              "    }\n",
              "    90% {\n",
              "      border-color: transparent;\n",
              "      border-bottom-color: var(--fill-color);\n",
              "    }\n",
              "  }\n",
              "</style>\n",
              "\n",
              "  <script>\n",
              "    async function quickchart(key) {\n",
              "      const quickchartButtonEl =\n",
              "        document.querySelector('#' + key + ' button');\n",
              "      quickchartButtonEl.disabled = true;  // To prevent multiple clicks.\n",
              "      quickchartButtonEl.classList.add('colab-df-spinner');\n",
              "      try {\n",
              "        const charts = await google.colab.kernel.invokeFunction(\n",
              "            'suggestCharts', [key], {});\n",
              "      } catch (error) {\n",
              "        console.error('Error during call to suggestCharts:', error);\n",
              "      }\n",
              "      quickchartButtonEl.classList.remove('colab-df-spinner');\n",
              "      quickchartButtonEl.classList.add('colab-df-quickchart-complete');\n",
              "    }\n",
              "    (() => {\n",
              "      let quickchartButtonEl =\n",
              "        document.querySelector('#df-a6fa2304-07fb-4584-8923-463941196282 button');\n",
              "      quickchartButtonEl.style.display =\n",
              "        google.colab.kernel.accessAllowed ? 'block' : 'none';\n",
              "    })();\n",
              "  </script>\n",
              "</div>\n",
              "    </div>\n",
              "  </div>\n"
            ],
            "application/vnd.google.colaboratory.intrinsic+json": {
              "type": "dataframe",
              "variable_name": "data"
            }
          },
          "metadata": {},
          "execution_count": 16
        }
      ]
    },
    {
      "cell_type": "code",
      "source": [
        "print('Number of books: ', data['ISBN'].nunique())\n",
        "print('Number of users: ',data['User-ID'].nunique())"
      ],
      "metadata": {
        "colab": {
          "base_uri": "https://localhost:8080/"
        },
        "id": "iIhJg3A63ifr",
        "outputId": "062cff87-df07-4ff6-ce99-5c2cb0548495"
      },
      "execution_count": 17,
      "outputs": [
        {
          "output_type": "stream",
          "name": "stdout",
          "text": [
            "Number of books:  270151\n",
            "Number of users:  92106\n"
          ]
        }
      ]
    },
    {
      "cell_type": "code",
      "source": [
        "print('Missing data [%]')\n",
        "round(data.isnull().sum() / len(data) * 100, 4)"
      ],
      "metadata": {
        "colab": {
          "base_uri": "https://localhost:8080/"
        },
        "id": "24QaTqXI3ikH",
        "outputId": "905dc48a-9f46-4011-b683-f07993a948aa"
      },
      "execution_count": 18,
      "outputs": [
        {
          "output_type": "stream",
          "name": "stdout",
          "text": [
            "Missing data [%]\n"
          ]
        },
        {
          "output_type": "execute_result",
          "data": {
            "text/plain": [
              "User-ID                 0.0000\n",
              "ISBN                    0.0000\n",
              "Book-Rating             0.0000\n",
              "Location                0.0000\n",
              "Age                    26.9446\n",
              "Book-Title              0.0000\n",
              "Book-Author             0.0001\n",
              "Year-Of-Publication     0.0000\n",
              "Publisher               0.0002\n",
              "Image-URL-S             0.0000\n",
              "Image-URL-M             0.0000\n",
              "Image-URL-L             0.0004\n",
              "dtype: float64"
            ]
          },
          "metadata": {},
          "execution_count": 18
        }
      ]
    },
    {
      "cell_type": "code",
      "source": [
        "sns.distplot(data['Age'].dropna(), kde=False)"
      ],
      "metadata": {
        "colab": {
          "base_uri": "https://localhost:8080/",
          "height": 466
        },
        "id": "nFl2vMuF4SaV",
        "outputId": "63f83a41-923c-400b-df3d-bc7f82b1458a"
      },
      "execution_count": 19,
      "outputs": [
        {
          "output_type": "execute_result",
          "data": {
            "text/plain": [
              "<Axes: xlabel='Age'>"
            ]
          },
          "metadata": {},
          "execution_count": 19
        },
        {
          "output_type": "display_data",
          "data": {
            "text/plain": [
              "<Figure size 640x480 with 1 Axes>"
            ],
            "image/png": "[encoded data removed]"
          },
          "metadata": {}
        }
      ]
    },
    {
      "cell_type": "code",
      "source": [
        "print('Number of outliers: ', sum(data['Age'] > 100))"
      ],
      "metadata": {
        "colab": {
          "base_uri": "https://localhost:8080/"
        },
        "id": "GWN-f2Y44Sl4",
        "outputId": "99dcd128-be78-4fee-813e-5b28da115407"
      },
      "execution_count": 20,
      "outputs": [
        {
          "output_type": "stream",
          "name": "stdout",
          "text": [
            "Number of outliers:  2910\n"
          ]
        }
      ]
    },
    {
      "cell_type": "code",
      "source": [
        "#data['Book-Rating'] = data['Book-Rating'].replace(0, None)"
      ],
      "metadata": {
        "id": "fhdQDvg76VVV"
      },
      "execution_count": 21,
      "outputs": []
    },
    {
      "cell_type": "code",
      "source": [
        "sns.countplot(x='Book-Rating', data=data)"
      ],
      "metadata": {
        "colab": {
          "base_uri": "https://localhost:8080/",
          "height": 466
        },
        "id": "DgqekUyy4dsE",
        "outputId": "3438198a-8068-43c4-afbc-57f9410d73e2"
      },
      "execution_count": 22,
      "outputs": [
        {
          "output_type": "execute_result",
          "data": {
            "text/plain": [
              "<Axes: xlabel='Book-Rating', ylabel='count'>"
            ]
          },
          "metadata": {},
          "execution_count": 22
        },
        {
          "output_type": "display_data",
          "data": {
            "text/plain": [
              "<Figure size 640x480 with 1 Axes>"
            ],
            "image/png": "[encoded data removed]"
          },
          "metadata": {}
        }
      ]
    },
    {
      "cell_type": "code",
      "source": [
        "print('Average book rating: ', round(data['Book-Rating'].mean(), 2))"
      ],
      "metadata": {
        "colab": {
          "base_uri": "https://localhost:8080/"
        },
        "id": "k_gCtVTG4d2Z",
        "outputId": "4c189a6f-e410-4614-d114-44dc7c9814c3"
      },
      "execution_count": 24,
      "outputs": [
        {
          "output_type": "stream",
          "name": "stdout",
          "text": [
            "Average book rating:  2.84\n"
          ]
        }
      ]
    },
    {
      "cell_type": "code",
      "source": [
        "country = data['Location'].apply(lambda row: str(row).split(',')[-1])\n",
        "data.groupby(country)['Book-Rating'].count().sort_values(ascending=False).head(10)"
      ],
      "metadata": {
        "colab": {
          "base_uri": "https://localhost:8080/"
        },
        "id": "QpBPIoFk4eII",
        "outputId": "37b2a750-ffd3-4e65-fba3-3e96f8c11f09"
      },
      "execution_count": 23,
      "outputs": [
        {
          "output_type": "execute_result",
          "data": {
            "text/plain": [
              "Location\n",
              " usa               746466\n",
              " canada             93000\n",
              " united kingdom     33072\n",
              " germany            27657\n",
              "                    24259\n",
              " australia          18238\n",
              " spain              14968\n",
              " n/a                11177\n",
              " france             10639\n",
              " portugal            6980\n",
              "Name: Book-Rating, dtype: int64"
            ]
          },
          "metadata": {},
          "execution_count": 23
        }
      ]
    },
    {
      "cell_type": "markdown",
      "source": [
        "### Feature Engineering"
      ],
      "metadata": {
        "id": "7zgHgv4Y5apc"
      }
    },
    {
      "cell_type": "code",
      "source": [
        "# Cast to numeric\n",
        "data['Year-Of-Publication'] = pd.to_numeric(data['Year-Of-Publication'], 'coerce').fillna(2099, downcast = 'infer')"
      ],
      "metadata": {
        "id": "9sph086J4eLW"
      },
      "execution_count": 25,
      "outputs": []
    },
    {
      "cell_type": "code",
      "source": [
        "data['Book-Rating'] = data['Book-Rating'].replace(0, None)"
      ],
      "metadata": {
        "id": "ggqBBmQz3ir5"
      },
      "execution_count": 26,
      "outputs": []
    },
    {
      "cell_type": "code",
      "source": [
        "data['Age'] = np.where(data['Age']>90, None, data['Age'])"
      ],
      "metadata": {
        "id": "0pZYk6_Z6J52"
      },
      "execution_count": 27,
      "outputs": []
    },
    {
      "cell_type": "code",
      "source": [
        "data[['Book-Author', 'Publisher']] = data[['Book-Author', 'Publisher']].fillna('Unknown')"
      ],
      "metadata": {
        "id": "wfh8YDKQ6J_T"
      },
      "execution_count": 28,
      "outputs": []
    },
    {
      "cell_type": "code",
      "source": [
        "# Age\n",
        "median = data[\"Age\"].median()\n",
        "std = data[\"Age\"].std()\n",
        "is_null = data[\"Age\"].isnull().sum()\n",
        "rand_age = np.random.randint(median - std, median + std, size = is_null)\n",
        "age_slice = data[\"Age\"].copy()\n",
        "age_slice[pd.isnull(age_slice)] = rand_age\n",
        "data[\"Age\"] = age_slice\n",
        "data[\"Age\"] = data[\"Age\"].astype(int)"
      ],
      "metadata": {
        "id": "s3LhLpI06KKO"
      },
      "execution_count": 29,
      "outputs": []
    },
    {
      "cell_type": "markdown",
      "source": [
        "### Prep Data"
      ],
      "metadata": {
        "id": "y0nAy0w97HVY"
      }
    },
    {
      "cell_type": "code",
      "source": [
        "df = data"
      ],
      "metadata": {
        "id": "t0qS-fvL6KOc"
      },
      "execution_count": 30,
      "outputs": []
    },
    {
      "cell_type": "code",
      "source": [
        "# Relevant score\n",
        "df = df[df['Book-Rating'] >= 6]"
      ],
      "metadata": {
        "id": "8tDSLJrh6KSj"
      },
      "execution_count": 31,
      "outputs": []
    },
    {
      "cell_type": "code",
      "source": [
        "# Check\n",
        "df.groupby('ISBN')['User-ID'].count().describe()"
      ],
      "metadata": {
        "colab": {
          "base_uri": "https://localhost:8080/"
        },
        "id": "r35aDTxv6KWa",
        "outputId": "e4527041-e9d5-407a-b20f-d4303c7e7b74"
      },
      "execution_count": 32,
      "outputs": [
        {
          "output_type": "execute_result",
          "data": {
            "text/plain": [
              "count    129014.000000\n",
              "mean          2.495047\n",
              "std           7.023557\n",
              "min           1.000000\n",
              "25%           1.000000\n",
              "50%           1.000000\n",
              "75%           2.000000\n",
              "max         663.000000\n",
              "Name: User-ID, dtype: float64"
            ]
          },
          "metadata": {},
          "execution_count": 32
        }
      ]
    },
    {
      "cell_type": "code",
      "source": [
        "df = df.groupby('ISBN').filter(lambda x: len(x) >= 5)"
      ],
      "metadata": {
        "id": "dSu9g8Io6Kax"
      },
      "execution_count": 33,
      "outputs": []
    },
    {
      "cell_type": "code",
      "source": [
        "df.groupby('User-ID')['ISBN'].count().describe()"
      ],
      "metadata": {
        "colab": {
          "base_uri": "https://localhost:8080/"
        },
        "id": "U2bEHHVT7PQh",
        "outputId": "fd45b11d-078f-47e8-9b7b-495a858337e4"
      },
      "execution_count": 34,
      "outputs": [
        {
          "output_type": "execute_result",
          "data": {
            "text/plain": [
              "count    41859.000000\n",
              "mean         3.765642\n",
              "std         16.091125\n",
              "min          1.000000\n",
              "25%          1.000000\n",
              "50%          1.000000\n",
              "75%          3.000000\n",
              "max       2450.000000\n",
              "Name: ISBN, dtype: float64"
            ]
          },
          "metadata": {},
          "execution_count": 34
        }
      ]
    },
    {
      "cell_type": "code",
      "source": [
        "df = df.groupby('User-ID').filter(lambda x: len(x) >= 5)"
      ],
      "metadata": {
        "id": "jPpgKpVY7PZA"
      },
      "execution_count": 35,
      "outputs": []
    },
    {
      "cell_type": "code",
      "source": [
        "df.shape"
      ],
      "metadata": {
        "colab": {
          "base_uri": "https://localhost:8080/"
        },
        "id": "Gj1eoFLp7Pek",
        "outputId": "81f3e6f9-97a9-4d8f-ac87-a4394bc09e8f"
      },
      "execution_count": 36,
      "outputs": [
        {
          "output_type": "execute_result",
          "data": {
            "text/plain": [
              "(105350, 12)"
            ]
          },
          "metadata": {},
          "execution_count": 36
        }
      ]
    },
    {
      "cell_type": "markdown",
      "source": [
        "### Recommendation"
      ],
      "metadata": {
        "id": "nFziRgPQ7lp4"
      }
    },
    {
      "cell_type": "code",
      "source": [
        "df_p = df.pivot_table(index='ISBN', columns='User-ID', values='Book-Rating')"
      ],
      "metadata": {
        "id": "Vh3a8kVw7Pkh"
      },
      "execution_count": 37,
      "outputs": []
    },
    {
      "cell_type": "code",
      "source": [
        "df_p.columns"
      ],
      "metadata": {
        "colab": {
          "base_uri": "https://localhost:8080/"
        },
        "id": "et7XfTQl74yV",
        "outputId": "80ec4be5-50bd-40dc-ec4c-0fb69a38ebef"
      },
      "execution_count": 38,
      "outputs": [
        {
          "output_type": "execute_result",
          "data": {
            "text/plain": [
              "Int64Index([   114,    242,    243,    244,    254,    388,    503,    505,\n",
              "               507,    638,\n",
              "            ...\n",
              "            278356, 278390, 278418, 278522, 278535, 278554, 278582, 278633,\n",
              "            278694, 278843],\n",
              "           dtype='int64', name='User-ID', length=6310)"
            ]
          },
          "metadata": {},
          "execution_count": 38
        }
      ]
    },
    {
      "cell_type": "code",
      "source": [
        "# Select users who liked LOTR\n",
        "lotr = df_p.loc['0345339703'] # Lord of the Rings Part 1\n",
        "like_lotr = lotr[lotr == 10].to_frame().reset_index()\n",
        "users = like_lotr['User-ID'].to_frame()"
      ],
      "metadata": {
        "id": "9nRvg1pg6Kej"
      },
      "execution_count": 39,
      "outputs": []
    },
    {
      "cell_type": "code",
      "source": [
        "# Trim original dataset\n",
        "liked = pd.merge(users, df, on='User-ID', how='inner')"
      ],
      "metadata": {
        "id": "Qt1HZMpi7pTW"
      },
      "execution_count": 40,
      "outputs": []
    },
    {
      "cell_type": "code",
      "source": [
        "rating_count = liked.groupby('ISBN')['Book-Rating'].count().to_frame()\n",
        "rating_mean  = liked.groupby('ISBN')['Book-Rating'].mean().to_frame()"
      ],
      "metadata": {
        "id": "l-uL9OUr7pY6"
      },
      "execution_count": 41,
      "outputs": []
    },
    {
      "cell_type": "code",
      "source": [
        "rating_count.rename(columns={'Book-Rating':'Rating-Count'}, inplace=True)\n",
        "rating_mean.rename(columns={'Book-Rating':'Rating-Mean'}, inplace=True)"
      ],
      "metadata": {
        "id": "-XV6VuBR8YPb"
      },
      "execution_count": 42,
      "outputs": []
    },
    {
      "cell_type": "code",
      "source": [
        "liked = pd.merge(liked, rating_count, on='ISBN', how='inner')"
      ],
      "metadata": {
        "id": "Dz_oUCNn8YcO"
      },
      "execution_count": 43,
      "outputs": []
    },
    {
      "cell_type": "code",
      "source": [
        "liked = pd.merge(liked, rating_mean, on='ISBN', how='inner')"
      ],
      "metadata": {
        "id": "SF6QWymF8YmG"
      },
      "execution_count": 44,
      "outputs": []
    },
    {
      "cell_type": "code",
      "source": [
        "liked['Rating-Mean'] = liked['Rating-Mean'].round(2)"
      ],
      "metadata": {
        "id": "-ZH353MH8kqe"
      },
      "execution_count": 45,
      "outputs": []
    },
    {
      "cell_type": "code",
      "source": [
        "liked['Rating-Count'].hist()"
      ],
      "metadata": {
        "colab": {
          "base_uri": "https://localhost:8080/",
          "height": 447
        },
        "id": "klzSj4nJ8kzi",
        "outputId": "97652a2b-4f2e-4326-ce83-3cd1b5db3bf4"
      },
      "execution_count": 46,
      "outputs": [
        {
          "output_type": "execute_result",
          "data": {
            "text/plain": [
              "<Axes: >"
            ]
          },
          "metadata": {},
          "execution_count": 46
        },
        {
          "output_type": "display_data",
          "data": {
            "text/plain": [
              "<Figure size 640x480 with 1 Axes>"
            ],
            "image/png": "[encoded data removed]"
          },
          "metadata": {}
        }
      ]
    },
    {
      "cell_type": "code",
      "source": [
        "C = liked['Rating-Mean'].mean()\n",
        "C"
      ],
      "metadata": {
        "colab": {
          "base_uri": "https://localhost:8080/"
        },
        "id": "H-q6bY2Q8k7g",
        "outputId": "ff6647f1-9e25-4df0-db7b-e8e25f105c59"
      },
      "execution_count": 47,
      "outputs": [
        {
          "output_type": "execute_result",
          "data": {
            "text/plain": [
              "8.89911238825032"
            ]
          },
          "metadata": {},
          "execution_count": 47
        }
      ]
    },
    {
      "cell_type": "code",
      "source": [
        "m = rating_count.quantile(.995)[0] # .9\n",
        "m"
      ],
      "metadata": {
        "colab": {
          "base_uri": "https://localhost:8080/"
        },
        "id": "ciBEGBnk7peJ",
        "outputId": "7206c3c8-3d39-4370-b12a-a0bb02064e2a"
      },
      "execution_count": 48,
      "outputs": [
        {
          "output_type": "execute_result",
          "data": {
            "text/plain": [
              "6.0"
            ]
          },
          "metadata": {},
          "execution_count": 48
        }
      ]
    },
    {
      "cell_type": "code",
      "source": [
        "# IMDB formula; source: http://trailerpark.weebly.com/imdb-rating.html?source=post_page---------------------------\n",
        "def weighted_rating(x, m=m, C=C):\n",
        "    v = x['Rating-Count']\n",
        "    R = x['Rating-Mean']\n",
        "\n",
        "    return (v/(v+m) * R) + (m/(m+v) * C)"
      ],
      "metadata": {
        "id": "MnyHkDbh8t1L"
      },
      "execution_count": 49,
      "outputs": []
    },
    {
      "cell_type": "code",
      "source": [
        "# Create relevant sub-dataset\n",
        "liked_q = liked.copy().loc[liked['Rating-Count'] >= m]\n",
        "liked_q.shape"
      ],
      "metadata": {
        "colab": {
          "base_uri": "https://localhost:8080/"
        },
        "id": "0O5vnuYT8t6O",
        "outputId": "d8fe1334-7456-40e5-81b9-e78bb757687b"
      },
      "execution_count": 50,
      "outputs": [
        {
          "output_type": "execute_result",
          "data": {
            "text/plain": [
              "(134, 14)"
            ]
          },
          "metadata": {},
          "execution_count": 50
        }
      ]
    },
    {
      "cell_type": "code",
      "source": [
        "liked_q['Score'] = liked_q.apply(weighted_rating, axis=1)"
      ],
      "metadata": {
        "id": "1tsjXixJ8uBd"
      },
      "execution_count": 51,
      "outputs": []
    },
    {
      "cell_type": "markdown",
      "source": [
        "### Get Top 10 Best Rated Books"
      ],
      "metadata": {
        "id": "myydzIlM85wc"
      }
    },
    {
      "cell_type": "code",
      "source": [
        "top_r = liked_q[['Book-Title', 'Rating-Mean']]"
      ],
      "metadata": {
        "id": "DdoYvMoX8uIK"
      },
      "execution_count": 52,
      "outputs": []
    },
    {
      "cell_type": "code",
      "source": [
        "top_r = top_r.groupby(['Book-Title'])['Rating-Mean'].mean().to_frame()"
      ],
      "metadata": {
        "id": "2DBTa4kv83-m"
      },
      "execution_count": 53,
      "outputs": []
    },
    {
      "cell_type": "code",
      "source": [
        "top_r.sort_values(by='Rating-Mean', ascending=False).head(10)"
      ],
      "metadata": {
        "colab": {
          "base_uri": "https://localhost:8080/",
          "height": 363
        },
        "id": "hpy13kAd84FV",
        "outputId": "ed4c158f-750d-4153-cdc0-ce8295b60ad3"
      },
      "execution_count": 54,
      "outputs": [
        {
          "output_type": "execute_result",
          "data": {
            "text/plain": [
              "                                                    Rating-Mean\n",
              "Book-Title                                                     \n",
              "The Fellowship of the Ring (The Lord of the Rin...        10.00\n",
              "The Return of the King (The Lord of the Rings, ...        10.00\n",
              "The Hobbit : The Enchanting Prelude to The Lord...         9.93\n",
              "The Two Towers (The Lord of the Rings, Part 2)             9.81\n",
              "Ender's Game (Ender Wiggins Saga (Paperback))              9.67\n",
              "Harry Potter and the Goblet of Fire (Book 4)               9.67\n",
              "Harry Potter and the Order of the Phoenix (Book 5)         9.67\n",
              "Harry Potter and the Chamber of Secrets (Book 2)           9.29\n",
              "Harry Potter and the Sorcerer's Stone (Harry Po...         9.17"
            ],
            "text/html": [
              "\n",
              "  <div id=\"df-5bacc185-908a-4bf2-a4a1-19b267813de4\" class=\"colab-df-container\">\n",
              "    <div>\n",
              "<style scoped>\n",
              "    .dataframe tbody tr th:only-of-type {\n",
              "        vertical-align: middle;\n",
              "    }\n",
              "\n",
              "    .dataframe tbody tr th {\n",
              "        vertical-align: top;\n",
              "    }\n",
              "\n",
              "    .dataframe thead th {\n",
              "        text-align: right;\n",
              "    }\n",
              "</style>\n",
              "<table border=\"1\" class=\"dataframe\">\n",
              "  <thead>\n",
              "    <tr style=\"text-align: right;\">\n",
              "      <th></th>\n",
              "      <th>Rating-Mean</th>\n",
              "    </tr>\n",
              "    <tr>\n",
              "      <th>Book-Title</th>\n",
              "      <th></th>\n",
              "    </tr>\n",
              "  </thead>\n",
              "  <tbody>\n",
              "    <tr>\n",
              "      <th>The Fellowship of the Ring (The Lord of the Rings, Part 1)</th>\n",
              "      <td>10.00</td>\n",
              "    </tr>\n",
              "    <tr>\n",
              "      <th>The Return of the King (The Lord of the Rings, Part 3)</th>\n",
              "      <td>10.00</td>\n",
              "    </tr>\n",
              "    <tr>\n",
              "      <th>The Hobbit : The Enchanting Prelude to The Lord of the Rings</th>\n",
              "      <td>9.93</td>\n",
              "    </tr>\n",
              "    <tr>\n",
              "      <th>The Two Towers (The Lord of the Rings, Part 2)</th>\n",
              "      <td>9.81</td>\n",
              "    </tr>\n",
              "    <tr>\n",
              "      <th>Ender's Game (Ender Wiggins Saga (Paperback))</th>\n",
              "      <td>9.67</td>\n",
              "    </tr>\n",
              "    <tr>\n",
              "      <th>Harry Potter and the Goblet of Fire (Book 4)</th>\n",
              "      <td>9.67</td>\n",
              "    </tr>\n",
              "    <tr>\n",
              "      <th>Harry Potter and the Order of the Phoenix (Book 5)</th>\n",
              "      <td>9.67</td>\n",
              "    </tr>\n",
              "    <tr>\n",
              "      <th>Harry Potter and the Chamber of Secrets (Book 2)</th>\n",
              "      <td>9.29</td>\n",
              "    </tr>\n",
              "    <tr>\n",
              "      <th>Harry Potter and the Sorcerer's Stone (Harry Potter (Paperback))</th>\n",
              "      <td>9.17</td>\n",
              "    </tr>\n",
              "  </tbody>\n",
              "</table>\n",
              "</div>\n",
              "    <div class=\"colab-df-buttons\">\n",
              "\n",
              "  <div class=\"colab-df-container\">\n",
              "    <button class=\"colab-df-convert\" onclick=\"convertToInteractive('df-5bacc185-908a-4bf2-a4a1-19b267813de4')\"\n",
              "            title=\"Convert this dataframe to an interactive table.\"\n",
              "            style=\"display:none;\">\n",
              "\n",
              "  <svg xmlns=\"http://www.w3.org/2000/svg\" height=\"24px\" viewBox=\"0 -960 960 960\">\n",
              "    <path d=\"M120-120v-720h720v720H120Zm60-500h600v-160H180v160Zm220 220h160v-160H400v160Zm0 220h160v-160H400v160ZM180-400h160v-160H180v160Zm440 0h160v-160H620v160ZM180-180h160v-160H180v160Zm440 0h160v-160H620v160Z\"/>\n",
              "  </svg>\n",
              "    </button>\n",
              "\n",
              "  <style>\n",
              "    .colab-df-container {\n",
              "      display:flex;\n",
              "      gap: 12px;\n",
              "    }\n",
              "\n",
              "    .colab-df-convert {\n",
              "      background-color: #E8F0FE;\n",
              "      border: none;\n",
              "      border-radius: 50%;\n",
              "      cursor: pointer;\n",
              "      display: none;\n",
              "      fill: #1967D2;\n",
              "      height: 32px;\n",
              "      padding: 0 0 0 0;\n",
              "      width: 32px;\n",
              "    }\n",
              "\n",
              "    .colab-df-convert:hover {\n",
              "      background-color: #E2EBFA;\n",
              "      box-shadow: 0px 1px 2px rgba(60, 64, 67, 0.3), 0px 1px 3px 1px rgba(60, 64, 67, 0.15);\n",
              "      fill: #174EA6;\n",
              "    }\n",
              "\n",
              "    .colab-df-buttons div {\n",
              "      margin-bottom: 4px;\n",
              "    }\n",
              "\n",
              "    [theme=dark] .colab-df-convert {\n",
              "      background-color: #3B4455;\n",
              "      fill: #D2E3FC;\n",
              "    }\n",
              "\n",
              "    [theme=dark] .colab-df-convert:hover {\n",
              "      background-color: #434B5C;\n",
              "      box-shadow: 0px 1px 3px 1px rgba(0, 0, 0, 0.15);\n",
              "      filter: drop-shadow(0px 1px 2px rgba(0, 0, 0, 0.3));\n",
              "      fill: #FFFFFF;\n",
              "    }\n",
              "  </style>\n",
              "\n",
              "    <script>\n",
              "      const buttonEl =\n",
              "        document.querySelector('#df-5bacc185-908a-4bf2-a4a1-19b267813de4 button.colab-df-convert');\n",
              "      buttonEl.style.display =\n",
              "        google.colab.kernel.accessAllowed ? 'block' : 'none';\n",
              "\n",
              "      async function convertToInteractive(key) {\n",
              "        const element = document.querySelector('#df-5bacc185-908a-4bf2-a4a1-19b267813de4');\n",
              "        const dataTable =\n",
              "          await google.colab.kernel.invokeFunction('convertToInteractive',\n",
              "                                                    [key], {});\n",
              "        if (!dataTable) return;\n",
              "\n",
              "        const docLinkHtml = 'Like what you see? Visit the ' +\n",
              "          '<a target=\"_blank\" href=https://colab.research.google.com/notebooks/data_table.ipynb>data table notebook</a>'\n",
              "          + ' to learn more about interactive tables.';\n",
              "        element.innerHTML = '';\n",
              "        dataTable['output_type'] = 'display_data';\n",
              "        await google.colab.output.renderOutput(dataTable, element);\n",
              "        const docLink = document.createElement('div');\n",
              "        docLink.innerHTML = docLinkHtml;\n",
              "        element.appendChild(docLink);\n",
              "      }\n",
              "    </script>\n",
              "  </div>\n",
              "\n",
              "\n",
              "<div id=\"df-51e43176-bb2d-4847-af1d-40d090396f98\">\n",
              "  <button class=\"colab-df-quickchart\" onclick=\"quickchart('df-51e43176-bb2d-4847-af1d-40d090396f98')\"\n",
              "            title=\"Suggest charts\"\n",
              "            style=\"display:none;\">\n",
              "\n",
              "<svg xmlns=\"http://www.w3.org/2000/svg\" height=\"24px\"viewBox=\"0 0 24 24\"\n",
              "     width=\"24px\">\n",
              "    <g>\n",
              "        <path d=\"M19 3H5c-1.1 0-2 .9-2 2v14c0 1.1.9 2 2 2h14c1.1 0 2-.9 2-2V5c0-1.1-.9-2-2-2zM9 17H7v-7h2v7zm4 0h-2V7h2v10zm4 0h-2v-4h2v4z\"/>\n",
              "    </g>\n",
              "</svg>\n",
              "  </button>\n",
              "\n",
              "<style>\n",
              "  .colab-df-quickchart {\n",
              "      --bg-color: #E8F0FE;\n",
              "      --fill-color: #1967D2;\n",
              "      --hover-bg-color: #E2EBFA;\n",
              "      --hover-fill-color: #174EA6;\n",
              "      --disabled-fill-color: #AAA;\n",
              "      --disabled-bg-color: #DDD;\n",
              "  }\n",
              "\n",
              "  [theme=dark] .colab-df-quickchart {\n",
              "      --bg-color: #3B4455;\n",
              "      --fill-color: #D2E3FC;\n",
              "      --hover-bg-color: #434B5C;\n",
              "      --hover-fill-color: #FFFFFF;\n",
              "      --disabled-bg-color: #3B4455;\n",
              "      --disabled-fill-color: #666;\n",
              "  }\n",
              "\n",
              "  .colab-df-quickchart {\n",
              "    background-color: var(--bg-color);\n",
              "    border: none;\n",
              "    border-radius: 50%;\n",
              "    cursor: pointer;\n",
              "    display: none;\n",
              "    fill: var(--fill-color);\n",
              "    height: 32px;\n",
              "    padding: 0;\n",
              "    width: 32px;\n",
              "  }\n",
              "\n",
              "  .colab-df-quickchart:hover {\n",
              "    background-color: var(--hover-bg-color);\n",
              "    box-shadow: 0 1px 2px rgba(60, 64, 67, 0.3), 0 1px 3px 1px rgba(60, 64, 67, 0.15);\n",
              "    fill: var(--button-hover-fill-color);\n",
              "  }\n",
              "\n",
              "  .colab-df-quickchart-complete:disabled,\n",
              "  .colab-df-quickchart-complete:disabled:hover {\n",
              "    background-color: var(--disabled-bg-color);\n",
              "    fill: var(--disabled-fill-color);\n",
              "    box-shadow: none;\n",
              "  }\n",
              "\n",
              "  .colab-df-spinner {\n",
              "    border: 2px solid var(--fill-color);\n",
              "    border-color: transparent;\n",
              "    border-bottom-color: var(--fill-color);\n",
              "    animation:\n",
              "      spin 1s steps(1) infinite;\n",
              "  }\n",
              "\n",
              "  @keyframes spin {\n",
              "    0% {\n",
              "      border-color: transparent;\n",
              "      border-bottom-color: var(--fill-color);\n",
              "      border-left-color: var(--fill-color);\n",
              "    }\n",
              "    20% {\n",
              "      border-color: transparent;\n",
              "      border-left-color: var(--fill-color);\n",
              "      border-top-color: var(--fill-color);\n",
              "    }\n",
              "    30% {\n",
              "      border-color: transparent;\n",
              "      border-left-color: var(--fill-color);\n",
              "      border-top-color: var(--fill-color);\n",
              "      border-right-color: var(--fill-color);\n",
              "    }\n",
              "    40% {\n",
              "      border-color: transparent;\n",
              "      border-right-color: var(--fill-color);\n",
              "      border-top-color: var(--fill-color);\n",
              "    }\n",
              "    60% {\n",
              "      border-color: transparent;\n",
              "      border-right-color: var(--fill-color);\n",
              "    }\n",
              "    80% {\n",
              "      border-color: transparent;\n",
              "      border-right-color: var(--fill-color);\n",
              "      border-bottom-color: var(--fill-color);\n",
              "    }\n",
              "    90% {\n",
              "      border-color: transparent;\n",
              "      border-bottom-color: var(--fill-color);\n",
              "    }\n",
              "  }\n",
              "</style>\n",
              "\n",
              "  <script>\n",
              "    async function quickchart(key) {\n",
              "      const quickchartButtonEl =\n",
              "        document.querySelector('#' + key + ' button');\n",
              "      quickchartButtonEl.disabled = true;  // To prevent multiple clicks.\n",
              "      quickchartButtonEl.classList.add('colab-df-spinner');\n",
              "      try {\n",
              "        const charts = await google.colab.kernel.invokeFunction(\n",
              "            'suggestCharts', [key], {});\n",
              "      } catch (error) {\n",
              "        console.error('Error during call to suggestCharts:', error);\n",
              "      }\n",
              "      quickchartButtonEl.classList.remove('colab-df-spinner');\n",
              "      quickchartButtonEl.classList.add('colab-df-quickchart-complete');\n",
              "    }\n",
              "    (() => {\n",
              "      let quickchartButtonEl =\n",
              "        document.querySelector('#df-51e43176-bb2d-4847-af1d-40d090396f98 button');\n",
              "      quickchartButtonEl.style.display =\n",
              "        google.colab.kernel.accessAllowed ? 'block' : 'none';\n",
              "    })();\n",
              "  </script>\n",
              "</div>\n",
              "    </div>\n",
              "  </div>\n"
            ],
            "application/vnd.google.colaboratory.intrinsic+json": {
              "type": "dataframe",
              "summary": "{\n  \"name\": \"top_r\",\n  \"rows\": 9,\n  \"fields\": [\n    {\n      \"column\": \"Book-Title\",\n      \"properties\": {\n        \"dtype\": \"string\",\n        \"num_unique_values\": 9,\n        \"samples\": [\n          \"Harry Potter and the Chamber of Secrets (Book 2)\",\n          \"The Return of the King (The Lord of the Rings, Part 3)\",\n          \"Harry Potter and the Goblet of Fire (Book 4)\"\n        ],\n        \"semantic_type\": \"\",\n        \"description\": \"\"\n      }\n    },\n    {\n      \"column\": \"Rating-Mean\",\n      \"properties\": {\n        \"dtype\": \"number\",\n        \"std\": 0.2949152420611724,\n        \"min\": 9.17,\n        \"max\": 10.0,\n        \"num_unique_values\": 6,\n        \"samples\": [\n          10.0,\n          9.93,\n          9.17\n        ],\n        \"semantic_type\": \"\",\n        \"description\": \"\"\n      }\n    }\n  ]\n}"
            }
          },
          "metadata": {},
          "execution_count": 54
        }
      ]
    },
    {
      "cell_type": "markdown",
      "source": [
        "### Most Popular"
      ],
      "metadata": {
        "id": "0JZEZfo59Pe2"
      }
    },
    {
      "cell_type": "code",
      "source": [
        "top_p = liked[['Book-Title', 'Rating-Count']]"
      ],
      "metadata": {
        "id": "WE99VS8F84LC"
      },
      "execution_count": 55,
      "outputs": []
    },
    {
      "cell_type": "code",
      "source": [
        "top_p = top_p.groupby(['Book-Title'])['Rating-Count'].mean().to_frame()"
      ],
      "metadata": {
        "id": "b7iUHMvg84RW"
      },
      "execution_count": 56,
      "outputs": []
    },
    {
      "cell_type": "code",
      "source": [
        "top_p.sort_values(by='Rating-Count', ascending=False).head(10)#.plot(kind='barh')"
      ],
      "metadata": {
        "colab": {
          "base_uri": "https://localhost:8080/",
          "height": 395
        },
        "id": "DwS4uSWK3ivA",
        "outputId": "b5cffc9f-90c9-48c0-867f-dce3e73f3993"
      },
      "execution_count": 57,
      "outputs": [
        {
          "output_type": "execute_result",
          "data": {
            "text/plain": [
              "                                                    Rating-Count\n",
              "Book-Title                                                      \n",
              "The Fellowship of the Ring (The Lord of the Rin...     45.000000\n",
              "The Return of the King (The Lord of the Rings, ...     22.000000\n",
              "The Two Towers (The Lord of the Rings, Part 2)         20.090909\n",
              "The Hobbit : The Enchanting Prelude to The Lord...     15.000000\n",
              "Harry Potter and the Sorcerer's Stone (Harry Po...      6.000000\n",
              "Ender's Game (Ender Wiggins Saga (Paperback))           6.000000\n",
              "Harry Potter and the Order of the Phoenix (Book 5)      6.000000\n",
              "Harry Potter and the Chamber of Secrets (Book 2)        5.800000\n",
              "Harry Potter and the Goblet of Fire (Book 4)            5.000000\n",
              "The Da Vinci Code                                       4.000000"
            ],
            "text/html": [
              "\n",
              "  <div id=\"df-a76468c1-6898-4732-9f45-9f7ade25e014\" class=\"colab-df-container\">\n",
              "    <div>\n",
              "<style scoped>\n",
              "    .dataframe tbody tr th:only-of-type {\n",
              "        vertical-align: middle;\n",
              "    }\n",
              "\n",
              "    .dataframe tbody tr th {\n",
              "        vertical-align: top;\n",
              "    }\n",
              "\n",
              "    .dataframe thead th {\n",
              "        text-align: right;\n",
              "    }\n",
              "</style>\n",
              "<table border=\"1\" class=\"dataframe\">\n",
              "  <thead>\n",
              "    <tr style=\"text-align: right;\">\n",
              "      <th></th>\n",
              "      <th>Rating-Count</th>\n",
              "    </tr>\n",
              "    <tr>\n",
              "      <th>Book-Title</th>\n",
              "      <th></th>\n",
              "    </tr>\n",
              "  </thead>\n",
              "  <tbody>\n",
              "    <tr>\n",
              "      <th>The Fellowship of the Ring (The Lord of the Rings, Part 1)</th>\n",
              "      <td>45.000000</td>\n",
              "    </tr>\n",
              "    <tr>\n",
              "      <th>The Return of the King (The Lord of the Rings, Part 3)</th>\n",
              "      <td>22.000000</td>\n",
              "    </tr>\n",
              "    <tr>\n",
              "      <th>The Two Towers (The Lord of the Rings, Part 2)</th>\n",
              "      <td>20.090909</td>\n",
              "    </tr>\n",
              "    <tr>\n",
              "      <th>The Hobbit : The Enchanting Prelude to The Lord of the Rings</th>\n",
              "      <td>15.000000</td>\n",
              "    </tr>\n",
              "    <tr>\n",
              "      <th>Harry Potter and the Sorcerer's Stone (Harry Potter (Paperback))</th>\n",
              "      <td>6.000000</td>\n",
              "    </tr>\n",
              "    <tr>\n",
              "      <th>Ender's Game (Ender Wiggins Saga (Paperback))</th>\n",
              "      <td>6.000000</td>\n",
              "    </tr>\n",
              "    <tr>\n",
              "      <th>Harry Potter and the Order of the Phoenix (Book 5)</th>\n",
              "      <td>6.000000</td>\n",
              "    </tr>\n",
              "    <tr>\n",
              "      <th>Harry Potter and the Chamber of Secrets (Book 2)</th>\n",
              "      <td>5.800000</td>\n",
              "    </tr>\n",
              "    <tr>\n",
              "      <th>Harry Potter and the Goblet of Fire (Book 4)</th>\n",
              "      <td>5.000000</td>\n",
              "    </tr>\n",
              "    <tr>\n",
              "      <th>The Da Vinci Code</th>\n",
              "      <td>4.000000</td>\n",
              "    </tr>\n",
              "  </tbody>\n",
              "</table>\n",
              "</div>\n",
              "    <div class=\"colab-df-buttons\">\n",
              "\n",
              "  <div class=\"colab-df-container\">\n",
              "    <button class=\"colab-df-convert\" onclick=\"convertToInteractive('df-a76468c1-6898-4732-9f45-9f7ade25e014')\"\n",
              "            title=\"Convert this dataframe to an interactive table.\"\n",
              "            style=\"display:none;\">\n",
              "\n",
              "  <svg xmlns=\"http://www.w3.org/2000/svg\" height=\"24px\" viewBox=\"0 -960 960 960\">\n",
              "    <path d=\"M120-120v-720h720v720H120Zm60-500h600v-160H180v160Zm220 220h160v-160H400v160Zm0 220h160v-160H400v160ZM180-400h160v-160H180v160Zm440 0h160v-160H620v160ZM180-180h160v-160H180v160Zm440 0h160v-160H620v160Z\"/>\n",
              "  </svg>\n",
              "    </button>\n",
              "\n",
              "  <style>\n",
              "    .colab-df-container {\n",
              "      display:flex;\n",
              "      gap: 12px;\n",
              "    }\n",
              "\n",
              "    .colab-df-convert {\n",
              "      background-color: #E8F0FE;\n",
              "      border: none;\n",
              "      border-radius: 50%;\n",
              "      cursor: pointer;\n",
              "      display: none;\n",
              "      fill: #1967D2;\n",
              "      height: 32px;\n",
              "      padding: 0 0 0 0;\n",
              "      width: 32px;\n",
              "    }\n",
              "\n",
              "    .colab-df-convert:hover {\n",
              "      background-color: #E2EBFA;\n",
              "      box-shadow: 0px 1px 2px rgba(60, 64, 67, 0.3), 0px 1px 3px 1px rgba(60, 64, 67, 0.15);\n",
              "      fill: #174EA6;\n",
              "    }\n",
              "\n",
              "    .colab-df-buttons div {\n",
              "      margin-bottom: 4px;\n",
              "    }\n",
              "\n",
              "    [theme=dark] .colab-df-convert {\n",
              "      background-color: #3B4455;\n",
              "      fill: #D2E3FC;\n",
              "    }\n",
              "\n",
              "    [theme=dark] .colab-df-convert:hover {\n",
              "      background-color: #434B5C;\n",
              "      box-shadow: 0px 1px 3px 1px rgba(0, 0, 0, 0.15);\n",
              "      filter: drop-shadow(0px 1px 2px rgba(0, 0, 0, 0.3));\n",
              "      fill: #FFFFFF;\n",
              "    }\n",
              "  </style>\n",
              "\n",
              "    <script>\n",
              "      const buttonEl =\n",
              "        document.querySelector('#df-a76468c1-6898-4732-9f45-9f7ade25e014 button.colab-df-convert');\n",
              "      buttonEl.style.display =\n",
              "        google.colab.kernel.accessAllowed ? 'block' : 'none';\n",
              "\n",
              "      async function convertToInteractive(key) {\n",
              "        const element = document.querySelector('#df-a76468c1-6898-4732-9f45-9f7ade25e014');\n",
              "        const dataTable =\n",
              "          await google.colab.kernel.invokeFunction('convertToInteractive',\n",
              "                                                    [key], {});\n",
              "        if (!dataTable) return;\n",
              "\n",
              "        const docLinkHtml = 'Like what you see? Visit the ' +\n",
              "          '<a target=\"_blank\" href=https://colab.research.google.com/notebooks/data_table.ipynb>data table notebook</a>'\n",
              "          + ' to learn more about interactive tables.';\n",
              "        element.innerHTML = '';\n",
              "        dataTable['output_type'] = 'display_data';\n",
              "        await google.colab.output.renderOutput(dataTable, element);\n",
              "        const docLink = document.createElement('div');\n",
              "        docLink.innerHTML = docLinkHtml;\n",
              "        element.appendChild(docLink);\n",
              "      }\n",
              "    </script>\n",
              "  </div>\n",
              "\n",
              "\n",
              "<div id=\"df-acde5242-1050-4564-b54b-aabc4d8efe0f\">\n",
              "  <button class=\"colab-df-quickchart\" onclick=\"quickchart('df-acde5242-1050-4564-b54b-aabc4d8efe0f')\"\n",
              "            title=\"Suggest charts\"\n",
              "            style=\"display:none;\">\n",
              "\n",
              "<svg xmlns=\"http://www.w3.org/2000/svg\" height=\"24px\"viewBox=\"0 0 24 24\"\n",
              "     width=\"24px\">\n",
              "    <g>\n",
              "        <path d=\"M19 3H5c-1.1 0-2 .9-2 2v14c0 1.1.9 2 2 2h14c1.1 0 2-.9 2-2V5c0-1.1-.9-2-2-2zM9 17H7v-7h2v7zm4 0h-2V7h2v10zm4 0h-2v-4h2v4z\"/>\n",
              "    </g>\n",
              "</svg>\n",
              "  </button>\n",
              "\n",
              "<style>\n",
              "  .colab-df-quickchart {\n",
              "      --bg-color: #E8F0FE;\n",
              "      --fill-color: #1967D2;\n",
              "      --hover-bg-color: #E2EBFA;\n",
              "      --hover-fill-color: #174EA6;\n",
              "      --disabled-fill-color: #AAA;\n",
              "      --disabled-bg-color: #DDD;\n",
              "  }\n",
              "\n",
              "  [theme=dark] .colab-df-quickchart {\n",
              "      --bg-color: #3B4455;\n",
              "      --fill-color: #D2E3FC;\n",
              "      --hover-bg-color: #434B5C;\n",
              "      --hover-fill-color: #FFFFFF;\n",
              "      --disabled-bg-color: #3B4455;\n",
              "      --disabled-fill-color: #666;\n",
              "  }\n",
              "\n",
              "  .colab-df-quickchart {\n",
              "    background-color: var(--bg-color);\n",
              "    border: none;\n",
              "    border-radius: 50%;\n",
              "    cursor: pointer;\n",
              "    display: none;\n",
              "    fill: var(--fill-color);\n",
              "    height: 32px;\n",
              "    padding: 0;\n",
              "    width: 32px;\n",
              "  }\n",
              "\n",
              "  .colab-df-quickchart:hover {\n",
              "    background-color: var(--hover-bg-color);\n",
              "    box-shadow: 0 1px 2px rgba(60, 64, 67, 0.3), 0 1px 3px 1px rgba(60, 64, 67, 0.15);\n",
              "    fill: var(--button-hover-fill-color);\n",
              "  }\n",
              "\n",
              "  .colab-df-quickchart-complete:disabled,\n",
              "  .colab-df-quickchart-complete:disabled:hover {\n",
              "    background-color: var(--disabled-bg-color);\n",
              "    fill: var(--disabled-fill-color);\n",
              "    box-shadow: none;\n",
              "  }\n",
              "\n",
              "  .colab-df-spinner {\n",
              "    border: 2px solid var(--fill-color);\n",
              "    border-color: transparent;\n",
              "    border-bottom-color: var(--fill-color);\n",
              "    animation:\n",
              "      spin 1s steps(1) infinite;\n",
              "  }\n",
              "\n",
              "  @keyframes spin {\n",
              "    0% {\n",
              "      border-color: transparent;\n",
              "      border-bottom-color: var(--fill-color);\n",
              "      border-left-color: var(--fill-color);\n",
              "    }\n",
              "    20% {\n",
              "      border-color: transparent;\n",
              "      border-left-color: var(--fill-color);\n",
              "      border-top-color: var(--fill-color);\n",
              "    }\n",
              "    30% {\n",
              "      border-color: transparent;\n",
              "      border-left-color: var(--fill-color);\n",
              "      border-top-color: var(--fill-color);\n",
              "      border-right-color: var(--fill-color);\n",
              "    }\n",
              "    40% {\n",
              "      border-color: transparent;\n",
              "      border-right-color: var(--fill-color);\n",
              "      border-top-color: var(--fill-color);\n",
              "    }\n",
              "    60% {\n",
              "      border-color: transparent;\n",
              "      border-right-color: var(--fill-color);\n",
              "    }\n",
              "    80% {\n",
              "      border-color: transparent;\n",
              "      border-right-color: var(--fill-color);\n",
              "      border-bottom-color: var(--fill-color);\n",
              "    }\n",
              "    90% {\n",
              "      border-color: transparent;\n",
              "      border-bottom-color: var(--fill-color);\n",
              "    }\n",
              "  }\n",
              "</style>\n",
              "\n",
              "  <script>\n",
              "    async function quickchart(key) {\n",
              "      const quickchartButtonEl =\n",
              "        document.querySelector('#' + key + ' button');\n",
              "      quickchartButtonEl.disabled = true;  // To prevent multiple clicks.\n",
              "      quickchartButtonEl.classList.add('colab-df-spinner');\n",
              "      try {\n",
              "        const charts = await google.colab.kernel.invokeFunction(\n",
              "            'suggestCharts', [key], {});\n",
              "      } catch (error) {\n",
              "        console.error('Error during call to suggestCharts:', error);\n",
              "      }\n",
              "      quickchartButtonEl.classList.remove('colab-df-spinner');\n",
              "      quickchartButtonEl.classList.add('colab-df-quickchart-complete');\n",
              "    }\n",
              "    (() => {\n",
              "      let quickchartButtonEl =\n",
              "        document.querySelector('#df-acde5242-1050-4564-b54b-aabc4d8efe0f button');\n",
              "      quickchartButtonEl.style.display =\n",
              "        google.colab.kernel.accessAllowed ? 'block' : 'none';\n",
              "    })();\n",
              "  </script>\n",
              "</div>\n",
              "    </div>\n",
              "  </div>\n"
            ],
            "application/vnd.google.colaboratory.intrinsic+json": {
              "type": "dataframe",
              "summary": "{\n  \"name\": \"top_p\",\n  \"rows\": 10,\n  \"fields\": [\n    {\n      \"column\": \"Book-Title\",\n      \"properties\": {\n        \"dtype\": \"string\",\n        \"num_unique_values\": 10,\n        \"samples\": [\n          \"Harry Potter and the Goblet of Fire (Book 4)\",\n          \"The Return of the King (The Lord of the Rings, Part 3)\",\n          \"Ender's Game (Ender Wiggins Saga (Paperback))\"\n        ],\n        \"semantic_type\": \"\",\n        \"description\": \"\"\n      }\n    },\n    {\n      \"column\": \"Rating-Count\",\n      \"properties\": {\n        \"dtype\": \"number\",\n        \"std\": 12.913080760574111,\n        \"min\": 4.0,\n        \"max\": 45.0,\n        \"num_unique_values\": 8,\n        \"samples\": [\n          22.0,\n          5.8,\n          45.0\n        ],\n        \"semantic_type\": \"\",\n        \"description\": \"\"\n      }\n    }\n  ]\n}"
            }
          },
          "metadata": {},
          "execution_count": 57
        }
      ]
    },
    {
      "cell_type": "markdown",
      "source": [
        "# Configure Wide and Deep"
      ],
      "metadata": {
        "id": "IQnairlTBSYG"
      }
    },
    {
      "cell_type": "markdown",
      "source": [
        "### Embedings"
      ],
      "metadata": {
        "id": "GJyYHmCe9k8f"
      }
    },
    {
      "cell_type": "code",
      "source": [
        "from tqdm import tqdm\n",
        "from gensim.models import Word2Vec\n",
        "import random"
      ],
      "metadata": {
        "id": "uH6nGsDH9ZB_"
      },
      "execution_count": 58,
      "outputs": []
    },
    {
      "cell_type": "markdown",
      "source": [
        "# Ensure trains on all user adn item features, NOT JUST User-ID!!!"
      ],
      "metadata": {
        "id": "ADccb1qcBqFc"
      }
    },
    {
      "cell_type": "code",
      "source": [
        "users = df[\"User-ID\"].unique().tolist()\n",
        "len(users)"
      ],
      "metadata": {
        "colab": {
          "base_uri": "https://localhost:8080/"
        },
        "id": "p5mxUTNn9nuj",
        "outputId": "939fdaf5-36c7-4d41-f5fe-e34f55bae32a"
      },
      "execution_count": 59,
      "outputs": [
        {
          "output_type": "execute_result",
          "data": {
            "text/plain": [
              "6310"
            ]
          },
          "metadata": {},
          "execution_count": 59
        }
      ]
    },
    {
      "cell_type": "markdown",
      "source": [
        "# Ensure 80/20 train-test split"
      ],
      "metadata": {
        "id": "3eA1_UBmB-_9"
      }
    },
    {
      "cell_type": "code",
      "source": [
        "# shuffle users ID's\n",
        "random.shuffle(users)\n",
        "\n",
        "# extract 90% of customer ID's\n",
        "users_train = [users[i] for i in range(round(0.9*len(users)))]\n",
        "\n",
        "# split data into train and validation set\n",
        "train_df = df[df['User-ID'].isin(users_train)]\n",
        "validation_df = df[~df['User-ID'].isin(users_train)]"
      ],
      "metadata": {
        "id": "jNh_SNs49n0x"
      },
      "execution_count": 60,
      "outputs": []
    },
    {
      "cell_type": "code",
      "source": [
        "# list to capture purchase history of the customers\n",
        "reads_train = []\n",
        "\n",
        "# populate the list with the product codes\n",
        "for i in tqdm(users_train):\n",
        "    temp = train_df[train_df[\"User-ID\"] == i][\"ISBN\"].tolist()\n",
        "    reads_train.append(temp)"
      ],
      "metadata": {
        "colab": {
          "base_uri": "https://localhost:8080/"
        },
        "id": "57qfqlLp9n8C",
        "outputId": "8e3a9ec1-a298-4d51-f739-b05fdd9beb33"
      },
      "execution_count": 61,
      "outputs": [
        {
          "output_type": "stream",
          "name": "stderr",
          "text": [
            "100%|██████████| 5679/5679 [00:04<00:00, 1379.62it/s]\n"
          ]
        }
      ]
    },
    {
      "cell_type": "code",
      "source": [
        "# list to capture purchase history of the customers\n",
        "reads_val = []\n",
        "\n",
        "# populate the list with the product codes\n",
        "for i in tqdm(validation_df['User-ID'].unique()):\n",
        "    temp = validation_df[validation_df[\"User-ID\"] == i][\"ISBN\"].tolist()\n",
        "    reads_val.append(temp)"
      ],
      "metadata": {
        "colab": {
          "base_uri": "https://localhost:8080/"
        },
        "id": "8fq8fE3f9oC0",
        "outputId": "1b4359ed-18ef-4304-926d-d032a77f62d5"
      },
      "execution_count": 62,
      "outputs": [
        {
          "output_type": "stream",
          "name": "stderr",
          "text": [
            "100%|██████████| 631/631 [00:00<00:00, 2320.44it/s]\n"
          ]
        }
      ]
    },
    {
      "cell_type": "code",
      "source": [
        "# train word2vec model\n",
        "model = Word2Vec(window = 10, sg = 1, hs = 0,\n",
        "                 negative = 10, # for negative sampling\n",
        "                 alpha=0.03, min_alpha=0.0007,\n",
        "                 seed = 14)\n",
        "\n",
        "model.build_vocab(reads_train, progress_per=200)\n",
        "\n",
        "model.train(reads_train, total_examples = model.corpus_count,\n",
        "            epochs=10, report_delay=1)"
      ],
      "metadata": {
        "colab": {
          "base_uri": "https://localhost:8080/"
        },
        "id": "qkwkNB5H9ZRE",
        "outputId": "f3d3a73a-80fd-4fc4-c077-9d9eab17a2e9"
      },
      "execution_count": 63,
      "outputs": [
        {
          "output_type": "execute_result",
          "data": {
            "text/plain": [
              "(806138, 951810)"
            ]
          },
          "metadata": {},
          "execution_count": 63
        }
      ]
    },
    {
      "cell_type": "code",
      "source": [
        "model.init_sims(replace=True)"
      ],
      "metadata": {
        "colab": {
          "base_uri": "https://localhost:8080/"
        },
        "id": "_OYp_AUU9Zg-",
        "outputId": "7b13a041-811b-4dc7-a22e-1a1e6265f8b1"
      },
      "execution_count": 64,
      "outputs": [
        {
          "output_type": "stream",
          "name": "stderr",
          "text": [
            "WARNING:gensim.models.keyedvectors:destructive init_sims(replace=True) deprecated & no longer required for space-efficiency\n"
          ]
        }
      ]
    },
    {
      "cell_type": "code",
      "source": [
        "print(model)"
      ],
      "metadata": {
        "colab": {
          "base_uri": "https://localhost:8080/"
        },
        "id": "J3z3bbB39ZxL",
        "outputId": "8ee99729-46a7-4e7a-b29f-6ec3d77fb21f"
      },
      "execution_count": 65,
      "outputs": [
        {
          "output_type": "stream",
          "name": "stdout",
          "text": [
            "Word2Vec<vocab=6674, vector_size=100, alpha=0.03>\n"
          ]
        }
      ]
    },
    {
      "cell_type": "code",
      "source": [
        "# extract all vectors\n",
        "X = model.wv.vectors\n",
        "\n",
        "X.shape"
      ],
      "metadata": {
        "colab": {
          "base_uri": "https://localhost:8080/"
        },
        "id": "NCcqhZoa9Z_M",
        "outputId": "7694f951-0058-48ba-852c-d11f2a349587"
      },
      "execution_count": 66,
      "outputs": [
        {
          "output_type": "execute_result",
          "data": {
            "text/plain": [
              "(6674, 100)"
            ]
          },
          "metadata": {},
          "execution_count": 66
        }
      ]
    },
    {
      "cell_type": "markdown",
      "source": [
        "# Umap not working, remove... not required"
      ],
      "metadata": {
        "id": "xM4gd7GRCLHF"
      }
    },
    {
      "cell_type": "code",
      "source": [
        "#!pip install umap"
      ],
      "metadata": {
        "id": "Mj2ntF8v-tD6"
      },
      "execution_count": 67,
      "outputs": []
    },
    {
      "cell_type": "code",
      "source": [
        "#!pip install umap-learn"
      ],
      "metadata": {
        "id": "6jyQ2IWP_c1T"
      },
      "execution_count": 68,
      "outputs": []
    },
    {
      "cell_type": "code",
      "source": [
        "'''import umap\n",
        "\n",
        "cluster_embedding = UMAP(n_neighbors=30, min_dist=0.0,\n",
        "                              n_components=2, random_state=42).fit_transform(X)\n",
        "\n",
        "plt.figure(figsize=(10,9))\n",
        "plt.scatter(cluster_embedding[:, 0], cluster_embedding[:, 1], s=3, cmap='Spectral')'''"
      ],
      "metadata": {
        "colab": {
          "base_uri": "https://localhost:8080/",
          "height": 52
        },
        "id": "ic6k3dm799D1",
        "outputId": "b718706d-f723-4974-c95d-37f9623d6c53"
      },
      "execution_count": 69,
      "outputs": [
        {
          "output_type": "execute_result",
          "data": {
            "text/plain": [
              "\"import umap\\n\\ncluster_embedding = UMAP(n_neighbors=30, min_dist=0.0,\\n                              n_components=2, random_state=42).fit_transform(X)\\n\\nplt.figure(figsize=(10,9))\\nplt.scatter(cluster_embedding[:, 0], cluster_embedding[:, 1], s=3, cmap='Spectral')\""
            ],
            "application/vnd.google.colaboratory.intrinsic+json": {
              "type": "string"
            }
          },
          "metadata": {},
          "execution_count": 69
        }
      ]
    },
    {
      "cell_type": "code",
      "source": [
        "books = train_df[[\"ISBN\", \"Book-Title\"]]\n",
        "\n",
        "# remove duplicates\n",
        "books.drop_duplicates(inplace=True, subset='ISBN', keep=\"last\")\n",
        "\n",
        "# create product-ID and product-description dictionary\n",
        "books_dict = books.groupby('ISBN')['Book-Title'].apply(list).to_dict()"
      ],
      "metadata": {
        "id": "bYASwnFf99Kn"
      },
      "execution_count": 70,
      "outputs": []
    },
    {
      "cell_type": "markdown",
      "source": [
        "### Get recommendation based on trained model"
      ],
      "metadata": {
        "id": "_Yjnnn8XCgUl"
      }
    },
    {
      "cell_type": "code",
      "source": [
        "# Find LOTR\n",
        "df[df['Book-Title'].str.contains('Lord of the Rings')].sample()"
      ],
      "metadata": {
        "colab": {
          "base_uri": "https://localhost:8080/",
          "height": 150
        },
        "id": "RAE29Bbv99XS",
        "outputId": "9a39d206-ed6a-4152-aaab-27205134cff6"
      },
      "execution_count": 71,
      "outputs": [
        {
          "output_type": "execute_result",
          "data": {
            "text/plain": [
              "        User-ID        ISBN Book-Rating                     Location  Age  \\\n",
              "648665    47050  0842355715          10  cottonwood, california, usa   55   \n",
              "\n",
              "                                  Book-Title     Book-Author  \\\n",
              "648665  Finding God in the Lord of the Rings  Kurt D. Bruner   \n",
              "\n",
              "        Year-Of-Publication                 Publisher  \\\n",
              "648665                 2001  Tyndale House Publishers   \n",
              "\n",
              "                                              Image-URL-S  \\\n",
              "648665  http://images.amazon.com/images/P/0842355715.0...   \n",
              "\n",
              "                                              Image-URL-M  \\\n",
              "648665  http://images.amazon.com/images/P/0842355715.0...   \n",
              "\n",
              "                                              Image-URL-L  \n",
              "648665  http://images.amazon.com/images/P/0842355715.0...  "
            ],
            "text/html": [
              "\n",
              "  <div id=\"df-76337aab-0be7-4a1b-828d-07a7f90db01d\" class=\"colab-df-container\">\n",
              "    <div>\n",
              "<style scoped>\n",
              "    .dataframe tbody tr th:only-of-type {\n",
              "        vertical-align: middle;\n",
              "    }\n",
              "\n",
              "    .dataframe tbody tr th {\n",
              "        vertical-align: top;\n",
              "    }\n",
              "\n",
              "    .dataframe thead th {\n",
              "        text-align: right;\n",
              "    }\n",
              "</style>\n",
              "<table border=\"1\" class=\"dataframe\">\n",
              "  <thead>\n",
              "    <tr style=\"text-align: right;\">\n",
              "      <th></th>\n",
              "      <th>User-ID</th>\n",
              "      <th>ISBN</th>\n",
              "      <th>Book-Rating</th>\n",
              "      <th>Location</th>\n",
              "      <th>Age</th>\n",
              "      <th>Book-Title</th>\n",
              "      <th>Book-Author</th>\n",
              "      <th>Year-Of-Publication</th>\n",
              "      <th>Publisher</th>\n",
              "      <th>Image-URL-S</th>\n",
              "      <th>Image-URL-M</th>\n",
              "      <th>Image-URL-L</th>\n",
              "    </tr>\n",
              "  </thead>\n",
              "  <tbody>\n",
              "    <tr>\n",
              "      <th>648665</th>\n",
              "      <td>47050</td>\n",
              "      <td>0842355715</td>\n",
              "      <td>10</td>\n",
              "      <td>cottonwood, california, usa</td>\n",
              "      <td>55</td>\n",
              "      <td>Finding God in the Lord of the Rings</td>\n",
              "      <td>Kurt D. Bruner</td>\n",
              "      <td>2001</td>\n",
              "      <td>Tyndale House Publishers</td>\n",
              "      <td>http://images.amazon.com/images/P/0842355715.0...</td>\n",
              "      <td>http://images.amazon.com/images/P/0842355715.0...</td>\n",
              "      <td>http://images.amazon.com/images/P/0842355715.0...</td>\n",
              "    </tr>\n",
              "  </tbody>\n",
              "</table>\n",
              "</div>\n",
              "    <div class=\"colab-df-buttons\">\n",
              "\n",
              "  <div class=\"colab-df-container\">\n",
              "    <button class=\"colab-df-convert\" onclick=\"convertToInteractive('df-76337aab-0be7-4a1b-828d-07a7f90db01d')\"\n",
              "            title=\"Convert this dataframe to an interactive table.\"\n",
              "            style=\"display:none;\">\n",
              "\n",
              "  <svg xmlns=\"http://www.w3.org/2000/svg\" height=\"24px\" viewBox=\"0 -960 960 960\">\n",
              "    <path d=\"M120-120v-720h720v720H120Zm60-500h600v-160H180v160Zm220 220h160v-160H400v160Zm0 220h160v-160H400v160ZM180-400h160v-160H180v160Zm440 0h160v-160H620v160ZM180-180h160v-160H180v160Zm440 0h160v-160H620v160Z\"/>\n",
              "  </svg>\n",
              "    </button>\n",
              "\n",
              "  <style>\n",
              "    .colab-df-container {\n",
              "      display:flex;\n",
              "      gap: 12px;\n",
              "    }\n",
              "\n",
              "    .colab-df-convert {\n",
              "      background-color: #E8F0FE;\n",
              "      border: none;\n",
              "      border-radius: 50%;\n",
              "      cursor: pointer;\n",
              "      display: none;\n",
              "      fill: #1967D2;\n",
              "      height: 32px;\n",
              "      padding: 0 0 0 0;\n",
              "      width: 32px;\n",
              "    }\n",
              "\n",
              "    .colab-df-convert:hover {\n",
              "      background-color: #E2EBFA;\n",
              "      box-shadow: 0px 1px 2px rgba(60, 64, 67, 0.3), 0px 1px 3px 1px rgba(60, 64, 67, 0.15);\n",
              "      fill: #174EA6;\n",
              "    }\n",
              "\n",
              "    .colab-df-buttons div {\n",
              "      margin-bottom: 4px;\n",
              "    }\n",
              "\n",
              "    [theme=dark] .colab-df-convert {\n",
              "      background-color: #3B4455;\n",
              "      fill: #D2E3FC;\n",
              "    }\n",
              "\n",
              "    [theme=dark] .colab-df-convert:hover {\n",
              "      background-color: #434B5C;\n",
              "      box-shadow: 0px 1px 3px 1px rgba(0, 0, 0, 0.15);\n",
              "      filter: drop-shadow(0px 1px 2px rgba(0, 0, 0, 0.3));\n",
              "      fill: #FFFFFF;\n",
              "    }\n",
              "  </style>\n",
              "\n",
              "    <script>\n",
              "      const buttonEl =\n",
              "        document.querySelector('#df-76337aab-0be7-4a1b-828d-07a7f90db01d button.colab-df-convert');\n",
              "      buttonEl.style.display =\n",
              "        google.colab.kernel.accessAllowed ? 'block' : 'none';\n",
              "\n",
              "      async function convertToInteractive(key) {\n",
              "        const element = document.querySelector('#df-76337aab-0be7-4a1b-828d-07a7f90db01d');\n",
              "        const dataTable =\n",
              "          await google.colab.kernel.invokeFunction('convertToInteractive',\n",
              "                                                    [key], {});\n",
              "        if (!dataTable) return;\n",
              "\n",
              "        const docLinkHtml = 'Like what you see? Visit the ' +\n",
              "          '<a target=\"_blank\" href=https://colab.research.google.com/notebooks/data_table.ipynb>data table notebook</a>'\n",
              "          + ' to learn more about interactive tables.';\n",
              "        element.innerHTML = '';\n",
              "        dataTable['output_type'] = 'display_data';\n",
              "        await google.colab.output.renderOutput(dataTable, element);\n",
              "        const docLink = document.createElement('div');\n",
              "        docLink.innerHTML = docLinkHtml;\n",
              "        element.appendChild(docLink);\n",
              "      }\n",
              "    </script>\n",
              "  </div>\n",
              "\n",
              "    </div>\n",
              "  </div>\n"
            ],
            "application/vnd.google.colaboratory.intrinsic+json": {
              "type": "dataframe",
              "repr_error": "0"
            }
          },
          "metadata": {},
          "execution_count": 71
        }
      ]
    },
    {
      "cell_type": "code",
      "source": [
        "# Check\n",
        "books_dict['0345339703']"
      ],
      "metadata": {
        "colab": {
          "base_uri": "https://localhost:8080/"
        },
        "id": "sDjLp7X43DkR",
        "outputId": "15065a59-fdb8-4284-fa06-16a43cea11f6"
      },
      "execution_count": 72,
      "outputs": [
        {
          "output_type": "execute_result",
          "data": {
            "text/plain": [
              "['The Fellowship of the Ring (The Lord of the Rings, Part 1)']"
            ]
          },
          "metadata": {},
          "execution_count": 72
        }
      ]
    },
    {
      "cell_type": "code",
      "source": [
        "def similar_books(v, n = 15):\n",
        "\n",
        "    # extract most similar products for the input vector\n",
        "    ms = model.wv.similar_by_vector(v, topn= n+1)[1:]\n",
        "\n",
        "    # extract name and similarity score of the similar products\n",
        "    new_ms = []\n",
        "    for j in ms:\n",
        "        pair = (books_dict[j[0]][0], j[1])\n",
        "        new_ms.append(pair)\n",
        "\n",
        "    return new_ms"
      ],
      "metadata": {
        "id": "bqocWqqI_v4m"
      },
      "execution_count": 73,
      "outputs": []
    },
    {
      "cell_type": "code",
      "source": [
        "# Recommend\n",
        "similar_books(model.wv['0345339703'])"
      ],
      "metadata": {
        "colab": {
          "base_uri": "https://localhost:8080/"
        },
        "id": "Lx0xBoZf_wBS",
        "outputId": "453f6b7f-3a91-4171-81fe-03f4997b079c"
      },
      "execution_count": 74,
      "outputs": [
        {
          "output_type": "execute_result",
          "data": {
            "text/plain": [
              "[('The Two Towers (The Lord of the Rings, Part 2)', 0.943714439868927),\n",
              " ('The Return of the King (The Lord of the Rings, Part 3)', 0.882835328578949),\n",
              " ('The Hobbit : The Enchanting Prelude to The Lord of the Rings',\n",
              "  0.8280236124992371),\n",
              " ('The Velveteen Rabbit', 0.822080135345459),\n",
              " ('The Silmarillion', 0.8212078213691711),\n",
              " ('Anne of Windy Poplars (Anne of Green Gables Novels (Paperback))',\n",
              "  0.8208832740783691),\n",
              " ('Dark Tide I: Onslaught (Star Wars: The New Jedi Order, Book 2)',\n",
              "  0.8177062273025513),\n",
              " ('Cetaganda (Bujold, Lois Mcmaster. Vorkosigan Adventure.)',\n",
              "  0.8124439120292664),\n",
              " ('Rainbow Valley (Anne of Green Gables Novels (Paperback))',\n",
              "  0.8105369806289673),\n",
              " (\"Plains of Passage (Earth's Children)\", 0.8074008226394653),\n",
              " ('The Count of Monte Cristo (Bantam Classics)', 0.8066457509994507),\n",
              " ('The Witches (Puffin Novels)', 0.8037572503089905),\n",
              " ('Prentice Alvin (Tales of Alvin Maker, Book 3)', 0.8033804893493652),\n",
              " ('Children of the Mind (Ender Wiggins Saga (Paperback))', 0.801242470741272),\n",
              " ('Neverwhere', 0.8008716106414795)]"
            ]
          },
          "metadata": {},
          "execution_count": 74
        }
      ]
    }
  ]
}