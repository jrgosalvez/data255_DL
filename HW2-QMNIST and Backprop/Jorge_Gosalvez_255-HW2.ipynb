{
 "cells": [
  {
   "cell_type": "markdown",
   "id": "8f70acf8-a976-4730-860a-584cfebd9485",
   "metadata": {},
   "source": [
    "# SJSU MSDS 255 DL, Spring 2024\n",
    "Homework 02: Pytorch Image Classification on QMNIST Dataset and Backprop Hand Calc"
   ]
  },
  {
   "cell_type": "markdown",
   "id": "9ca9847c-eb0b-4a4d-ba51-c1bf65461c3e",
   "metadata": {},
   "source": [
    "Git: https://github.com/jrgosalvez/data255_DL"
   ]
  },
  {
   "cell_type": "markdown",
   "id": "0908aa84-4610-4b78-a9a1-9a50c7a9d539",
   "metadata": {},
   "source": [
    "#### 1. Review simple NN tutorial"
   ]
  },
  {
   "cell_type": "code",
   "execution_count": null,
   "id": "7597c41e-8b88-4ccb-a24f-14795757e996",
   "metadata": {},
   "outputs": [],
   "source": []
  },
  {
   "cell_type": "markdown",
   "id": "4b7e104c-58c2-44d0-b074-16ed36efeecd",
   "metadata": {},
   "source": [
    "#### 2. Reproduce simple NN with QMNIST dataset"
   ]
  },
  {
   "cell_type": "code",
   "execution_count": null,
   "id": "e661bba8-175e-4f9d-94b2-441192d8b652",
   "metadata": {},
   "outputs": [],
   "source": []
  },
  {
   "cell_type": "code",
   "execution_count": null,
   "id": "0f8120fc-4faa-4df3-8dd1-6de004867136",
   "metadata": {},
   "outputs": [],
   "source": []
  },
  {
   "cell_type": "code",
   "execution_count": null,
   "id": "4dc0f5d7-62e4-4b77-83eb-23d2f5604ca7",
   "metadata": {},
   "outputs": [],
   "source": []
  },
  {
   "cell_type": "markdown",
   "id": "99857c14-503d-4c40-aef5-d929ffba4f30",
   "metadata": {},
   "source": [
    "#### 3. NN Results"
   ]
  },
  {
   "cell_type": "code",
   "execution_count": null,
   "id": "c17338e5-6fa8-48e1-88f3-c9d848544dc4",
   "metadata": {},
   "outputs": [],
   "source": []
  },
  {
   "cell_type": "markdown",
   "id": "8d5ae6e6-4803-4181-99da-f89bf497dc08",
   "metadata": {},
   "source": [
    "#### 4. Add another Dense layer of 128 nodes"
   ]
  },
  {
   "cell_type": "markdown",
   "id": "144377a1-442b-4c01-bd65-7b27fd966696",
   "metadata": {},
   "source": [
    "<b>Hypothesis:</b> I believe ... will....\n",
    "<br><b>Test:</b> I will ...\n",
    "<br><b>Validation:</b> I will know my hypothesis is correct if ..."
   ]
  },
  {
   "cell_type": "markdown",
   "id": "9ee2dfc7-6ddc-4789-8a1b-63af0a17965c",
   "metadata": {},
   "source": [
    "#### 5. Modify Model and train"
   ]
  },
  {
   "cell_type": "code",
   "execution_count": null,
   "id": "00072e37-20df-4755-9147-10e0608e90f4",
   "metadata": {},
   "outputs": [],
   "source": []
  },
  {
   "cell_type": "markdown",
   "id": "90989540-f6d3-4bf8-b49d-84c0c81a8664",
   "metadata": {},
   "source": [
    "#### 6. Modified NN Model Results"
   ]
  },
  {
   "cell_type": "code",
   "execution_count": null,
   "id": "46361a99-9988-4792-8cfa-4806d0c45add",
   "metadata": {},
   "outputs": [],
   "source": []
  },
  {
   "cell_type": "markdown",
   "id": "be2f29b1-ba18-4f32-ad90-eda0422fde3a",
   "metadata": {},
   "source": [
    "#### 7. Experiment with optimizers, loss functions, dropout, and activation functions and observe change in performance"
   ]
  },
  {
   "cell_type": "code",
   "execution_count": null,
   "id": "96186010-2c13-4e67-9c6d-6c0d0d0ba4db",
   "metadata": {},
   "outputs": [],
   "source": []
  },
  {
   "cell_type": "code",
   "execution_count": null,
   "id": "e06120f2-028c-4c53-b1a4-ef050ed16fb8",
   "metadata": {},
   "outputs": [],
   "source": []
  },
  {
   "cell_type": "code",
   "execution_count": null,
   "id": "286eee14-0c1e-4091-b1a1-48952e6f1009",
   "metadata": {},
   "outputs": [],
   "source": []
  },
  {
   "cell_type": "code",
   "execution_count": null,
   "id": "4c68b721-c1ed-47a0-8002-3ccd45499420",
   "metadata": {},
   "outputs": [],
   "source": [
    "#### 8. Backpropagation by hand"
   ]
  }
 ],
 "metadata": {
  "kernelspec": {
   "display_name": "Python 3 (ipykernel)",
   "language": "python",
   "name": "python3"
  },
  "language_info": {
   "codemirror_mode": {
    "name": "ipython",
    "version": 3
   },
   "file_extension": ".py",
   "mimetype": "text/x-python",
   "name": "python",
   "nbconvert_exporter": "python",
   "pygments_lexer": "ipython3",
   "version": "3.11.5"
  }
 },
 "nbformat": 4,
 "nbformat_minor": 5
}
