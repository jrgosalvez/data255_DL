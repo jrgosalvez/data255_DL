{
 "cells": [
  {
   "cell_type": "markdown",
   "id": "8f70acf8-a976-4730-860a-584cfebd9485",
   "metadata": {},
   "source": [
    "# SJSU MSDS 255 DL, Spring 2024\n",
    "Homework 02: Pytorch Image Classification on QMNIST Dataset and Backprop Hand Calc"
   ]
  },
  {
   "cell_type": "markdown",
   "id": "9ca9847c-eb0b-4a4d-ba51-c1bf65461c3e",
   "metadata": {},
   "source": [
    "Git: https://github.com/jrgosalvez/data255_DL"
   ]
  },
  {
   "cell_type": "code",
   "execution_count": null,
   "id": "38310521-a4e2-4087-b8df-dee415e6148e",
   "metadata": {},
   "outputs": [],
   "source": []
  }
 ],
 "metadata": {
  "kernelspec": {
   "display_name": "Python 3 (ipykernel)",
   "language": "python",
   "name": "python3"
  },
  "language_info": {
   "codemirror_mode": {
    "name": "ipython",
    "version": 3
   },
   "file_extension": ".py",
   "mimetype": "text/x-python",
   "name": "python",
   "nbconvert_exporter": "python",
   "pygments_lexer": "ipython3",
   "version": "3.11.5"
  }
 },
 "nbformat": 4,
 "nbformat_minor": 5
}
