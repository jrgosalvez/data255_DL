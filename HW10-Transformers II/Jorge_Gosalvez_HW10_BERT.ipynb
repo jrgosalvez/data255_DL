{
 "cells": [
  {
   "cell_type": "markdown",
   "id": "1dd8e8f3-6c10-4322-8dd9-ddc76478179d",
   "metadata": {},
   "source": [
    "# SJSU MSDS 255 DL, Spring 2024 - Transformers\n",
    "Homework 10: BERT"
   ]
  },
  {
   "cell_type": "markdown",
   "id": "dedd5921-2236-4e5d-9076-c582facb385c",
   "metadata": {},
   "source": [
    "Git: https://github.com/jrgosalvez/data255_DL"
   ]
  },
  {
   "cell_type": "markdown",
   "id": "61975ce3-e230-4756-b384-4b3112d35ddc",
   "metadata": {},
   "source": [
    "Source: \n",
    "- https://rajpurkar.github.io/SQuAD-explorer\n",
    "- https://pytorch.org/text/stable/datasets.html#torchtext.datasets.SQuAD2\n",
    "- https://mccormickml.com/2020/03/10/question-answering-with-a-fine-tuned-BERT/"
   ]
  },
  {
   "cell_type": "code",
   "execution_count": 1,
   "id": "38096424-e6bf-4611-a5e5-c7feef5f1c5d",
   "metadata": {},
   "outputs": [],
   "source": [
    "import torch\n",
    "import json\n",
    "import pandas as pd\n",
    "from transformers import BertTokenizer"
   ]
  },
  {
   "cell_type": "code",
   "execution_count": 2,
   "id": "dd56b0af-e2f4-428c-97f5-e94bd077cf89",
   "metadata": {},
   "outputs": [],
   "source": [
    "# Load pre-trained model tokenizer\n",
    "tokenizer = BertTokenizer.from_pretrained('bert-base-uncased')"
   ]
  },
  {
   "cell_type": "markdown",
   "id": "b899b82f-3fc5-43e8-b729-a95ffb6c47a6",
   "metadata": {},
   "source": [
    "## Download the training data"
   ]
  },
  {
   "cell_type": "code",
   "execution_count": 3,
   "id": "31da6d2d-bee3-4ff4-a2c1-a107f6272bc8",
   "metadata": {},
   "outputs": [],
   "source": [
    "# Define the path to your SQuAD2 data file\n",
    "squad_data_path = 'train-v2.0.json'"
   ]
  },
  {
   "cell_type": "code",
   "execution_count": 4,
   "id": "c2bbdaef-f50a-4fb3-b5a7-f873640ffe62",
   "metadata": {},
   "outputs": [
    {
     "data": {
      "text/plain": [
       "'train-v2.0.json'"
      ]
     },
     "execution_count": 4,
     "metadata": {},
     "output_type": "execute_result"
    }
   ],
   "source": [
    "squad_data_path"
   ]
  },
  {
   "cell_type": "code",
   "execution_count": 5,
   "id": "4beba0a8-4798-4601-b662-5a349cd92639",
   "metadata": {},
   "outputs": [
    {
     "data": {
      "text/html": [
       "<div>\n",
       "<style scoped>\n",
       "    .dataframe tbody tr th:only-of-type {\n",
       "        vertical-align: middle;\n",
       "    }\n",
       "\n",
       "    .dataframe tbody tr th {\n",
       "        vertical-align: top;\n",
       "    }\n",
       "\n",
       "    .dataframe thead th {\n",
       "        text-align: right;\n",
       "    }\n",
       "</style>\n",
       "<table border=\"1\" class=\"dataframe\">\n",
       "  <thead>\n",
       "    <tr style=\"text-align: right;\">\n",
       "      <th></th>\n",
       "      <th>version</th>\n",
       "      <th>data</th>\n",
       "    </tr>\n",
       "  </thead>\n",
       "  <tbody>\n",
       "    <tr>\n",
       "      <th>0</th>\n",
       "      <td>v2.0</td>\n",
       "      <td>{'title': 'Beyoncé', 'paragraphs': [{'qas': [{...</td>\n",
       "    </tr>\n",
       "    <tr>\n",
       "      <th>1</th>\n",
       "      <td>v2.0</td>\n",
       "      <td>{'title': 'Frédéric_Chopin', 'paragraphs': [{'...</td>\n",
       "    </tr>\n",
       "    <tr>\n",
       "      <th>2</th>\n",
       "      <td>v2.0</td>\n",
       "      <td>{'title': 'Sino-Tibetan_relations_during_the_M...</td>\n",
       "    </tr>\n",
       "    <tr>\n",
       "      <th>3</th>\n",
       "      <td>v2.0</td>\n",
       "      <td>{'title': 'IPod', 'paragraphs': [{'qas': [{'qu...</td>\n",
       "    </tr>\n",
       "    <tr>\n",
       "      <th>4</th>\n",
       "      <td>v2.0</td>\n",
       "      <td>{'title': 'The_Legend_of_Zelda:_Twilight_Princ...</td>\n",
       "    </tr>\n",
       "    <tr>\n",
       "      <th>...</th>\n",
       "      <td>...</td>\n",
       "      <td>...</td>\n",
       "    </tr>\n",
       "    <tr>\n",
       "      <th>437</th>\n",
       "      <td>v2.0</td>\n",
       "      <td>{'title': 'Infection', 'paragraphs': [{'qas': ...</td>\n",
       "    </tr>\n",
       "    <tr>\n",
       "      <th>438</th>\n",
       "      <td>v2.0</td>\n",
       "      <td>{'title': 'Hunting', 'paragraphs': [{'qas': [{...</td>\n",
       "    </tr>\n",
       "    <tr>\n",
       "      <th>439</th>\n",
       "      <td>v2.0</td>\n",
       "      <td>{'title': 'Kathmandu', 'paragraphs': [{'qas': ...</td>\n",
       "    </tr>\n",
       "    <tr>\n",
       "      <th>440</th>\n",
       "      <td>v2.0</td>\n",
       "      <td>{'title': 'Myocardial_infarction', 'paragraphs...</td>\n",
       "    </tr>\n",
       "    <tr>\n",
       "      <th>441</th>\n",
       "      <td>v2.0</td>\n",
       "      <td>{'title': 'Matter', 'paragraphs': [{'qas': [{'...</td>\n",
       "    </tr>\n",
       "  </tbody>\n",
       "</table>\n",
       "<p>442 rows × 2 columns</p>\n",
       "</div>"
      ],
      "text/plain": [
       "    version                                               data\n",
       "0      v2.0  {'title': 'Beyoncé', 'paragraphs': [{'qas': [{...\n",
       "1      v2.0  {'title': 'Frédéric_Chopin', 'paragraphs': [{'...\n",
       "2      v2.0  {'title': 'Sino-Tibetan_relations_during_the_M...\n",
       "3      v2.0  {'title': 'IPod', 'paragraphs': [{'qas': [{'qu...\n",
       "4      v2.0  {'title': 'The_Legend_of_Zelda:_Twilight_Princ...\n",
       "..      ...                                                ...\n",
       "437    v2.0  {'title': 'Infection', 'paragraphs': [{'qas': ...\n",
       "438    v2.0  {'title': 'Hunting', 'paragraphs': [{'qas': [{...\n",
       "439    v2.0  {'title': 'Kathmandu', 'paragraphs': [{'qas': ...\n",
       "440    v2.0  {'title': 'Myocardial_infarction', 'paragraphs...\n",
       "441    v2.0  {'title': 'Matter', 'paragraphs': [{'qas': [{'...\n",
       "\n",
       "[442 rows x 2 columns]"
      ]
     },
     "execution_count": 5,
     "metadata": {},
     "output_type": "execute_result"
    }
   ],
   "source": [
    "df = pd.read_json(squad_data_path)\n",
    "df"
   ]
  },
  {
   "cell_type": "markdown",
   "id": "0a89d23e-63be-4ff4-9eaa-e35a74375b35",
   "metadata": {},
   "source": [
    "### Open and preprocess (add special tokens) dataset per BERT format"
   ]
  },
  {
   "cell_type": "markdown",
   "id": "21cb9903-e629-4043-9b38-a4a0ebc0f5c1",
   "metadata": {},
   "source": [
    "### Load preprocess (add special tokens) the [SQUAD 2.0](https://pytorch.org/text/stable/datasets.html#torchtext.datasets.SQuAD2) dataset per BERT format. Get a minimum 20 QnA pairs. "
   ]
  },
  {
   "cell_type": "code",
   "execution_count": 6,
   "id": "ddf22578-b209-4f7d-b767-52ae90c64574",
   "metadata": {},
   "outputs": [],
   "source": [
    "# Function to load SQuAD2 data and add special tokens [CLS] and [SEP]\n",
    "def load_squad_data(file_path, num_samples=20):\n",
    "    with open(file_path, 'r', encoding='utf-8') as f:\n",
    "        squad_data = json.load(f)\n",
    "    \n",
    "    data = []\n",
    "    for i in range(min(len(squad_data['data']), num_samples)):\n",
    "        paragraphs = squad_data['data'][i]['paragraphs']\n",
    "        for paragraph in paragraphs:\n",
    "            context = paragraph['context']\n",
    "            qas = paragraph['qas']\n",
    "            for qa in qas:\n",
    "                question = qa['question']\n",
    "                answers  = qa['answers']\n",
    "                if answers:  # Check if answers are available\n",
    "                    answer_text = answers[0]['text']\n",
    "                    # Tokenize question and answer text .encode automatically adds [CLS] and [SEP]\n",
    "                    tokenized_question = tokenizer.encode(question, add_special_tokens=True)\n",
    "                    tokenized_answer = tokenizer.encode(answer_text, add_special_tokens=True)\n",
    "                    data.append((tokenized_question, tokenized_answer))  \n",
    "    return data"
   ]
  },
  {
   "cell_type": "code",
   "execution_count": 7,
   "id": "b162fae4-399c-432d-a9ee-afa523c2923c",
   "metadata": {},
   "outputs": [],
   "source": [
    "squad_data = load_squad_data(squad_data_path, num_samples=20)"
   ]
  },
  {
   "cell_type": "markdown",
   "id": "0611c751-90bb-4d0a-9149-d0aceffe6acd",
   "metadata": {},
   "source": [
    "### Display the first few question-answer pairs"
   ]
  },
  {
   "cell_type": "code",
   "execution_count": 8,
   "id": "15bdfd2b-a3ff-47a7-8e2b-3905f6f09cab",
   "metadata": {},
   "outputs": [
    {
     "name": "stderr",
     "output_type": "stream",
     "text": [
      "2024-04-19 06:16:16.717002: I tensorflow/core/platform/cpu_feature_guard.cc:182] This TensorFlow binary is optimized to use available CPU instructions in performance-critical operations.\n",
      "To enable the following instructions: AVX2 FMA, in other operations, rebuild TensorFlow with the appropriate compiler flags.\n"
     ]
    },
    {
     "name": "stdout",
     "output_type": "stream",
     "text": [
      "Question: [CLS] when did beyonce start becoming popular? [SEP]\n",
      "Answer: [CLS] in the late 1990s [SEP]\n",
      "\n",
      "Question: [CLS] what areas did beyonce compete in when she was growing up? [SEP]\n",
      "Answer: [CLS] singing and dancing [SEP]\n",
      "\n",
      "Question: [CLS] when did beyonce leave destiny's child and become a solo singer? [SEP]\n",
      "Answer: [CLS] 2003 [SEP]\n",
      "\n",
      "Question: [CLS] in what city and state did beyonce grow up? [SEP]\n",
      "Answer: [CLS] houston, texas [SEP]\n",
      "\n",
      "Question: [CLS] in which decade did beyonce become famous? [SEP]\n",
      "Answer: [CLS] late 1990s [SEP]\n",
      "\n",
      "Question: [CLS] in what r & b group was she the lead singer? [SEP]\n",
      "Answer: [CLS] destiny's child [SEP]\n",
      "\n",
      "Question: [CLS] what album made her a worldwide known artist? [SEP]\n",
      "Answer: [CLS] dangerously in love [SEP]\n",
      "\n",
      "Question: [CLS] who managed the destiny's child group? [SEP]\n",
      "Answer: [CLS] mathew knowles [SEP]\n",
      "\n"
     ]
    }
   ],
   "source": [
    "for i in range(8):\n",
    "    print(\"Question:\", tokenizer.decode(squad_data[i][0]))\n",
    "    print(\"Answer:\", tokenizer.decode(squad_data[i][1]))\n",
    "    print()"
   ]
  },
  {
   "cell_type": "markdown",
   "id": "46046809-278e-48c6-b4bf-bd9c97007aaa",
   "metadata": {},
   "source": [
    "# >> Dataloader tokenizes text automatically <<"
   ]
  },
  {
   "cell_type": "markdown",
   "id": "cfa8d510-9d1e-4ab5-a782-667646c6c5ab",
   "metadata": {},
   "source": [
    "### Train and evaluate the BERT QnA model"
   ]
  },
  {
   "cell_type": "code",
   "execution_count": 9,
   "id": "7de6868c-bd1f-49cf-9c20-acbd527f627e",
   "metadata": {},
   "outputs": [],
   "source": [
    "import torch\n",
    "from transformers import BertTokenizer, BertForQuestionAnswering, AdamW, get_linear_schedule_with_warmup\n",
    "from torch.utils.data import DataLoader, RandomSampler, SequentialSampler\n",
    "from transformers import squad_convert_examples_to_features\n",
    "from transformers.data.processors.squad import SquadV2Processor\n",
    "from tqdm import tqdm\n",
    "import numpy as np\n",
    "import random"
   ]
  },
  {
   "cell_type": "code",
   "execution_count": 10,
   "id": "87f884b8-615e-4b47-99fd-29fe140d0f4a",
   "metadata": {},
   "outputs": [],
   "source": [
    "# Set random seeds for reproducibility\n",
    "seed_val = 42\n",
    "random.seed(seed_val)\n",
    "np.random.seed(seed_val)\n",
    "torch.manual_seed(seed_val)\n",
    "torch.cuda.manual_seed_all(seed_val)"
   ]
  },
  {
   "cell_type": "code",
   "execution_count": 11,
   "id": "e62c7b5f-4a52-445a-a60e-12dc9baa2605",
   "metadata": {},
   "outputs": [
    {
     "name": "stderr",
     "output_type": "stream",
     "text": [
      "Some weights of BertForQuestionAnswering were not initialized from the model checkpoint at bert-base-uncased and are newly initialized: ['qa_outputs.bias', 'qa_outputs.weight']\n",
      "You should probably TRAIN this model on a down-stream task to be able to use it for predictions and inference.\n"
     ]
    }
   ],
   "source": [
    "# Load pre-trained BERT model and tokenizer\n",
    "model_name = 'bert-base-uncased'\n",
    "tokenizer  = BertTokenizer.from_pretrained(model_name)\n",
    "model      = BertForQuestionAnswering.from_pretrained(model_name)"
   ]
  },
  {
   "cell_type": "code",
   "execution_count": 12,
   "id": "89632bda-a8c8-4de3-b6da-975fd712acfe",
   "metadata": {},
   "outputs": [],
   "source": [
    "# Define fine-tuning parameters\n",
    "batch_size = 16\n",
    "epochs = 20\n",
    "learning_rate = 3e-5\n",
    "adam_epsilon = 1e-8"
   ]
  },
  {
   "cell_type": "code",
   "execution_count": 13,
   "id": "bc37561b-401b-4735-9a67-96c13986b6da",
   "metadata": {},
   "outputs": [
    {
     "name": "stderr",
     "output_type": "stream",
     "text": [
      "100%|██████████| 442/442 [00:46<00:00,  9.58it/s]\n",
      "100%|██████████| 442/442 [00:45<00:00,  9.76it/s]\n",
      "100%|██████████| 442/442 [00:44<00:00,  9.97it/s]\n"
     ]
    }
   ],
   "source": [
    "# Load SQuAD 2.0 data and limit to 25 QnA pairs\n",
    "processor = SquadV2Processor()\n",
    "train_examples = processor.get_train_examples('./' , filename=\"train-v2.0.json\")[:25]\n",
    "val_examples   = processor.get_train_examples('./' , filename=\"train-v2.0.json\")[26:37]\n",
    "test_dataset   = processor.get_train_examples('./' , filename=\"train-v2.0.json\")[38:43]"
   ]
  },
  {
   "cell_type": "code",
   "execution_count": 14,
   "id": "6d700c64-d0f0-4999-8970-cd734b779804",
   "metadata": {},
   "outputs": [
    {
     "name": "stderr",
     "output_type": "stream",
     "text": [
      "2024-04-19 06:19:03.749284: I tensorflow/core/platform/cpu_feature_guard.cc:182] This TensorFlow binary is optimized to use available CPU instructions in performance-critical operations.\n",
      "To enable the following instructions: AVX2 FMA, in other operations, rebuild TensorFlow with the appropriate compiler flags.\n",
      "convert squad examples to features: 100%|██████████| 25/25 [00:00<00:00, 101.20it/s]\n",
      "add example index and unique id: 100%|██████████| 25/25 [00:00<00:00, 59816.09it/s]\n",
      "2024-04-19 06:19:20.901956: I tensorflow/core/platform/cpu_feature_guard.cc:182] This TensorFlow binary is optimized to use available CPU instructions in performance-critical operations.\n",
      "To enable the following instructions: AVX2 FMA, in other operations, rebuild TensorFlow with the appropriate compiler flags.\n",
      "convert squad examples to features: 100%|██████████| 11/11 [00:00<00:00, 74.55it/s]\n",
      "add example index and unique id: 100%|██████████| 11/11 [00:00<00:00, 129236.26it/s]\n"
     ]
    }
   ],
   "source": [
    "\"\"\"BERT max input sequence length is 512, - 2 for [CLS] and [SEP]; however, \n",
    "   sentence-transformers model such as all-mpnet-base-v2 have an input size of 384 tokens.\n",
    "   so set embeddings texts with 384 tokens (1 token ~= 4 characters ~= 0.75 words)\"\"\"\n",
    "\n",
    "# Convert examples to features\n",
    "train_features, train_dataset = squad_convert_examples_to_features(\n",
    "    examples=train_examples,\n",
    "    tokenizer=tokenizer,\n",
    "    max_seq_length=384,  # BERT max input length is 512, less 2 for [CLS] and [SEP]\n",
    "    doc_stride=128,\n",
    "    max_query_length=64,\n",
    "    is_training=True,\n",
    "    return_dataset=\"pt\"\n",
    ")\n",
    "val_features, val_dataset = squad_convert_examples_to_features(\n",
    "    examples=val_examples,\n",
    "    tokenizer=tokenizer,\n",
    "    max_seq_length=384,  # BERT max input length is 512, less 2 for [CLS] and [SEP]\n",
    "    doc_stride=128,\n",
    "    max_query_length=64,\n",
    "    is_training=True,\n",
    "    return_dataset=\"pt\"\n",
    ")"
   ]
  },
  {
   "cell_type": "code",
   "execution_count": 15,
   "id": "d35a87e0-6b2d-4789-84fa-2bece2c59d55",
   "metadata": {},
   "outputs": [],
   "source": [
    "# Create data loader [CLS] & [SEP]\n",
    "# NOTE: For each batch of the dataloader; input IDs, attention masks, and token type IDs are created, including [CLS] and [SEP]\n",
    "\n",
    "train_dataloader = DataLoader(train_dataset, sampler=RandomSampler(train_dataset), batch_size=batch_size)\n",
    "val_dataloader   = DataLoader(val_dataset, sampler=RandomSampler(val_dataset), batch_size=batch_size)\n",
    "test_dataloader  = DataLoader(test_dataset, sampler=RandomSampler(test_dataset), batch_size=batch_size)"
   ]
  },
  {
   "cell_type": "code",
   "execution_count": 16,
   "id": "da40d10c-38dc-42d0-a649-a53137d12c5d",
   "metadata": {},
   "outputs": [],
   "source": [
    "# Prepare optimizer and scheduler\n",
    "optimizer   = torch.optim.AdamW(model.parameters(), lr=learning_rate, eps=adam_epsilon)\n",
    "total_steps = len(train_dataloader) * epochs\n",
    "scheduler   = get_linear_schedule_with_warmup(optimizer, num_warmup_steps=0, num_training_steps=total_steps)"
   ]
  },
  {
   "cell_type": "code",
   "execution_count": 17,
   "id": "3e416c26-7045-405d-9de9-7d1936028283",
   "metadata": {},
   "outputs": [
    {
     "name": "stdout",
     "output_type": "stream",
     "text": [
      "Training...\n",
      "Epoch 1:\n",
      "  Average training loss: 5.7485\n",
      "  Average validation loss: 5.6798\n",
      "Epoch 2:\n",
      "  Average training loss: 5.1634\n",
      "  Average validation loss: 5.4944\n",
      "Epoch 3:\n",
      "  Average training loss: 4.7029\n",
      "  Average validation loss: 5.3331\n",
      "Epoch 4:\n",
      "  Average training loss: 4.2855\n",
      "  Average validation loss: 5.2037\n",
      "Epoch 5:\n",
      "  Average training loss: 3.9846\n",
      "  Average validation loss: 5.1083\n",
      "Epoch 6:\n",
      "  Average training loss: 3.6984\n",
      "  Average validation loss: 5.0379\n",
      "Epoch 7:\n",
      "  Average training loss: 3.5189\n",
      "  Average validation loss: 4.9852\n",
      "Epoch 8:\n",
      "  Average training loss: 3.2006\n",
      "  Average validation loss: 4.9421\n",
      "Epoch 9:\n",
      "  Average training loss: 3.1265\n",
      "  Average validation loss: 4.9121\n",
      "Epoch 10:\n",
      "  Average training loss: 2.9589\n",
      "  Average validation loss: 4.8969\n",
      "Epoch 11:\n",
      "  Average training loss: 2.8484\n",
      "  Average validation loss: 4.8911\n",
      "Epoch 12:\n",
      "  Average training loss: 2.7758\n",
      "  Average validation loss: 4.8919\n",
      "Epoch 13:\n",
      "  Average training loss: 2.6153\n",
      "  Average validation loss: 4.8912\n",
      "Epoch 14:\n",
      "  Average training loss: 2.6287\n",
      "  Average validation loss: 4.8900\n",
      "Epoch 15:\n",
      "  Average training loss: 2.4572\n",
      "  Average validation loss: 4.8873\n",
      "Epoch 16:\n",
      "  Average training loss: 2.3917\n",
      "  Average validation loss: 4.8859\n",
      "Epoch 17:\n",
      "  Average training loss: 2.4707\n",
      "  Average validation loss: 4.8856\n",
      "Epoch 18:\n",
      "  Average training loss: 2.5881\n",
      "  Average validation loss: 4.8855\n",
      "Epoch 19:\n",
      "  Average training loss: 2.4214\n",
      "  Average validation loss: 4.8862\n",
      "Epoch 20:\n",
      "  Average training loss: 2.4377\n",
      "  Average validation loss: 4.8864\n",
      "Training complete!\n"
     ]
    }
   ],
   "source": [
    "# Train the model\n",
    "device = torch.device(\"cuda\" if torch.cuda.is_available() else \"cpu\")\n",
    "model.to(device)\n",
    "\n",
    "print(\"Training...\")\n",
    "\n",
    "n_epochs = 0\n",
    "train_losses, valid_losses = [], []\n",
    "\n",
    "for epoch in range(epochs):\n",
    "    model.train()\n",
    "    total_train_loss = 0\n",
    "\n",
    "    # Training loop\n",
    "    for step, batch in enumerate(train_dataloader):\n",
    "        batch = tuple(t.to(device) for t in batch)\n",
    "        inputs = {\n",
    "            \"input_ids\": batch[0], # Input token IDs\n",
    "            \"attention_mask\": batch[1], # Attention mask\n",
    "            \"token_type_ids\": batch[2], # Segment token IDs (for sequence pairs)\n",
    "            \"start_positions\": batch[3],# Start position of the answer\n",
    "            \"end_positions\": batch[4] # End position of the answer\n",
    "        }\n",
    "\n",
    "        optimizer.zero_grad()\n",
    "        outputs = model(**inputs)\n",
    "        loss = outputs.loss\n",
    "        total_train_loss += loss.item()\n",
    "        loss.backward()\n",
    "        torch.nn.utils.clip_grad_norm_(model.parameters(), 1.0)\n",
    "        optimizer.step()\n",
    "        scheduler.step()\n",
    "    \n",
    "    avg_train_loss = total_train_loss / len(train_dataloader)\n",
    "    train_losses.append(avg_train_loss)\n",
    "    print(f'Epoch {epoch + 1}:')\n",
    "    print(f'  Average training loss: {avg_train_loss:.4f}')\n",
    "\n",
    "    # Validation loop\n",
    "    model.eval()\n",
    "    total_val_loss = 0\n",
    "    for step, batch in enumerate(val_dataloader):\n",
    "        batch = tuple(t.to(device) for t in batch)\n",
    "        inputs = {\n",
    "            \"input_ids\": batch[0],\n",
    "            \"attention_mask\": batch[1],\n",
    "            \"token_type_ids\": batch[2],\n",
    "            \"start_positions\": batch[3],\n",
    "            \"end_positions\": batch[4]\n",
    "        }\n",
    "\n",
    "        with torch.no_grad():\n",
    "            outputs = model(**inputs)\n",
    "            loss = outputs.loss\n",
    "            total_val_loss += loss.item()\n",
    "    \n",
    "    avg_val_loss = total_val_loss / len(val_dataloader)\n",
    "    valid_losses.append(avg_val_loss)\n",
    "    print(f'  Average validation loss: {avg_val_loss:.4f}')\n",
    "    n_epochs += 1\n",
    "\n",
    "print(\"Training complete!\")"
   ]
  },
  {
   "cell_type": "code",
   "execution_count": 18,
   "id": "2a289f5f-3e89-487a-9ac2-928b25709114",
   "metadata": {},
   "outputs": [
    {
     "data": {
      "image/png": "[encoded data removed]",
      "text/plain": [
       "<Figure size 640x480 with 1 Axes>"
      ]
     },
     "metadata": {},
     "output_type": "display_data"
    }
   ],
   "source": [
    "import matplotlib.pyplot as plt\n",
    "import numpy as np\n",
    "\n",
    "epoch_ticks = range(1, n_epochs + 1)  # Assuming n_epochs is defined somewhere\n",
    "plt.plot(epoch_ticks, train_losses)\n",
    "plt.plot(epoch_ticks, valid_losses)\n",
    "plt.legend(['Train Loss', 'Valid Loss'])\n",
    "plt.xlabel('Epochs')\n",
    "plt.ylabel('Loss')\n",
    "plt.title('Training and Validation Losses')\n",
    "plt.show()"
   ]
  },
  {
   "cell_type": "markdown",
   "id": "6211cec8-9d8c-4f8a-aedd-52dfea64a2db",
   "metadata": {},
   "source": [
    "#### Continual training loss implies potential overfitting"
   ]
  },
  {
   "cell_type": "markdown",
   "id": "e92b12c8-088d-40db-a394-b46bccd1db01",
   "metadata": {},
   "source": [
    "### Perform an Inference and show the predicted vs ground truth answers. "
   ]
  },
  {
   "cell_type": "code",
   "execution_count": 19,
   "id": "7b58ccd8-6934-45cb-b5f9-a1ebec13da12",
   "metadata": {},
   "outputs": [
    {
     "name": "stdout",
     "output_type": "stream",
     "text": [
      "DECODED TEXT: [CLS] what magazine named beyonce as the most powerful female musician for 2015? [SEP] a self - described \" modern - day feminist \", beyonce creates songs that are often characterized by themes of love, relationships, and monogamy, as well as female sexuality and empowerment. on stage, her dynamic, highly choreographed performances have led to critics hailing her as one of the best entertainers in contemporary popular music. throughout a career spanning 19 years, she has sold over 118 million records as a solo artist, and a further 60 million with destiny's child, making her one of the best - selling music artists of all time. she has won 20 grammy awards and is the most nominated woman in the award's history. the recording industry association of america recognized her as the top certified artist in america during the 2000s decade. in 2009, billboard named her the top radio songs artist of the decade, the top female artist of the 2000s and their artist of the millennium in 2011. time listed her among the 100 most influential people in the world in 2013 and 2014. forbes magazine also listed her as the most powerful female musician of 2015. [SEP]\n",
      "\n",
      "QUESTION: What magazine named Beyoncé as the most powerful female musician for 2015?\n",
      "CONTEXT: A self-described \"modern-day feminist\", Beyoncé creates songs that are often characterized by themes of love, relationships, and monogamy, as well as female sexuality and empowerment. On stage, her dynamic, highly choreographed performances have led to critics hailing her as one of the best entertainers in contemporary popular music. Throughout a career spanning 19 years, she has sold over 118 million records as a solo artist, and a further 60 million with Destiny's Child, making her one of the best-selling music artists of all time. She has won 20 Grammy Awards and is the most nominated woman in the award's history. The Recording Industry Association of America recognized her as the Top Certified Artist in America during the 2000s decade. In 2009, Billboard named her the Top Radio Songs Artist of the Decade, the Top Female Artist of the 2000s and their Artist of the Millennium in 2011. Time listed her among the 100 most influential people in the world in 2013 and 2014. Forbes magazine also listed her as the most powerful female musician of 2015.\n",
      "ANSWER: Forbes\n",
      "\n",
      "\n",
      "DECODED TEXT: [CLS] beyonce's younger sibling also sang with her in what band? [SEP] beyonce giselle knowles was born in houston, texas, to celestine ann \" tina \" knowles ( nee beyince ), a hairdresser and salon owner, and mathew knowles, a xerox sales manager. beyonce's name is a tribute to her mother's maiden name. beyonce's younger sister solange is also a singer and a former member of destiny's child. mathew is african - american, while tina is of louisiana creole descent ( with african, native american, french, cajun, and distant irish and spanish ancestry ). through her mother, beyonce is a descendant of acadian leader joseph broussard. she was raised in a methodist household. [SEP]\n",
      "\n",
      "QUESTION: Beyonce's younger sibling also sang with her in what band?\n",
      "CONTEXT: Beyoncé Giselle Knowles was born in Houston, Texas, to Celestine Ann \"Tina\" Knowles (née Beyincé), a hairdresser and salon owner, and Mathew Knowles, a Xerox sales manager. Beyoncé's name is a tribute to her mother's maiden name. Beyoncé's younger sister Solange is also a singer and a former member of Destiny's Child. Mathew is African-American, while Tina is of Louisiana Creole descent (with African, Native American, French, Cajun, and distant Irish and Spanish ancestry). Through her mother, Beyoncé is a descendant of Acadian leader Joseph Broussard. She was raised in a Methodist household.\n",
      "ANSWER: Destiny's Child\n",
      "\n",
      "\n",
      "DECODED TEXT: [CLS] where did beyonce get her name from? [SEP] beyonce giselle knowles was born in houston, texas, to celestine ann \" tina \" knowles ( nee beyince ), a hairdresser and salon owner, and mathew knowles, a xerox sales manager. beyonce's name is a tribute to her mother's maiden name. beyonce's younger sister solange is also a singer and a former member of destiny's child. mathew is african - american, while tina is of louisiana creole descent ( with african, native american, french, cajun, and distant irish and spanish ancestry ). through her mother, beyonce is a descendant of acadian leader joseph broussard. she was raised in a methodist household. [SEP]\n",
      "\n",
      "QUESTION: Where did Beyonce get her name from?\n",
      "CONTEXT: Beyoncé Giselle Knowles was born in Houston, Texas, to Celestine Ann \"Tina\" Knowles (née Beyincé), a hairdresser and salon owner, and Mathew Knowles, a Xerox sales manager. Beyoncé's name is a tribute to her mother's maiden name. Beyoncé's younger sister Solange is also a singer and a former member of Destiny's Child. Mathew is African-American, while Tina is of Louisiana Creole descent (with African, Native American, French, Cajun, and distant Irish and Spanish ancestry). Through her mother, Beyoncé is a descendant of Acadian leader Joseph Broussard. She was raised in a Methodist household.\n",
      "ANSWER: her mother's maiden name\n",
      "\n",
      "\n",
      "DECODED TEXT: [CLS] what race was beyonce's father? [SEP] beyonce giselle knowles was born in houston, texas, to celestine ann \" tina \" knowles ( nee beyince ), a hairdresser and salon owner, and mathew knowles, a xerox sales manager. beyonce's name is a tribute to her mother's maiden name. beyonce's younger sister solange is also a singer and a former member of destiny's child. mathew is african - american, while tina is of louisiana creole descent ( with african, native american, french, cajun, and distant irish and spanish ancestry ). through her mother, beyonce is a descendant of acadian leader joseph broussard. she was raised in a methodist household. [SEP]\n",
      "\n",
      "QUESTION: What race was Beyonce's father?\n",
      "CONTEXT: Beyoncé Giselle Knowles was born in Houston, Texas, to Celestine Ann \"Tina\" Knowles (née Beyincé), a hairdresser and salon owner, and Mathew Knowles, a Xerox sales manager. Beyoncé's name is a tribute to her mother's maiden name. Beyoncé's younger sister Solange is also a singer and a former member of Destiny's Child. Mathew is African-American, while Tina is of Louisiana Creole descent (with African, Native American, French, Cajun, and distant Irish and Spanish ancestry). Through her mother, Beyoncé is a descendant of Acadian leader Joseph Broussard. She was raised in a Methodist household.\n",
      "ANSWER: African-American\n",
      "\n",
      "\n",
      "DECODED TEXT: [CLS] beyonce's childhood home believed in what religion? [SEP] beyonce giselle knowles was born in houston, texas, to celestine ann \" tina \" knowles ( nee beyince ), a hairdresser and salon owner, and mathew knowles, a xerox sales manager. beyonce's name is a tribute to her mother's maiden name. beyonce's younger sister solange is also a singer and a former member of destiny's child. mathew is african - american, while tina is of louisiana creole descent ( with african, native american, french, cajun, and distant irish and spanish ancestry ). through her mother, beyonce is a descendant of acadian leader joseph broussard. she was raised in a methodist household. [SEP]\n",
      "\n",
      "QUESTION: Beyonce's childhood home believed in what religion?\n",
      "CONTEXT: Beyoncé Giselle Knowles was born in Houston, Texas, to Celestine Ann \"Tina\" Knowles (née Beyincé), a hairdresser and salon owner, and Mathew Knowles, a Xerox sales manager. Beyoncé's name is a tribute to her mother's maiden name. Beyoncé's younger sister Solange is also a singer and a former member of Destiny's Child. Mathew is African-American, while Tina is of Louisiana Creole descent (with African, Native American, French, Cajun, and distant Irish and Spanish ancestry). Through her mother, Beyoncé is a descendant of Acadian leader Joseph Broussard. She was raised in a Methodist household.\n",
      "ANSWER: Methodist\n",
      "\n",
      "\n"
     ]
    }
   ],
   "source": [
    "for example in test_dataset:\n",
    "    inputs = tokenizer.encode_plus(example.question_text, example.context_text, add_special_tokens=True, return_tensors=\"pt\")\n",
    "    input_ids = inputs['input_ids'].tolist()\n",
    "    decoded_text = tokenizer.decode(input_ids[0])\n",
    "    print(\"DECODED TEXT:\", decoded_text)\n",
    "    print(\"\\nQUESTION:\", example.question_text)\n",
    "    print(\"CONTEXT:\", example.context_text)\n",
    "    print(\"ANSWER:\", example.answer_text)\n",
    "    print()\n",
    "    print()"
   ]
  },
  {
   "cell_type": "code",
   "execution_count": 20,
   "id": "cda242cc-34f2-485a-9431-436b94f4d9a2",
   "metadata": {},
   "outputs": [
    {
     "name": "stdout",
     "output_type": "stream",
     "text": [
      "Question: What magazine named Beyoncé as the most powerful female musician for 2015?\n",
      "Predicted Answer: destiny's child\n",
      "Actual Answer: Forbes\n",
      "\n",
      "Question: Beyonce's younger sibling also sang with her in what band?\n",
      "Predicted Answer: houston, texas\n",
      "Actual Answer: Destiny's Child\n",
      "\n",
      "Question: Where did Beyonce get her name from?\n",
      "Predicted Answer: houston, texas\n",
      "Actual Answer: her mother's maiden name\n",
      "\n",
      "Question: What race was Beyonce's father?\n",
      "Predicted Answer: houston, texas\n",
      "Actual Answer: African-American\n",
      "\n",
      "Question: Beyonce's childhood home believed in what religion?\n",
      "Predicted Answer: houston, texas\n",
      "Actual Answer: Methodist\n",
      "\n"
     ]
    }
   ],
   "source": [
    "# Predict a few examples\n",
    "model.eval()\n",
    "for example in test_dataset:\n",
    "    inputs = tokenizer.encode_plus(example.question_text, example.context_text, add_special_tokens=True, return_tensors=\"pt\", max_length=384, truncation=True)\n",
    "    input_ids = inputs[\"input_ids\"].to(device)\n",
    "    attention_mask = inputs[\"attention_mask\"].to(device)\n",
    "    \n",
    "    model.to(device)\n",
    "\n",
    "    with torch.no_grad():\n",
    "        outputs = model(input_ids=input_ids, attention_mask=attention_mask)\n",
    "    \n",
    "    start_index = torch.argmax(outputs.start_logits)    # [CLS] start of predicted output\n",
    "    end_index   = torch.argmax(outputs.end_logits)      # [SEP] stop of predicted output\n",
    "    \n",
    "    answer = tokenizer.decode(inputs[\"input_ids\"][0][start_index:end_index+1])\n",
    "\n",
    "    print(\"Question:\", example.question_text)\n",
    "    print(\"Predicted Answer:\", answer)\n",
    "    print(\"Actual Answer:\", example.answer_text)\n",
    "    print()"
   ]
  },
  {
   "cell_type": "markdown",
   "id": "17f2797b-c84c-4b4e-a54a-aadc602c2e6d",
   "metadata": {},
   "source": [
    "### Lessons Learned"
   ]
  },
  {
   "cell_type": "markdown",
   "id": "0f6f8252-f565-4097-ae5b-2bd241308576",
   "metadata": {},
   "source": [
    "- 1 token ~= 4 characters ~= 0.75 words\n",
    "- BERT sequence limit is 512 (less start and stop tokens), so 510\n",
    "- sentence-transformers model such as all-mpnet-base-v2 have an input size of 384 tokens, make sure to know the model \n",
    "- longer input sequence lengths affect context for long-relationship similarity analysis, but more computationaly heavy\n",
    "- the torch.utils.data dataloader tokenizes text automatically\n",
    "- for each batch of the dataloader; input IDs, attention masks, and token type IDs are created, including [CLS] and [SEP]\n",
    "- Training scores in this experiment improve, whereas validation scores improve slightly then flatten implying potential overfitting. To ammend, increase QnA sample size, alter sequence length, or get more data\n",
    "- Predictions are not accurate for the batch of data trained for the training cycles experimented per results above"
   ]
  },
  {
   "cell_type": "code",
   "execution_count": null,
   "id": "6b11fc07-a22e-44dc-8877-c29e8c73e1e7",
   "metadata": {},
   "outputs": [],
   "source": []
  }
 ],
 "metadata": {
  "kernelspec": {
   "display_name": "Python 3 (ipykernel)",
   "language": "python",
   "name": "python3"
  },
  "language_info": {
   "codemirror_mode": {
    "name": "ipython",
    "version": 3
   },
   "file_extension": ".py",
   "mimetype": "text/x-python",
   "name": "python",
   "nbconvert_exporter": "python",
   "pygments_lexer": "ipython3",
   "version": "3.11.5"
  }
 },
 "nbformat": 4,
 "nbformat_minor": 5
}
