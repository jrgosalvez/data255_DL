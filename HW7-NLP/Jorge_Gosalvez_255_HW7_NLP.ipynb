{
 "cells": [
  {
   "cell_type": "markdown",
   "id": "55a84026-1671-4b19-a7c3-fc114766726c",
   "metadata": {},
   "source": [
    "# SJSU MSDS 255 DL, Spring 2024\n",
    "Homework 07: NLP"
   ]
  },
  {
   "cell_type": "markdown",
   "id": "5cc94716-a366-447a-9943-6504477f0cf7",
   "metadata": {},
   "source": [
    "Git: https://github.com/jrgosalvez/data255_DL"
   ]
  },
  {
   "cell_type": "code",
   "execution_count": 1,
   "id": "cf7d61c6-e397-4f02-bfe8-d4977d14bb08",
   "metadata": {},
   "outputs": [],
   "source": [
    "import numpy as np\n",
    "import pandas as pd\n",
    "from scipy import spatial\n",
    "from sklearn.metrics.pairwise import cosine_similarity\n",
    "from sklearn.model_selection import train_test_split\n",
    "from sklearn.naive_bayes import MultinomialNB\n",
    "from sklearn.feature_extraction.text import CountVectorizer\n",
    "from sklearn.metrics import accuracy_score, confusion_matrix, classification_report\n",
    "import scikitplot as skplt\n",
    "import matplotlib.pyplot as plt\n",
    "from gensim.models import KeyedVectors\n",
    "import re\n",
    "import nltk\n",
    "from nltk.corpus import stopwords"
   ]
  },
  {
   "cell_type": "markdown",
   "id": "8fae84c6-044a-429b-bd66-e5db179d1ab0",
   "metadata": {},
   "source": [
    "### Step 1: Load the Wikipedia GLoVE Word2Vec (glove.6B.50d.txt)"
   ]
  },
  {
   "cell_type": "markdown",
   "id": "164d9c54-654b-4f3b-9c26-911e8bf286af",
   "metadata": {},
   "source": [
    "Download GLoVe pretrained models: https://nlp.stanford.edu/projects/glove/"
   ]
  },
  {
   "cell_type": "code",
   "execution_count": 2,
   "id": "6c653861-53bc-445a-ac33-ea236ce5c586",
   "metadata": {},
   "outputs": [],
   "source": [
    "embeddings_dict = {}\n",
    "with open(\"glove.6B.50d.txt\", 'r', encoding=\"utf-8\") as f:\n",
    "    for line in f:\n",
    "        values = line.split()\n",
    "        word   = values[0]\n",
    "        vector = np.asarray(values[1:], \"float32\")\n",
    "        embeddings_dict[word] = vector"
   ]
  },
  {
   "cell_type": "markdown",
   "id": "7e80a964-0284-4194-800d-06c6e77424f1",
   "metadata": {},
   "source": [
    "#### Create functions"
   ]
  },
  {
   "cell_type": "code",
   "execution_count": 3,
   "id": "796452be-7579-4da2-8173-26fdaa941e51",
   "metadata": {},
   "outputs": [],
   "source": [
    "def find_closest_embeddings(embedding):\n",
    "    return sorted(embeddings_dict.keys(), key=lambda word: spatial.distance.euclidean(embeddings_dict[word], embedding))"
   ]
  },
  {
   "cell_type": "code",
   "execution_count": 4,
   "id": "6999d571-293f-4a28-af93-f3815fe64cbc",
   "metadata": {},
   "outputs": [],
   "source": [
    "def analogy(wordvec1, wordvec2, wordvec3):\n",
    "    analogy = find_closest_embeddings(embeddings_dict[wordvec1] - embeddings_dict[wordvec3] + embeddings_dict[wordvec2])[1:2]\n",
    "    return analogy[0]"
   ]
  },
  {
   "cell_type": "markdown",
   "id": "2bda7240-49fa-4034-a105-86f996f744fd",
   "metadata": {},
   "source": [
    "#### Experimenting"
   ]
  },
  {
   "cell_type": "code",
   "execution_count": 5,
   "id": "1ef1d7f3-3860-44fd-ac79-0b87b746752a",
   "metadata": {},
   "outputs": [
    {
     "data": {
      "text/plain": [
       "['prince', 'queen', 'uncle']"
      ]
     },
     "execution_count": 5,
     "metadata": {},
     "output_type": "execute_result"
    }
   ],
   "source": [
    "# Find closest three words without returning the word itself\n",
    "find_closest_embeddings(embeddings_dict[\"king\"])[1:4]"
   ]
  },
  {
   "cell_type": "code",
   "execution_count": 6,
   "id": "5d855623-01e7-4904-8f2d-707525d6ab3d",
   "metadata": {},
   "outputs": [
    {
     "name": "stdout",
     "output_type": "stream",
     "text": [
      "['queen', 'prince', 'elizabeth']\n"
     ]
    }
   ],
   "source": [
    "print(find_closest_embeddings(\n",
    "    embeddings_dict[\"king\"] - embeddings_dict[\"man\"] + embeddings_dict[\"woman\"]\n",
    ")[1:4])"
   ]
  },
  {
   "cell_type": "code",
   "execution_count": 7,
   "id": "71708ad5-b31d-4c56-b16a-9aaabed719bf",
   "metadata": {},
   "outputs": [
    {
     "name": "stdout",
     "output_type": "stream",
     "text": [
      "['prince']\n"
     ]
    }
   ],
   "source": [
    "print(find_closest_embeddings(\n",
    "    embeddings_dict[\"princess\"] - embeddings_dict[\"woman\"] + embeddings_dict[\"man\"]\n",
    ")[1:2])"
   ]
  },
  {
   "cell_type": "code",
   "execution_count": 8,
   "id": "feb40aac-002a-404b-8c4a-aabea113e4ae",
   "metadata": {},
   "outputs": [
    {
     "data": {
      "text/plain": [
       "'prince'"
      ]
     },
     "execution_count": 8,
     "metadata": {},
     "output_type": "execute_result"
    }
   ],
   "source": [
    "analogy(\"princess\", \"man\", \"woman\")"
   ]
  },
  {
   "cell_type": "markdown",
   "id": "431d0ad0-8bcf-4dc2-b11d-db9cbbd468f0",
   "metadata": {},
   "source": [
    "### Step 2: Show how similar these words are:\n",
    "- Man and Woman\n",
    "- Chair and Throne\n",
    "- water and baby"
   ]
  },
  {
   "cell_type": "code",
   "execution_count": 9,
   "id": "ff504477-825c-47c3-a9bb-6c2818ce880f",
   "metadata": {},
   "outputs": [
    {
     "name": "stdout",
     "output_type": "stream",
     "text": [
      "Cosine similarity between man and woman: 0.8860\n",
      "Cosine similarity between chair and throne: 0.2797\n",
      "Cosine similarity between water and baby: 0.4081\n"
     ]
    }
   ],
   "source": [
    "def similar(wordvec1, wordvec2):\n",
    "    # Get the embeddings for \"wordvec1\"\n",
    "    embedding = embeddings_dict[wordvec1].reshape(1, -1)\n",
    "\n",
    "    # Get embeddings for the predicted words\n",
    "    predicted_words = [wordvec2]\n",
    "    predicted_embeddings = [embeddings_dict[word] for word in predicted_words]\n",
    "\n",
    "    # Calculate cosine similarity\n",
    "    similarities = cosine_similarity(embedding, predicted_embeddings)\n",
    "\n",
    "    # Print the cosine similarity scores\n",
    "    for word, similarity_score in zip(predicted_words, similarities[0]):\n",
    "        print(f\"Cosine similarity between {wordvec1} and {word}: {similarity_score:.4f}\")\n",
    "        \n",
    "similar(\"man\", \"woman\")\n",
    "similar(\"chair\", \"throne\")\n",
    "similar(\"water\", \"baby\")"
   ]
  },
  {
   "cell_type": "markdown",
   "id": "393f062c-050f-4d9a-a1d0-9ec6b1a884d0",
   "metadata": {},
   "source": [
    "### Step 3: Using these provide analogies for the following:\n",
    "\n",
    "- _____ is to King as Woman is to Man.\n",
    "- _____ is to Princess as Man is to Woman.\n",
    "- _____ is to a woman as a child is to an adult."
   ]
  },
  {
   "cell_type": "code",
   "execution_count": 10,
   "id": "d77a308b-5a2c-4f3f-a688-34da8e006ccb",
   "metadata": {},
   "outputs": [
    {
     "name": "stdout",
     "output_type": "stream",
     "text": [
      "'queen' is to 'king' as 'woman' is to 'man'\n",
      "'prince' is to 'princess' as 'man' is to 'woman'\n",
      "'mother' is to 'woman' as 'child' is to 'adult'\n"
     ]
    }
   ],
   "source": [
    "# Define analogy examples\n",
    "analogies = [\n",
    "    (\"king\", \"woman\", \"man\"),\n",
    "    (\"princess\", \"man\", \"woman\"),\n",
    "    (\"woman\", \"child\", \"adult\")\n",
    "]\n",
    "\n",
    "# Calculate and print analogies\n",
    "for analogy_pair in analogies:\n",
    "    analogy_word = analogy(*analogy_pair)\n",
    "    print(f\"'{analogy_word}' is to '{analogy_pair[0]}' as '{analogy_pair[1]}' is to '{analogy_pair[2]}'\")"
   ]
  },
  {
   "cell_type": "markdown",
   "id": "3308c6b6-debd-4f4e-a034-af43265243ba",
   "metadata": {},
   "source": [
    "### Step 4: Apply Naive-Bayes Classifier on the Spam-Ham dataset shown in the demo"
   ]
  },
  {
   "cell_type": "code",
   "execution_count": 11,
   "id": "88ed03d5-057e-490c-b357-f450e209b997",
   "metadata": {},
   "outputs": [
    {
     "data": {
      "text/html": [
       "<div>\n",
       "<style scoped>\n",
       "    .dataframe tbody tr th:only-of-type {\n",
       "        vertical-align: middle;\n",
       "    }\n",
       "\n",
       "    .dataframe tbody tr th {\n",
       "        vertical-align: top;\n",
       "    }\n",
       "\n",
       "    .dataframe thead th {\n",
       "        text-align: right;\n",
       "    }\n",
       "</style>\n",
       "<table border=\"1\" class=\"dataframe\">\n",
       "  <thead>\n",
       "    <tr style=\"text-align: right;\">\n",
       "      <th></th>\n",
       "      <th>v1</th>\n",
       "      <th>v2</th>\n",
       "      <th>Unnamed: 2</th>\n",
       "      <th>Unnamed: 3</th>\n",
       "      <th>Unnamed: 4</th>\n",
       "    </tr>\n",
       "  </thead>\n",
       "  <tbody>\n",
       "    <tr>\n",
       "      <th>0</th>\n",
       "      <td>ham</td>\n",
       "      <td>Go until jurong point, crazy.. Available only ...</td>\n",
       "      <td>NaN</td>\n",
       "      <td>NaN</td>\n",
       "      <td>NaN</td>\n",
       "    </tr>\n",
       "    <tr>\n",
       "      <th>1</th>\n",
       "      <td>ham</td>\n",
       "      <td>Ok lar... Joking wif u oni...</td>\n",
       "      <td>NaN</td>\n",
       "      <td>NaN</td>\n",
       "      <td>NaN</td>\n",
       "    </tr>\n",
       "    <tr>\n",
       "      <th>2</th>\n",
       "      <td>spam</td>\n",
       "      <td>Free entry in 2 a wkly comp to win FA Cup fina...</td>\n",
       "      <td>NaN</td>\n",
       "      <td>NaN</td>\n",
       "      <td>NaN</td>\n",
       "    </tr>\n",
       "    <tr>\n",
       "      <th>3</th>\n",
       "      <td>ham</td>\n",
       "      <td>U dun say so early hor... U c already then say...</td>\n",
       "      <td>NaN</td>\n",
       "      <td>NaN</td>\n",
       "      <td>NaN</td>\n",
       "    </tr>\n",
       "    <tr>\n",
       "      <th>4</th>\n",
       "      <td>ham</td>\n",
       "      <td>Nah I don't think he goes to usf, he lives aro...</td>\n",
       "      <td>NaN</td>\n",
       "      <td>NaN</td>\n",
       "      <td>NaN</td>\n",
       "    </tr>\n",
       "  </tbody>\n",
       "</table>\n",
       "</div>"
      ],
      "text/plain": [
       "     v1                                                 v2 Unnamed: 2  \\\n",
       "0   ham  Go until jurong point, crazy.. Available only ...        NaN   \n",
       "1   ham                      Ok lar... Joking wif u oni...        NaN   \n",
       "2  spam  Free entry in 2 a wkly comp to win FA Cup fina...        NaN   \n",
       "3   ham  U dun say so early hor... U c already then say...        NaN   \n",
       "4   ham  Nah I don't think he goes to usf, he lives aro...        NaN   \n",
       "\n",
       "  Unnamed: 3 Unnamed: 4  \n",
       "0        NaN        NaN  \n",
       "1        NaN        NaN  \n",
       "2        NaN        NaN  \n",
       "3        NaN        NaN  \n",
       "4        NaN        NaN  "
      ]
     },
     "execution_count": 11,
     "metadata": {},
     "output_type": "execute_result"
    }
   ],
   "source": [
    "# Load the Spam-Ham dataset\n",
    "data = pd.read_csv(\"spam.csv\", encoding='latin-1')\n",
    "\n",
    "data.head()"
   ]
  },
  {
   "cell_type": "markdown",
   "id": "e627f9b4-818e-4df4-adb3-945b2a3eb23c",
   "metadata": {},
   "source": [
    "- v1 = target / labels\n",
    "- v2 = text to pre-process and use"
   ]
  },
  {
   "cell_type": "markdown",
   "id": "36c64fbf-eae5-48bf-8034-e4d392294d56",
   "metadata": {},
   "source": [
    "#### Preparing and exploring preprocessed spam-ham data"
   ]
  },
  {
   "cell_type": "code",
   "execution_count": 12,
   "id": "94c12b14-7706-4ec1-8488-48a930d4d19a",
   "metadata": {},
   "outputs": [],
   "source": [
    "# Preprocess the text\n",
    "def preprocess_text(text):\n",
    "    text = re.sub(r'\\W', ' ', text)  # Remove non-word characters\n",
    "    text = text.lower()  # Convert text to lowercase\n",
    "    tokens = nltk.word_tokenize(text)  # Tokenize the text\n",
    "    tokens = [word for word in tokens if word not in stopwords.words('english')]  # Remove stopwords\n",
    "    return ' '.join(tokens)\n",
    "\n",
    "data['clean_text'] = data['v2'].apply(preprocess_text)"
   ]
  },
  {
   "cell_type": "code",
   "execution_count": 13,
   "id": "15dc2b81-dfbf-4e22-8411-9a926a5aab38",
   "metadata": {},
   "outputs": [
    {
     "data": {
      "text/html": [
       "<div>\n",
       "<style scoped>\n",
       "    .dataframe tbody tr th:only-of-type {\n",
       "        vertical-align: middle;\n",
       "    }\n",
       "\n",
       "    .dataframe tbody tr th {\n",
       "        vertical-align: top;\n",
       "    }\n",
       "\n",
       "    .dataframe thead th {\n",
       "        text-align: right;\n",
       "    }\n",
       "</style>\n",
       "<table border=\"1\" class=\"dataframe\">\n",
       "  <thead>\n",
       "    <tr style=\"text-align: right;\">\n",
       "      <th></th>\n",
       "      <th>v1</th>\n",
       "      <th>v2</th>\n",
       "      <th>Unnamed: 2</th>\n",
       "      <th>Unnamed: 3</th>\n",
       "      <th>Unnamed: 4</th>\n",
       "      <th>clean_text</th>\n",
       "    </tr>\n",
       "  </thead>\n",
       "  <tbody>\n",
       "    <tr>\n",
       "      <th>0</th>\n",
       "      <td>ham</td>\n",
       "      <td>Go until jurong point, crazy.. Available only ...</td>\n",
       "      <td>NaN</td>\n",
       "      <td>NaN</td>\n",
       "      <td>NaN</td>\n",
       "      <td>go jurong point crazy available bugis n great ...</td>\n",
       "    </tr>\n",
       "    <tr>\n",
       "      <th>1</th>\n",
       "      <td>ham</td>\n",
       "      <td>Ok lar... Joking wif u oni...</td>\n",
       "      <td>NaN</td>\n",
       "      <td>NaN</td>\n",
       "      <td>NaN</td>\n",
       "      <td>ok lar joking wif u oni</td>\n",
       "    </tr>\n",
       "    <tr>\n",
       "      <th>2</th>\n",
       "      <td>spam</td>\n",
       "      <td>Free entry in 2 a wkly comp to win FA Cup fina...</td>\n",
       "      <td>NaN</td>\n",
       "      <td>NaN</td>\n",
       "      <td>NaN</td>\n",
       "      <td>free entry 2 wkly comp win fa cup final tkts 2...</td>\n",
       "    </tr>\n",
       "    <tr>\n",
       "      <th>3</th>\n",
       "      <td>ham</td>\n",
       "      <td>U dun say so early hor... U c already then say...</td>\n",
       "      <td>NaN</td>\n",
       "      <td>NaN</td>\n",
       "      <td>NaN</td>\n",
       "      <td>u dun say early hor u c already say</td>\n",
       "    </tr>\n",
       "    <tr>\n",
       "      <th>4</th>\n",
       "      <td>ham</td>\n",
       "      <td>Nah I don't think he goes to usf, he lives aro...</td>\n",
       "      <td>NaN</td>\n",
       "      <td>NaN</td>\n",
       "      <td>NaN</td>\n",
       "      <td>nah think goes usf lives around though</td>\n",
       "    </tr>\n",
       "  </tbody>\n",
       "</table>\n",
       "</div>"
      ],
      "text/plain": [
       "     v1                                                 v2 Unnamed: 2  \\\n",
       "0   ham  Go until jurong point, crazy.. Available only ...        NaN   \n",
       "1   ham                      Ok lar... Joking wif u oni...        NaN   \n",
       "2  spam  Free entry in 2 a wkly comp to win FA Cup fina...        NaN   \n",
       "3   ham  U dun say so early hor... U c already then say...        NaN   \n",
       "4   ham  Nah I don't think he goes to usf, he lives aro...        NaN   \n",
       "\n",
       "  Unnamed: 3 Unnamed: 4                                         clean_text  \n",
       "0        NaN        NaN  go jurong point crazy available bugis n great ...  \n",
       "1        NaN        NaN                            ok lar joking wif u oni  \n",
       "2        NaN        NaN  free entry 2 wkly comp win fa cup final tkts 2...  \n",
       "3        NaN        NaN                u dun say early hor u c already say  \n",
       "4        NaN        NaN             nah think goes usf lives around though  "
      ]
     },
     "execution_count": 13,
     "metadata": {},
     "output_type": "execute_result"
    }
   ],
   "source": [
    "data.head()"
   ]
  },
  {
   "cell_type": "markdown",
   "id": "a768df52-3145-4ad1-b709-3484df6a2d19",
   "metadata": {},
   "source": [
    "#### Split the dataset into train and test sets 80/20"
   ]
  },
  {
   "cell_type": "code",
   "execution_count": 14,
   "id": "8809fbec-3aba-47e9-a8b4-2b78d1e014d4",
   "metadata": {},
   "outputs": [],
   "source": [
    "X_train, X_test, y_train, y_test = train_test_split(data['clean_text'], data['v1'], test_size=0.2, random_state=42)"
   ]
  },
  {
   "cell_type": "markdown",
   "id": "27be9e69-dd3f-487b-92c1-102fd86b1440",
   "metadata": {},
   "source": [
    "#### Vectorize data for model ingestion by convert texting data to numerical features using CountVectorizer"
   ]
  },
  {
   "cell_type": "code",
   "execution_count": 15,
   "id": "c1f681d6-9112-494d-b017-6924401a2c42",
   "metadata": {},
   "outputs": [],
   "source": [
    "vectorizer = CountVectorizer()\n",
    "X_train_counts = vectorizer.fit_transform(X_train)\n",
    "X_test_counts  = vectorizer.transform(X_test)"
   ]
  },
  {
   "cell_type": "markdown",
   "id": "7911e5a0-9e98-4d10-9534-766093f22426",
   "metadata": {},
   "source": [
    "#### Train the Naive-Bayes Classifier"
   ]
  },
  {
   "cell_type": "code",
   "execution_count": 16,
   "id": "27fa988c-1cc1-46c8-a846-0595c45c292b",
   "metadata": {},
   "outputs": [
    {
     "data": {
      "text/html": [
       "<style>#sk-container-id-1 {color: black;background-color: white;}#sk-container-id-1 pre{padding: 0;}#sk-container-id-1 div.sk-toggleable {background-color: white;}#sk-container-id-1 label.sk-toggleable__label {cursor: pointer;display: block;width: 100%;margin-bottom: 0;padding: 0.3em;box-sizing: border-box;text-align: center;}#sk-container-id-1 label.sk-toggleable__label-arrow:before {content: \"▸\";float: left;margin-right: 0.25em;color: #696969;}#sk-container-id-1 label.sk-toggleable__label-arrow:hover:before {color: black;}#sk-container-id-1 div.sk-estimator:hover label.sk-toggleable__label-arrow:before {color: black;}#sk-container-id-1 div.sk-toggleable__content {max-height: 0;max-width: 0;overflow: hidden;text-align: left;background-color: #f0f8ff;}#sk-container-id-1 div.sk-toggleable__content pre {margin: 0.2em;color: black;border-radius: 0.25em;background-color: #f0f8ff;}#sk-container-id-1 input.sk-toggleable__control:checked~div.sk-toggleable__content {max-height: 200px;max-width: 100%;overflow: auto;}#sk-container-id-1 input.sk-toggleable__control:checked~label.sk-toggleable__label-arrow:before {content: \"▾\";}#sk-container-id-1 div.sk-estimator input.sk-toggleable__control:checked~label.sk-toggleable__label {background-color: #d4ebff;}#sk-container-id-1 div.sk-label input.sk-toggleable__control:checked~label.sk-toggleable__label {background-color: #d4ebff;}#sk-container-id-1 input.sk-hidden--visually {border: 0;clip: rect(1px 1px 1px 1px);clip: rect(1px, 1px, 1px, 1px);height: 1px;margin: -1px;overflow: hidden;padding: 0;position: absolute;width: 1px;}#sk-container-id-1 div.sk-estimator {font-family: monospace;background-color: #f0f8ff;border: 1px dotted black;border-radius: 0.25em;box-sizing: border-box;margin-bottom: 0.5em;}#sk-container-id-1 div.sk-estimator:hover {background-color: #d4ebff;}#sk-container-id-1 div.sk-parallel-item::after {content: \"\";width: 100%;border-bottom: 1px solid gray;flex-grow: 1;}#sk-container-id-1 div.sk-label:hover label.sk-toggleable__label {background-color: #d4ebff;}#sk-container-id-1 div.sk-serial::before {content: \"\";position: absolute;border-left: 1px solid gray;box-sizing: border-box;top: 0;bottom: 0;left: 50%;z-index: 0;}#sk-container-id-1 div.sk-serial {display: flex;flex-direction: column;align-items: center;background-color: white;padding-right: 0.2em;padding-left: 0.2em;position: relative;}#sk-container-id-1 div.sk-item {position: relative;z-index: 1;}#sk-container-id-1 div.sk-parallel {display: flex;align-items: stretch;justify-content: center;background-color: white;position: relative;}#sk-container-id-1 div.sk-item::before, #sk-container-id-1 div.sk-parallel-item::before {content: \"\";position: absolute;border-left: 1px solid gray;box-sizing: border-box;top: 0;bottom: 0;left: 50%;z-index: -1;}#sk-container-id-1 div.sk-parallel-item {display: flex;flex-direction: column;z-index: 1;position: relative;background-color: white;}#sk-container-id-1 div.sk-parallel-item:first-child::after {align-self: flex-end;width: 50%;}#sk-container-id-1 div.sk-parallel-item:last-child::after {align-self: flex-start;width: 50%;}#sk-container-id-1 div.sk-parallel-item:only-child::after {width: 0;}#sk-container-id-1 div.sk-dashed-wrapped {border: 1px dashed gray;margin: 0 0.4em 0.5em 0.4em;box-sizing: border-box;padding-bottom: 0.4em;background-color: white;}#sk-container-id-1 div.sk-label label {font-family: monospace;font-weight: bold;display: inline-block;line-height: 1.2em;}#sk-container-id-1 div.sk-label-container {text-align: center;}#sk-container-id-1 div.sk-container {/* jupyter's `normalize.less` sets `[hidden] { display: none; }` but bootstrap.min.css set `[hidden] { display: none !important; }` so we also need the `!important` here to be able to override the default hidden behavior on the sphinx rendered scikit-learn.org. See: https://github.com/scikit-learn/scikit-learn/issues/21755 */display: inline-block !important;position: relative;}#sk-container-id-1 div.sk-text-repr-fallback {display: none;}</style><div id=\"sk-container-id-1\" class=\"sk-top-container\"><div class=\"sk-text-repr-fallback\"><pre>MultinomialNB()</pre><b>In a Jupyter environment, please rerun this cell to show the HTML representation or trust the notebook. <br />On GitHub, the HTML representation is unable to render, please try loading this page with nbviewer.org.</b></div><div class=\"sk-container\" hidden><div class=\"sk-item\"><div class=\"sk-estimator sk-toggleable\"><input class=\"sk-toggleable__control sk-hidden--visually\" id=\"sk-estimator-id-1\" type=\"checkbox\" checked><label for=\"sk-estimator-id-1\" class=\"sk-toggleable__label sk-toggleable__label-arrow\">MultinomialNB</label><div class=\"sk-toggleable__content\"><pre>MultinomialNB()</pre></div></div></div></div></div>"
      ],
      "text/plain": [
       "MultinomialNB()"
      ]
     },
     "execution_count": 16,
     "metadata": {},
     "output_type": "execute_result"
    }
   ],
   "source": [
    "nb_classifier = MultinomialNB()\n",
    "nb_classifier.fit(X_train_counts, y_train)"
   ]
  },
  {
   "cell_type": "markdown",
   "id": "3ebab237-a9c4-4679-be75-1919f708ee8c",
   "metadata": {},
   "source": [
    "### Evaluate the classifier"
   ]
  },
  {
   "cell_type": "code",
   "execution_count": 17,
   "id": "977f710d-d8a5-4a65-91b8-74112950de33",
   "metadata": {},
   "outputs": [
    {
     "name": "stdout",
     "output_type": "stream",
     "text": [
      "Accuracy: 0.9821\n"
     ]
    }
   ],
   "source": [
    "y_pred = nb_classifier.predict(X_test_counts)\n",
    "accuracy = accuracy_score(y_test, y_pred)\n",
    "print(f\"Accuracy: {accuracy:.4f}\")"
   ]
  },
  {
   "cell_type": "code",
   "execution_count": 18,
   "id": "d1de1a2d-ee6d-42b9-8e4e-3122f61b97e2",
   "metadata": {},
   "outputs": [
    {
     "name": "stdout",
     "output_type": "stream",
     "text": [
      "confusion_matrix:  [[959   6]\n",
      " [ 14 136]]\n"
     ]
    },
    {
     "data": {
      "image/png": "[encoded data removed]",
      "text/plain": [
       "<Figure size 640x480 with 2 Axes>"
      ]
     },
     "metadata": {},
     "output_type": "display_data"
    },
    {
     "data": {
      "image/png": "[encoded data removed]",
      "text/plain": [
       "<Figure size 640x480 with 2 Axes>"
      ]
     },
     "metadata": {},
     "output_type": "display_data"
    }
   ],
   "source": [
    "#confusion matrix\n",
    "confusion_matrix = confusion_matrix(y_test, y_pred, labels=[\"ham\",\"spam\"])\n",
    "skplt.metrics.plot_confusion_matrix(y_test, y_pred, normalize=False)\n",
    "skplt.metrics.plot_confusion_matrix(y_test, y_pred, normalize=True)\n",
    "\n",
    "print('confusion_matrix: ', confusion_matrix)\n",
    "plt.show()"
   ]
  },
  {
   "cell_type": "code",
   "execution_count": null,
   "id": "3fe52f14-fd44-420d-9317-cb72df71b514",
   "metadata": {},
   "outputs": [],
   "source": []
  }
 ],
 "metadata": {
  "kernelspec": {
   "display_name": "Python 3 (ipykernel)",
   "language": "python",
   "name": "python3"
  },
  "language_info": {
   "codemirror_mode": {
    "name": "ipython",
    "version": 3
   },
   "file_extension": ".py",
   "mimetype": "text/x-python",
   "name": "python",
   "nbconvert_exporter": "python",
   "pygments_lexer": "ipython3",
   "version": "3.11.5"
  }
 },
 "nbformat": 4,
 "nbformat_minor": 5
}
