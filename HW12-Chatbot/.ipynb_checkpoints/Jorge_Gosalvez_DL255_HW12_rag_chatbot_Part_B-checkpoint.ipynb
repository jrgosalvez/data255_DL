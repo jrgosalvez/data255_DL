{
  "cells": [
    {
      "cell_type": "markdown",
      "metadata": {
        "id": "view-in-github",
        "colab_type": "text"
      },
      "source": [
        "<a href=\"https://colab.research.google.com/github/jrgosalvez/data255_DL/blob/main/HW12-Chatbot/Jorge_Gosalvez_DL255_HW12_rag_chatbot_Part_B.ipynb\" target=\"_parent\"><img src=\"https://colab.research.google.com/assets/colab-badge.svg\" alt=\"Open In Colab\"/></a>"
      ]
    },
    {
      "cell_type": "markdown",
      "source": [
        "# SJSU MSDS 255 DL, Spring 2024 - Building RAG Chatbots with LangChain\n",
        "Homework 12 - Part B: Custom Data Chatbot"
      ],
      "metadata": {
        "id": "Pld0aGdIBVhZ"
      }
    },
    {
      "cell_type": "markdown",
      "metadata": {
        "id": "i4WsAryrw4wU"
      },
      "source": [
        "Git: https://github.com/jrgosalvez/data255_DL"
      ]
    },
    {
      "cell_type": "markdown",
      "source": [
        "Sources:\n",
        "* SJSU DL 255 RAG Chatbot with LangChain demo\n",
        "* [OpenAI API key](https://platform.openai.com/account/api-keys) and [Pinecone API key](https://app.pinecone.io)\n",
        "* [OpenAI Embeddings](https://platform.openai.com/docs/guides/embeddings/use-cases)\n",
        "* [RAG on Complex PDFs with Langchain](https://medium.com/the-ai-forum/rag-on-complex-pdf-using-llamaparse-langchain-and-groq-5b132bd1f9f3)"
      ],
      "metadata": {
        "id": "9p6sE9-KBxdL"
      }
    },
    {
      "cell_type": "markdown",
      "metadata": {
        "id": "1xF28qk8w4wT"
      },
      "source": [
        "[![Open In Colab](https://colab.research.google.com/assets/colab-badge.svg)](https://colab.research.google.com/github/pinecone-io/examples/blob/master/learn/generation/langchain/rag-chatbot.ipynb) [![Open nbviewer](https://raw.githubusercontent.com/pinecone-io/examples/master/assets/nbviewer-shield.svg)](https://nbviewer.org/github/pinecone-io/examples/blob/master/learn/generation/langchain/rag-chatbot.ipynb)"
      ]
    },
    {
      "cell_type": "markdown",
      "metadata": {
        "id": "d3xE-W5ew4wU"
      },
      "source": [
        "### Part B Goal\n",
        "\n",
        "Build a chatbot to answer questions based on custom data from multiple documents using LangChain, OpenAI, and Pinecone vector DB, to build a chatbot capable of learning from the external world using **R**etrieval **A**ugmented **G**eneration (RAG).\n",
        "\n",
        "The chatbot will save the conversation in memory such that it can expand on the conversation based on the past and summarize the conversation."
      ]
    },
    {
      "cell_type": "markdown",
      "metadata": {
        "id": "rg8_mMrYw4wV"
      },
      "source": [
        "### Prerequisites"
      ]
    },
    {
      "cell_type": "markdown",
      "metadata": {
        "id": "LnRFn2gdw4wV"
      },
      "source": [
        "Install the following Python libraries:\n",
        "\n",
        "- **langchain**: This is a library for GenAI. We'll use it to chain together different language models and components for our chatbot.\n",
        "- **openai**: This is the official OpenAI Python client. We'll use it to interact with the OpenAI API and generate responses for our chatbot.\n",
        "- **datasets**: This library provides a vast array of datasets for machine learning. We'll use it to load our knowledge base for the chatbot.\n",
        "- **pinecone-client**: This is the official Pinecone Python client. We'll use it to interact with the Pinecone API and store our chatbot's knowledge base in a vector database.\n",
        "\n",
        "**NOTE**: *OpenAI dataloaders will not load locally for on-prem devices easily. To simplify the use of these loaders, it is recommended to use an online notebook such as CoLab.*"
      ]
    },
    {
      "cell_type": "code",
      "execution_count": 1,
      "metadata": {
        "id": "CflZ3e82w4wV",
        "colab": {
          "base_uri": "https://localhost:8080/"
        },
        "outputId": "6725223f-1822-4d12-9d23-04e54777eb7e"
      },
      "outputs": [
        {
          "output_type": "stream",
          "name": "stdout",
          "text": [
            "\u001b[2K     \u001b[90m━━━━━━━━━━━━━━━━━━━━━━━━━━━━━━━━━━━━━━━━\u001b[0m \u001b[32m803.3/803.3 kB\u001b[0m \u001b[31m7.8 MB/s\u001b[0m eta \u001b[36m0:00:00\u001b[0m\n",
            "\u001b[2K     \u001b[90m━━━━━━━━━━━━━━━━━━━━━━━━━━━━━━━━━━━━━━━━\u001b[0m \u001b[32m225.4/225.4 kB\u001b[0m \u001b[31m17.3 MB/s\u001b[0m eta \u001b[36m0:00:00\u001b[0m\n",
            "\u001b[2K     \u001b[90m━━━━━━━━━━━━━━━━━━━━━━━━━━━━━━━━━━━━━━━━\u001b[0m \u001b[32m469.0/469.0 kB\u001b[0m \u001b[31m30.0 MB/s\u001b[0m eta \u001b[36m0:00:00\u001b[0m\n",
            "\u001b[2K     \u001b[90m━━━━━━━━━━━━━━━━━━━━━━━━━━━━━━━━━━━━━━━━\u001b[0m \u001b[32m211.0/211.0 kB\u001b[0m \u001b[31m18.0 MB/s\u001b[0m eta \u001b[36m0:00:00\u001b[0m\n",
            "\u001b[2K     \u001b[90m━━━━━━━━━━━━━━━━━━━━━━━━━━━━━━━━━━━━━━━━\u001b[0m \u001b[32m2.0/2.0 MB\u001b[0m \u001b[31m54.9 MB/s\u001b[0m eta \u001b[36m0:00:00\u001b[0m\n",
            "\u001b[2K     \u001b[90m━━━━━━━━━━━━━━━━━━━━━━━━━━━━━━━━━━━━━━━━\u001b[0m \u001b[32m2.0/2.0 MB\u001b[0m \u001b[31m26.0 MB/s\u001b[0m eta \u001b[36m0:00:00\u001b[0m\n",
            "\u001b[2K     \u001b[90m━━━━━━━━━━━━━━━━━━━━━━━━━━━━━━━━━━━━━━━━\u001b[0m \u001b[32m302.8/302.8 kB\u001b[0m \u001b[31m21.9 MB/s\u001b[0m eta \u001b[36m0:00:00\u001b[0m\n",
            "\u001b[2K     \u001b[90m━━━━━━━━━━━━━━━━━━━━━━━━━━━━━━━━━━━━━━━━\u001b[0m \u001b[32m56.5/56.5 kB\u001b[0m \u001b[31m3.9 MB/s\u001b[0m eta \u001b[36m0:00:00\u001b[0m\n",
            "\u001b[2K     \u001b[90m━━━━━━━━━━━━━━━━━━━━━━━━━━━━━━━━━━━━━━━━\u001b[0m \u001b[32m75.6/75.6 kB\u001b[0m \u001b[31m5.2 MB/s\u001b[0m eta \u001b[36m0:00:00\u001b[0m\n",
            "\u001b[2K     \u001b[90m━━━━━━━━━━━━━━━━━━━━━━━━━━━━━━━━━━━━━━━━\u001b[0m \u001b[32m110.5/110.5 kB\u001b[0m \u001b[31m12.2 MB/s\u001b[0m eta \u001b[36m0:00:00\u001b[0m\n",
            "\u001b[2K     \u001b[90m━━━━━━━━━━━━━━━━━━━━━━━━━━━━━━━━━━━━━━━━\u001b[0m \u001b[32m194.1/194.1 kB\u001b[0m \u001b[31m9.5 MB/s\u001b[0m eta \u001b[36m0:00:00\u001b[0m\n",
            "\u001b[2K     \u001b[90m━━━━━━━━━━━━━━━━━━━━━━━━━━━━━━━━━━━━━━━━\u001b[0m \u001b[32m134.8/134.8 kB\u001b[0m \u001b[31m5.2 MB/s\u001b[0m eta \u001b[36m0:00:00\u001b[0m\n",
            "\u001b[2K     \u001b[90m━━━━━━━━━━━━━━━━━━━━━━━━━━━━━━━━━━━━━━━━\u001b[0m \u001b[32m49.3/49.3 kB\u001b[0m \u001b[31m2.9 MB/s\u001b[0m eta \u001b[36m0:00:00\u001b[0m\n",
            "\u001b[2K     \u001b[90m━━━━━━━━━━━━━━━━━━━━━━━━━━━━━━━━━━━━━━━━\u001b[0m \u001b[32m77.9/77.9 kB\u001b[0m \u001b[31m905.3 kB/s\u001b[0m eta \u001b[36m0:00:00\u001b[0m\n",
            "\u001b[2K     \u001b[90m━━━━━━━━━━━━━━━━━━━━━━━━━━━━━━━━━━━━━━━━\u001b[0m \u001b[32m58.3/58.3 kB\u001b[0m \u001b[31m5.0 MB/s\u001b[0m eta \u001b[36m0:00:00\u001b[0m\n",
            "\u001b[2K     \u001b[90m━━━━━━━━━━━━━━━━━━━━━━━━━━━━━━━━━━━━━━━━\u001b[0m \u001b[32m2.0/2.0 MB\u001b[0m \u001b[31m28.8 MB/s\u001b[0m eta \u001b[36m0:00:00\u001b[0m\n",
            "\u001b[2K     \u001b[90m━━━━━━━━━━━━━━━━━━━━━━━━━━━━━━━━━━━━━━━━\u001b[0m \u001b[32m1.9/1.9 MB\u001b[0m \u001b[31m31.0 MB/s\u001b[0m eta \u001b[36m0:00:00\u001b[0m\n",
            "\u001b[2K     \u001b[90m━━━━━━━━━━━━━━━━━━━━━━━━━━━━━━━━━━━━━━━━\u001b[0m \u001b[32m1.9/1.9 MB\u001b[0m \u001b[31m37.4 MB/s\u001b[0m eta \u001b[36m0:00:00\u001b[0m\n",
            "\u001b[2K     \u001b[90m━━━━━━━━━━━━━━━━━━━━━━━━━━━━━━━━━━━━━━━━\u001b[0m \u001b[32m1.9/1.9 MB\u001b[0m \u001b[31m21.9 MB/s\u001b[0m eta \u001b[36m0:00:00\u001b[0m\n",
            "\u001b[2K     \u001b[90m━━━━━━━━━━━━━━━━━━━━━━━━━━━━━━━━━━━━━━━━\u001b[0m \u001b[32m1.9/1.9 MB\u001b[0m \u001b[31m39.1 MB/s\u001b[0m eta \u001b[36m0:00:00\u001b[0m\n",
            "\u001b[2K     \u001b[90m━━━━━━━━━━━━━━━━━━━━━━━━━━━━━━━━━━━━━━━━\u001b[0m \u001b[32m1.9/1.9 MB\u001b[0m \u001b[31m23.3 MB/s\u001b[0m eta \u001b[36m0:00:00\u001b[0m\n",
            "\u001b[2K     \u001b[90m━━━━━━━━━━━━━━━━━━━━━━━━━━━━━━━━━━━━━━━━\u001b[0m \u001b[32m1.8/1.8 MB\u001b[0m \u001b[31m27.1 MB/s\u001b[0m eta \u001b[36m0:00:00\u001b[0m\n",
            "\u001b[2K     \u001b[90m━━━━━━━━━━━━━━━━━━━━━━━━━━━━━━━━━━━━━━━━\u001b[0m \u001b[32m1.8/1.8 MB\u001b[0m \u001b[31m28.0 MB/s\u001b[0m eta \u001b[36m0:00:00\u001b[0m\n",
            "\u001b[2K     \u001b[90m━━━━━━━━━━━━━━━━━━━━━━━━━━━━━━━━━━━━━━━━\u001b[0m \u001b[32m1.8/1.8 MB\u001b[0m \u001b[31m12.5 MB/s\u001b[0m eta \u001b[36m0:00:00\u001b[0m\n",
            "\u001b[2K     \u001b[90m━━━━━━━━━━━━━━━━━━━━━━━━━━━━━━━━━━━━━━━━\u001b[0m \u001b[32m1.8/1.8 MB\u001b[0m \u001b[31m26.5 MB/s\u001b[0m eta \u001b[36m0:00:00\u001b[0m\n",
            "\u001b[2K     \u001b[90m━━━━━━━━━━━━━━━━━━━━━━━━━━━━━━━━━━━━━━━━\u001b[0m \u001b[32m1.8/1.8 MB\u001b[0m \u001b[31m25.5 MB/s\u001b[0m eta \u001b[36m0:00:00\u001b[0m\n",
            "\u001b[2K     \u001b[90m━━━━━━━━━━━━━━━━━━━━━━━━━━━━━━━━━━━━━━━━\u001b[0m \u001b[32m1.7/1.7 MB\u001b[0m \u001b[31m63.0 MB/s\u001b[0m eta \u001b[36m0:00:00\u001b[0m\n",
            "\u001b[2K     \u001b[90m━━━━━━━━━━━━━━━━━━━━━━━━━━━━━━━━━━━━━━━━\u001b[0m \u001b[32m1.7/1.7 MB\u001b[0m \u001b[31m73.3 MB/s\u001b[0m eta \u001b[36m0:00:00\u001b[0m\n",
            "\u001b[2K     \u001b[90m━━━━━━━━━━━━━━━━━━━━━━━━━━━━━━━━━━━━━━━━\u001b[0m \u001b[32m1.7/1.7 MB\u001b[0m \u001b[31m22.9 MB/s\u001b[0m eta \u001b[36m0:00:00\u001b[0m\n",
            "\u001b[2K     \u001b[90m━━━━━━━━━━━━━━━━━━━━━━━━━━━━━━━━━━━━━━━━\u001b[0m \u001b[32m1.7/1.7 MB\u001b[0m \u001b[31m59.8 MB/s\u001b[0m eta \u001b[36m0:00:00\u001b[0m\n",
            "\u001b[2K     \u001b[90m━━━━━━━━━━━━━━━━━━━━━━━━━━━━━━━━━━━━━━━━\u001b[0m \u001b[32m1.7/1.7 MB\u001b[0m \u001b[31m27.7 MB/s\u001b[0m eta \u001b[36m0:00:00\u001b[0m\n",
            "\u001b[2K     \u001b[90m━━━━━━━━━━━━━━━━━━━━━━━━━━━━━━━━━━━━━━━━\u001b[0m \u001b[32m303.0/303.0 kB\u001b[0m \u001b[31m10.9 MB/s\u001b[0m eta \u001b[36m0:00:00\u001b[0m\n",
            "\u001b[2K     \u001b[90m━━━━━━━━━━━━━━━━━━━━━━━━━━━━━━━━━━━━━━━━\u001b[0m \u001b[32m302.9/302.9 kB\u001b[0m \u001b[31m17.0 MB/s\u001b[0m eta \u001b[36m0:00:00\u001b[0m\n",
            "\u001b[2K     \u001b[90m━━━━━━━━━━━━━━━━━━━━━━━━━━━━━━━━━━━━━━━━\u001b[0m \u001b[32m302.2/302.2 kB\u001b[0m \u001b[31m15.5 MB/s\u001b[0m eta \u001b[36m0:00:00\u001b[0m\n",
            "\u001b[2K     \u001b[90m━━━━━━━━━━━━━━━━━━━━━━━━━━━━━━━━━━━━━━━━\u001b[0m \u001b[32m299.3/299.3 kB\u001b[0m \u001b[31m23.4 MB/s\u001b[0m eta \u001b[36m0:00:00\u001b[0m\n",
            "\u001b[2K     \u001b[90m━━━━━━━━━━━━━━━━━━━━━━━━━━━━━━━━━━━━━━━━\u001b[0m \u001b[32m291.3/291.3 kB\u001b[0m \u001b[31m7.0 MB/s\u001b[0m eta \u001b[36m0:00:00\u001b[0m\n",
            "\u001b[2K     \u001b[90m━━━━━━━━━━━━━━━━━━━━━━━━━━━━━━━━━━━━━━━━\u001b[0m \u001b[32m290.2/290.2 kB\u001b[0m \u001b[31m7.5 MB/s\u001b[0m eta \u001b[36m0:00:00\u001b[0m\n",
            "\u001b[2K     \u001b[90m━━━━━━━━━━━━━━━━━━━━━━━━━━━━━━━━━━━━━━━━\u001b[0m \u001b[32m289.1/289.1 kB\u001b[0m \u001b[31m15.1 MB/s\u001b[0m eta \u001b[36m0:00:00\u001b[0m\n",
            "\u001b[2K     \u001b[90m━━━━━━━━━━━━━━━━━━━━━━━━━━━━━━━━━━━━━━━━\u001b[0m \u001b[32m287.5/287.5 kB\u001b[0m \u001b[31m25.4 MB/s\u001b[0m eta \u001b[36m0:00:00\u001b[0m\n",
            "\u001b[2K     \u001b[90m━━━━━━━━━━━━━━━━━━━━━━━━━━━━━━━━━━━━━━━━\u001b[0m \u001b[32m278.4/278.4 kB\u001b[0m \u001b[31m28.3 MB/s\u001b[0m eta \u001b[36m0:00:00\u001b[0m\n",
            "\u001b[2K     \u001b[90m━━━━━━━━━━━━━━━━━━━━━━━━━━━━━━━━━━━━━━━━\u001b[0m \u001b[32m276.8/276.8 kB\u001b[0m \u001b[31m8.3 MB/s\u001b[0m eta \u001b[36m0:00:00\u001b[0m\n",
            "\u001b[2K     \u001b[90m━━━━━━━━━━━━━━━━━━━━━━━━━━━━━━━━━━━━━━━━\u001b[0m \u001b[32m276.6/276.6 kB\u001b[0m \u001b[31m27.7 MB/s\u001b[0m eta \u001b[36m0:00:00\u001b[0m\n",
            "\u001b[2K     \u001b[90m━━━━━━━━━━━━━━━━━━━━━━━━━━━━━━━━━━━━━━━━\u001b[0m \u001b[32m279.2/279.2 kB\u001b[0m \u001b[31m28.2 MB/s\u001b[0m eta \u001b[36m0:00:00\u001b[0m\n",
            "\u001b[2K     \u001b[90m━━━━━━━━━━━━━━━━━━━━━━━━━━━━━━━━━━━━━━━━\u001b[0m \u001b[32m274.6/274.6 kB\u001b[0m \u001b[31m27.6 MB/s\u001b[0m eta \u001b[36m0:00:00\u001b[0m\n",
            "\u001b[2K     \u001b[90m━━━━━━━━━━━━━━━━━━━━━━━━━━━━━━━━━━━━━━━━\u001b[0m \u001b[32m273.9/273.9 kB\u001b[0m \u001b[31m25.0 MB/s\u001b[0m eta \u001b[36m0:00:00\u001b[0m\n",
            "\u001b[2K     \u001b[90m━━━━━━━━━━━━━━━━━━━━━━━━━━━━━━━━━━━━━━━━\u001b[0m \u001b[32m273.0/273.0 kB\u001b[0m \u001b[31m25.2 MB/s\u001b[0m eta \u001b[36m0:00:00\u001b[0m\n",
            "\u001b[2K     \u001b[90m━━━━━━━━━━━━━━━━━━━━━━━━━━━━━━━━━━━━━━━━\u001b[0m \u001b[32m271.6/271.6 kB\u001b[0m \u001b[31m27.4 MB/s\u001b[0m eta \u001b[36m0:00:00\u001b[0m\n",
            "\u001b[2K     \u001b[90m━━━━━━━━━━━━━━━━━━━━━━━━━━━━━━━━━━━━━━━━\u001b[0m \u001b[32m269.1/269.1 kB\u001b[0m \u001b[31m27.8 MB/s\u001b[0m eta \u001b[36m0:00:00\u001b[0m\n",
            "\u001b[2K     \u001b[90m━━━━━━━━━━━━━━━━━━━━━━━━━━━━━━━━━━━━━━━━\u001b[0m \u001b[32m260.9/260.9 kB\u001b[0m \u001b[31m22.2 MB/s\u001b[0m eta \u001b[36m0:00:00\u001b[0m\n",
            "\u001b[2K     \u001b[90m━━━━━━━━━━━━━━━━━━━━━━━━━━━━━━━━━━━━━━━━\u001b[0m \u001b[32m258.8/258.8 kB\u001b[0m \u001b[31m2.8 MB/s\u001b[0m eta \u001b[36m0:00:00\u001b[0m\n",
            "\u001b[2K     \u001b[90m━━━━━━━━━━━━━━━━━━━━━━━━━━━━━━━━━━━━━━━━\u001b[0m \u001b[32m256.9/256.9 kB\u001b[0m \u001b[31m27.5 MB/s\u001b[0m eta \u001b[36m0:00:00\u001b[0m\n",
            "\u001b[2K     \u001b[90m━━━━━━━━━━━━━━━━━━━━━━━━━━━━━━━━━━━━━━━━\u001b[0m \u001b[32m252.6/252.6 kB\u001b[0m \u001b[31m29.4 MB/s\u001b[0m eta \u001b[36m0:00:00\u001b[0m\n",
            "\u001b[2K     \u001b[90m━━━━━━━━━━━━━━━━━━━━━━━━━━━━━━━━━━━━━━━━\u001b[0m \u001b[32m252.4/252.4 kB\u001b[0m \u001b[31m31.9 MB/s\u001b[0m eta \u001b[36m0:00:00\u001b[0m\n",
            "\u001b[2K     \u001b[90m━━━━━━━━━━━━━━━━━━━━━━━━━━━━━━━━━━━━━━━━\u001b[0m \u001b[32m250.8/250.8 kB\u001b[0m \u001b[31m31.0 MB/s\u001b[0m eta \u001b[36m0:00:00\u001b[0m\n",
            "\u001b[2K     \u001b[90m━━━━━━━━━━━━━━━━━━━━━━━━━━━━━━━━━━━━━━━━\u001b[0m \u001b[32m246.4/246.4 kB\u001b[0m \u001b[31m29.4 MB/s\u001b[0m eta \u001b[36m0:00:00\u001b[0m\n",
            "\u001b[2K     \u001b[90m━━━━━━━━━━━━━━━━━━━━━━━━━━━━━━━━━━━━━━━━\u001b[0m \u001b[32m242.1/242.1 kB\u001b[0m \u001b[31m29.6 MB/s\u001b[0m eta \u001b[36m0:00:00\u001b[0m\n",
            "\u001b[2K     \u001b[90m━━━━━━━━━━━━━━━━━━━━━━━━━━━━━━━━━━━━━━━━\u001b[0m \u001b[32m241.3/241.3 kB\u001b[0m \u001b[31m30.5 MB/s\u001b[0m eta \u001b[36m0:00:00\u001b[0m\n",
            "\u001b[2K     \u001b[90m━━━━━━━━━━━━━━━━━━━━━━━━━━━━━━━━━━━━━━━━\u001b[0m \u001b[32m241.2/241.2 kB\u001b[0m \u001b[31m30.0 MB/s\u001b[0m eta \u001b[36m0:00:00\u001b[0m\n",
            "\u001b[2K     \u001b[90m━━━━━━━━━━━━━━━━━━━━━━━━━━━━━━━━━━━━━━━━\u001b[0m \u001b[32m55.4/55.4 kB\u001b[0m \u001b[31m7.7 MB/s\u001b[0m eta \u001b[36m0:00:00\u001b[0m\n",
            "\u001b[2K     \u001b[90m━━━━━━━━━━━━━━━━━━━━━━━━━━━━━━━━━━━━━━━━\u001b[0m \u001b[32m53.0/53.0 kB\u001b[0m \u001b[31m7.3 MB/s\u001b[0m eta \u001b[36m0:00:00\u001b[0m\n",
            "\u001b[2K     \u001b[90m━━━━━━━━━━━━━━━━━━━━━━━━━━━━━━━━━━━━━━━━\u001b[0m \u001b[32m134.8/134.8 kB\u001b[0m \u001b[31m16.6 MB/s\u001b[0m eta \u001b[36m0:00:00\u001b[0m\n",
            "\u001b[2K     \u001b[90m━━━━━━━━━━━━━━━━━━━━━━━━━━━━━━━━━━━━━━━━\u001b[0m \u001b[32m134.3/134.3 kB\u001b[0m \u001b[31m17.9 MB/s\u001b[0m eta \u001b[36m0:00:00\u001b[0m\n",
            "\u001b[?25h"
          ]
        }
      ],
      "source": [
        "!pip install -qU \\\n",
        "    langchain==0.0.354 \\\n",
        "    openai==1.6.1 \\\n",
        "    datasets==2.10.1 \\\n",
        "    pinecone-client==3.1.0 \\\n",
        "    tiktoken==0.5.2"
      ]
    },
    {
      "cell_type": "markdown",
      "metadata": {
        "id": "ZUH6ontXw4wV"
      },
      "source": [
        "### BACKGROUND: Building a Chatbot (no RAG)"
      ]
    },
    {
      "cell_type": "markdown",
      "metadata": {
        "id": "VAps57bQw4wW"
      },
      "source": [
        "We will be relying heavily on the LangChain library to bring together the different components needed for our chatbot. To begin, we'll create a simple chatbot without any retrieval augmentation. We do this by initializing a `ChatOpenAI` object. For this we do need an [OpenAI API key](https://platform.openai.com/account/api-keys)."
      ]
    },
    {
      "cell_type": "code",
      "execution_count": 2,
      "metadata": {
        "id": "-hF4HeBjw4wW",
        "colab": {
          "base_uri": "https://localhost:8080/"
        },
        "outputId": "b004d426-d070-40da-9798-629f41162aff"
      },
      "outputs": [
        {
          "output_type": "stream",
          "name": "stderr",
          "text": [
            "/usr/local/lib/python3.10/dist-packages/langchain_core/_api/deprecation.py:117: LangChainDeprecationWarning: The class `langchain_community.chat_models.openai.ChatOpenAI` was deprecated in langchain-community 0.0.10 and will be removed in 0.2.0. An updated version of the class exists in the langchain-openai package and should be used instead. To use it run `pip install -U langchain-openai` and import as `from langchain_openai import ChatOpenAI`.\n",
            "  warn_deprecated(\n"
          ]
        }
      ],
      "source": [
        "import os\n",
        "from langchain.chat_models import ChatOpenAI\n",
        "from google.colab import userdata\n",
        "\n",
        "os.environ[\"OPENAI_API_KEY\"] = userdata.get('OpenAI')\n",
        "\n",
        "chat = ChatOpenAI(\n",
        "    openai_api_key=os.environ[\"OPENAI_API_KEY\"],\n",
        "    model='gpt-3.5-turbo'\n",
        ")"
      ]
    },
    {
      "cell_type": "code",
      "execution_count": 3,
      "metadata": {
        "id": "kSbM7Phiw4wW"
      },
      "outputs": [],
      "source": [
        "from langchain.schema import (\n",
        "    SystemMessage,\n",
        "    HumanMessage,\n",
        "    AIMessage\n",
        ")\n",
        "\n",
        "messages = [\n",
        "    SystemMessage(content=\"You are a helpful assistant.\"),\n",
        "    HumanMessage(content=\"Hi AI, how are you today?\"),\n",
        "    AIMessage(content=\"I'm great thank you. How can I help you?\"),\n",
        "    HumanMessage(content=\"I'd like to know when Hollow Knight Silksong is releasing.\")\n",
        "]"
      ]
    },
    {
      "cell_type": "markdown",
      "metadata": {
        "id": "B6TnpBRAw4wW"
      },
      "source": [
        "The format is very similar, we're just swapped the role of `\"user\"` for `HumanMessage`, and the role of `\"assistant\"` for `AIMessage`.\n",
        "\n",
        "We generate the next response from the AI by passing these messages to the `ChatOpenAI` object."
      ]
    },
    {
      "cell_type": "code",
      "execution_count": 4,
      "metadata": {
        "id": "yHFShuVMw4wW",
        "outputId": "586e76ac-152c-4da2-acb0-c8ebfe214289",
        "colab": {
          "base_uri": "https://localhost:8080/"
        }
      },
      "outputs": [
        {
          "output_type": "stream",
          "name": "stderr",
          "text": [
            "/usr/local/lib/python3.10/dist-packages/langchain_core/_api/deprecation.py:117: LangChainDeprecationWarning: The function `__call__` was deprecated in LangChain 0.1.7 and will be removed in 0.2.0. Use invoke instead.\n",
            "  warn_deprecated(\n"
          ]
        },
        {
          "output_type": "execute_result",
          "data": {
            "text/plain": [
              "AIMessage(content=\"As of now, Team Cherry has not announced an official release date for Hollow Knight: Silksong. The game is currently in development, and fans are eagerly awaiting news on its release. I recommend keeping an eye on Team Cherry's official announcements for updates on the game's release date.\")"
            ]
          },
          "metadata": {},
          "execution_count": 4
        }
      ],
      "source": [
        "res = chat(messages)\n",
        "res"
      ]
    },
    {
      "cell_type": "markdown",
      "metadata": {
        "id": "t7LoZQClw4wW"
      },
      "source": [
        "In response we get another AI message object. We can print it more clearly like so:"
      ]
    },
    {
      "cell_type": "code",
      "execution_count": 5,
      "metadata": {
        "id": "DzT8TK29w4wX",
        "outputId": "04ae716d-463a-4204-e5b0-57599a097762",
        "colab": {
          "base_uri": "https://localhost:8080/"
        }
      },
      "outputs": [
        {
          "output_type": "stream",
          "name": "stdout",
          "text": [
            "As of now, Team Cherry has not announced an official release date for Hollow Knight: Silksong. The game is currently in development, and fans are eagerly awaiting news on its release. I recommend keeping an eye on Team Cherry's official announcements for updates on the game's release date.\n"
          ]
        }
      ],
      "source": [
        "print(res.content)"
      ]
    },
    {
      "cell_type": "markdown",
      "metadata": {
        "id": "iXb4dFHXw4wX"
      },
      "source": [
        "### Stringing Messages for a Conversation\n",
        "Because `res` is just another `AIMessage` object, we can append it to `messages`, add another `HumanMessage`, and generate the next response in the conversation."
      ]
    },
    {
      "cell_type": "code",
      "execution_count": 6,
      "metadata": {
        "id": "2UZVj7P5w4wX",
        "outputId": "c154681b-ac4d-4d7c-a6f9-9648b5218ed2",
        "colab": {
          "base_uri": "https://localhost:8080/"
        }
      },
      "outputs": [
        {
          "output_type": "stream",
          "name": "stdout",
          "text": [
            "Hollow Knight: Silksong is highly anticipated by fans for several reasons. The original Hollow Knight game received critical acclaim for its beautiful hand-drawn art style, challenging gameplay, deep lore, and atmospheric world. Fans of the original game are excited to explore a new world in Silksong, with new characters, enemies, abilities, and challenges to discover. The protagonist of Silksong, Hornet, was a fan-favorite character from the first game, and players are eager to learn more about her backstory and see how her adventure unfolds in the new game. Overall, fans of Hollow Knight are excited for Silksong because they trust Team Cherry to deliver another captivating and immersive experience in the same vein as the original game.\n"
          ]
        }
      ],
      "source": [
        "# add latest AI response to messages\n",
        "messages.append(res)\n",
        "\n",
        "# now create a new user prompt\n",
        "prompt = HumanMessage(\n",
        "    content=\"Why do Hollow Knight fans want Silksong?\"\n",
        ")\n",
        "# add to messages\n",
        "messages.append(prompt)\n",
        "\n",
        "# send to chat-gpt\n",
        "res = chat(messages)\n",
        "\n",
        "print(res.content)"
      ]
    },
    {
      "cell_type": "markdown",
      "metadata": {
        "id": "CtSC6WmBw4wX"
      },
      "source": [
        "### Dealing with Hallucinations"
      ]
    },
    {
      "cell_type": "markdown",
      "metadata": {
        "id": "mAhStCG9w4wX"
      },
      "source": [
        "We have our chatbot, but as mentioned — the knowledge of LLMs can be limited. The reason for this is that LLMs learn all they know during training. An LLM essentially compresses the \"world\" as seen in the training data into the internal parameters of the model. We call this knowledge the _parametric knowledge_ of the model.\n",
        "\n",
        "By default, LLMs have no access to the external world.\n",
        "\n",
        "The result of this is very clear when we ask LLMs about more recent information, like about the new (and very popular) Llama 2 LLM."
      ]
    },
    {
      "cell_type": "code",
      "execution_count": 7,
      "metadata": {
        "id": "vdtjTQebw4wX"
      },
      "outputs": [],
      "source": [
        "# add latest AI response to messages\n",
        "messages.append(res)\n",
        "\n",
        "# now create a new user prompt\n",
        "prompt = HumanMessage(\n",
        "    content=\"What is so special about Silksong?\"\n",
        ")\n",
        "# add to messages\n",
        "messages.append(prompt)\n",
        "\n",
        "# send to OpenAI\n",
        "res = chat(messages)"
      ]
    },
    {
      "cell_type": "code",
      "execution_count": 8,
      "metadata": {
        "id": "zMi7B6LZw4wX",
        "outputId": "2004bc1b-07e9-430f-f918-4750b4d96257",
        "colab": {
          "base_uri": "https://localhost:8080/"
        }
      },
      "outputs": [
        {
          "output_type": "stream",
          "name": "stdout",
          "text": [
            "Hollow Knight: Silksong is special for several reasons. Here are some key aspects that make it stand out:\n",
            "\n",
            "1. **New Protagonist**: Silksong features Hornet as the playable character, offering players a fresh perspective and a new storyline to explore.\n",
            "\n",
            "2. **New World**: Silksong introduces players to a brand new kingdom with unique environments, characters, and challenges to discover.\n",
            "\n",
            "3. **Expanded Gameplay**: Silksong promises new abilities, mechanics, and enemies, providing players with fresh gameplay experiences and challenges.\n",
            "\n",
            "4. **Enhanced Visuals**: Building upon the beautiful hand-drawn art style of the original game, Silksong offers stunning visuals and animations that bring the world to life.\n",
            "\n",
            "5. **Deep Lore**: Like its predecessor, Silksong is expected to have a rich and mysterious lore for players to uncover, adding depth and intrigue to the game's world.\n",
            "\n",
            "6. **Challenging Gameplay**: Silksong is known for its challenging gameplay that rewards skill and perseverance, offering a satisfying experience for players seeking a tough but rewarding game.\n",
            "\n",
            "Overall, Hollow Knight: Silksong is special because it builds upon the strengths of the original game while offering new content and experiences for fans to enjoy.\n"
          ]
        }
      ],
      "source": [
        "print(res.content)"
      ]
    },
    {
      "cell_type": "markdown",
      "metadata": {
        "id": "YORp9R_Pw4wX"
      },
      "source": [
        "Our chatbot can no longer help us, it doesn't contain the information we need to answer the question. It was very clear from this answer that the LLM doesn't know the informaiton, but sometimes an LLM may respond like it _does_ know the answer — and this can be very hard to detect.\n",
        "\n",
        "OpenAI have since adjusted the behavior for this particular example as we can see below:"
      ]
    },
    {
      "cell_type": "code",
      "execution_count": 9,
      "metadata": {
        "id": "30od2wnkw4wX"
      },
      "outputs": [],
      "source": [
        "# add latest AI response to messages\n",
        "messages.append(res)\n",
        "\n",
        "# now create a new user prompt\n",
        "prompt = HumanMessage(\n",
        "    content=\"Can you tell me when Silksong was released?\"\n",
        ")\n",
        "# add to messages\n",
        "messages.append(prompt)\n",
        "\n",
        "# send to OpenAI\n",
        "res = chat(messages)"
      ]
    },
    {
      "cell_type": "code",
      "execution_count": 10,
      "metadata": {
        "id": "QZOSGe-Kw4wX",
        "outputId": "96a5512e-0bd4-4faa-c101-548029560a62",
        "colab": {
          "base_uri": "https://localhost:8080/"
        }
      },
      "outputs": [
        {
          "output_type": "stream",
          "name": "stdout",
          "text": [
            "As of my last update, Hollow Knight: Silksong has not been released yet. The game is still in development, and an official release date has not been announced by Team Cherry. Fans are eagerly awaiting news on the game's release, so I recommend keeping an eye on Team Cherry's official announcements for updates on the release date.\n"
          ]
        }
      ],
      "source": [
        "print(res.content)"
      ]
    },
    {
      "cell_type": "markdown",
      "metadata": {
        "id": "H-JA-ut8w4wY"
      },
      "source": [
        "### Importing the Data"
      ]
    },
    {
      "cell_type": "code",
      "source": [
        "# mount drive\n",
        "from google.colab import drive\n",
        "drive.mount('/content/drive')"
      ],
      "metadata": {
        "colab": {
          "base_uri": "https://localhost:8080/"
        },
        "id": "dL7AT2Wvd1wK",
        "outputId": "d3abadae-8db2-4270-bb21-6415d1a33576"
      },
      "execution_count": 11,
      "outputs": [
        {
          "output_type": "stream",
          "name": "stdout",
          "text": [
            "Mounted at /content/drive\n"
          ]
        }
      ]
    },
    {
      "cell_type": "code",
      "source": [
        "!pip install pypdf"
      ],
      "metadata": {
        "colab": {
          "base_uri": "https://localhost:8080/"
        },
        "id": "6oPwiUmbhBx8",
        "outputId": "8affb733-a82d-4160-e299-766c303bae2f"
      },
      "execution_count": 12,
      "outputs": [
        {
          "output_type": "stream",
          "name": "stdout",
          "text": [
            "Collecting pypdf\n",
            "  Downloading pypdf-4.2.0-py3-none-any.whl (290 kB)\n",
            "\u001b[?25l     \u001b[90m━━━━━━━━━━━━━━━━━━━━━━━━━━━━━━━━━━━━━━━━\u001b[0m \u001b[32m0.0/290.4 kB\u001b[0m \u001b[31m?\u001b[0m eta \u001b[36m-:--:--\u001b[0m\r\u001b[2K     \u001b[91m━━━━━━━━\u001b[0m\u001b[90m╺\u001b[0m\u001b[90m━━━━━━━━━━━━━━━━━━━━━━━━━━━━━━━\u001b[0m \u001b[32m61.4/290.4 kB\u001b[0m \u001b[31m1.7 MB/s\u001b[0m eta \u001b[36m0:00:01\u001b[0m\r\u001b[2K     \u001b[90m━━━━━━━━━━━━━━━━━━━━━━━━━━━━━━━━━━━━━━━━\u001b[0m \u001b[32m290.4/290.4 kB\u001b[0m \u001b[31m4.9 MB/s\u001b[0m eta \u001b[36m0:00:00\u001b[0m\n",
            "\u001b[?25hRequirement already satisfied: typing_extensions>=4.0 in /usr/local/lib/python3.10/dist-packages (from pypdf) (4.11.0)\n",
            "Installing collected packages: pypdf\n",
            "Successfully installed pypdf-4.2.0\n"
          ]
        }
      ]
    },
    {
      "cell_type": "code",
      "source": [
        "from langchain.document_loaders import PyPDFDirectoryLoader\n",
        "\n",
        "#load pdf files\n",
        "loader = PyPDFDirectoryLoader('/content/drive/MyDrive/MSDA/DATA255/silksongPDF')\n",
        "data = loader.load()\n",
        "print(data)"
      ],
      "metadata": {
        "colab": {
          "base_uri": "https://localhost:8080/"
        },
        "id": "zxc1ORMRf3qv",
        "outputId": "67ee6c49-fad3-4a39-8c6f-70972f6a93b0"
      },
      "execution_count": 13,
      "outputs": [
        {
          "output_type": "stream",
          "name": "stdout",
          "text": [
            "[Document(page_content='Hollow Knight: Silksong\\nD e v e l o p e r ( s ) Team Cherry\\nP u b l i s h e r ( s ) Team Cherry\\nD e s i g n e r ( s ) Ari Gibson\\nWilliam Pellen\\nP r o g r a m m e r ( s )William Pellen\\nJack Vine\\nA r t i s t ( s ) Ari Gibson\\nC o m p o s e r ( s ) Christopher\\nLarkin\\nE n g i n e Unity\\nP l a t f o r m ( s ) Linux\\nmacOS\\nMicrosoft\\nWindows\\nNintendo Switch\\nPlayStation 4\\nPlayStation 5\\nXbox One\\nXbox Series X/S\\nM o d e ( s ) Single-player\\nHollow Knight: Silksong\\nHollow Knight: Silksong  is an upcoming Metroidvania  video\\ngame  in develo pment by Australian independent developer  Team\\nCherry. The sequel to Hollow Knight , it is being developed for\\nWindows , macOS , Linux , PlayStation 4, PlayStation 5, Nintendo\\nSwitch , Xbox One  and Xbox Series X/S .\\nSilksong  was originally conceived as downloadable content  for\\nHollow Knight , but the scope of the project grew enough that on\\nFebruary 14, 2019, Team Cherry announced it as a separate\\nsequel.[1][2]\\nHollow Knight: Silksong  gamepla y is set to be similar to its\\npredecessor Hollow Knight , featuri ng 2D platforming and\\ncombat. Some changes are made from the original, such as the\\nplayer character moving with a more acrobatic flair or healing\\nherself instantly. Sidequests will be part of the game, and include\\na journal to keep track of them.[3] This  includes a quest system\\ndivided into four categories titled Gather, Wayfarer, Hunt, and\\nGrand Hunt, which are provided by the non-player charac ters in\\nthe game.[4]\\nTeam Cherry stated Silksong  to be very large, featuring at least\\n165 new enemies and over 100 different checkpoints (\"benches\")\\nthroughout the game world, compared to 41 in Hollow\\nKnight .[1][5]\\nHornet is captured and taken to the unknown kingdom of\\nPharloom, which is said to be \"hau nted by Silk and Song\", and\\nmust climb to the top to reach a shining citadel.[6]\\nHollow Knight: Silksong  was announced on 14 February 2019 in a trailer[7] and with a devel oper\\ndiary vide o[8] sharing more information. Since the announcement, per GameSpot , \"updates  have been\\nsporadic and infrequent\".[9]Gameplay\\nPremise\\nDevelopment5/5/24, 3:39 PM Hollow Knight: Silksong - Wikipedia\\nhttps://en.wikipedia.org/wiki/Hollow_Knight:_Silksong 1/4', metadata={'source': '/content/drive/MyDrive/MSDA/DATA255/silksongPDF/HollowKnightSilksongWikipedia.pdf', 'page': 0}), Document(page_content='Eventually, due to the increased scope of the project, Team Cherry decided to expand the\\ndownloadable content to a full sequel.[1][2]\\nThe developers released an update in March 2019, sharing descriptions and images of characters who\\nwill appe ar in Silksong . They thanked the game\\'s fans for supporting them regarding the\\nannouncement of the sequel.[10]\\nIn Decem ber 2019 , Team Cherry released a preview of the soundtrack, composed by Christopher\\nLarkin , as well as an update on the total number of enemies developed, with a focus on a trio,\\ndescribed as \"members of a scholarly suite.\"[11]\\nAn article in PC Gamer  from February 2022 showcased Team Cherry co-director William Pellen\\nstating that the game was still in development despite the lack of updates since December 2019 and\\nsaid that more details would be revealed as the game got closer to its release.[12]\\nA new trailer was revealed at the Xbox & Bethesda Games Showcase in June 2022, revealing that\\nSilksong  would be released on Xbox Game Pass  at launch, with the game being available through the\\nservice for PC and Xbox Series X/S.[13] While no release date was announ ced, the Xbox Twitter\\naccount stated in a tweet that it would be available within the next twelve months, implying they\\nexpected a release by 12 June 2023.[14][15] Team Cherry marketing and publishing representative\\nMatthew Griffin declared on 10 May 2023 that the game was delayed, stating \"We had planned to\\nrelease in the first half of 2023, but development is still continuing.\"[16]\\nIn September 2022, Sony  confirmed in a tweet that the game  would also come to PlayStation 4 and\\nPlayStation 5.[17]\\nIn May 2022, Hollow Knight: Silksong  won a \"Most Anticipated Game\" award from Unity . In\\nresponse, Team Cherry thanked the community for their support and said \"It can\\'t be too much\\nlonger, surely!\"[9][18][19]\\n1. \"Team Cherry Holiday Sign of f\" (https://www .teamcherry .com.au/blog/1 1xf7azcuebhybgossfhdc0m\\nphiqbs) . Team Cherry . 13 December 2019.\\n2. Stark, Chelsea (14 February 2019). \"Hollow Knight  developers announce a full sequel, Silksong \"\\n(https://web.archive.org/web/2019041 1073153/https://www .polygon.com/2019/2/14/18224749/holl\\now-knight-silksong-pc-nintendo-switch-team-cherry) . Polygon . Archived from the original  (https://w\\nww.polygon.com/2019/2/14/18224749/hollow-knight-silksong-pc-nintendo-switch-team-cherry)  on\\n11 April 2019 . Retrieved 11 April 2019 .\\n3. Cryer , Hirun; W ald, Heather; Loveridge, Sam; W est, Josh (10 May 2023). \"Hollow Knight Silksong:\\nEverything W e Know So Far\"  (https://www .gamesradar .com/hollow-knight-silksong-guide/) .\\nGamesRadar+ . Retrieved 11 May  2023 .\\n4. Colp, Tyler (10 May 2023). \"Hollow Knight: Silksong—Everything W e Know About the Upcoming\\nSequel\"  (https://www .pcgamer .com/hollow-knight-silksong-everything-we-know/) . PC Gamer .\\nRetrieved 11 May  2023 .Reception\\nReferences5/5/24, 3:39 PM Hollow Knight: Silksong - Wikipedia\\nhttps://en.wikipedia.org/wiki/Hollow_Knight:_Silksong 2/4', metadata={'source': '/content/drive/MyDrive/MSDA/DATA255/silksongPDF/HollowKnightSilksongWikipedia.pdf', 'page': 1}), Document(page_content='5. \"What Fans Don\\'t W ant To See In Hollow Knight: Silksong\"  (https://www .svg.com/423413/what-fan\\ns-dont-want-to-see-in-hollow-knight-silksong/) . SVG . 28 May 2021 . Retrieved 17 May  2023 .\\n6. \"Hollow Knight: Silksong revealed!\"  (https://www .teamcherry .com.au/blog/hollow-knight-silksong-re\\nvealed) . Team Cherry . 14 February 2019.\\n7. Hollow Knight: Silksong Reveal Trailer  (https://www .youtube.com/watch?v=pF AknD_9U7c) . Team\\nCherry . 14 February 2019 – via YouTube.\\n8. Hollow Knight: Silksong - Details from Team Cherry  (https://www .youtube.com/watch?v=Gv6CRPq\\nkpuU) . Team Cherry . 14 February 2019 – via YouTube.\\n9. Watts, Steve (1 1 May 2022). \"Everyone\\'s Disappointed Hollow Knight: Silksong And Sports Story\\nWeren\\'t At Nintendo Indie W orld\" (https://www .gamespot.com/articles/everyones-disappointed-holl\\now-knight-silksong-and-sports-story-werent-at-nintendo-indie-world/1 100-6503344/) . GameSpot .\\nRetrieved 25 February  2023 .\\n10. Craddock, Ryan (19 March 2019). \"Team Cherry Provides Hollow Knight: Silksong  Update, New\\nCharacters Revealed\"  (https://web.archive.org/web/20190402002746/http://www .nintendolife.com/\\nnews/2019/03/team_cherry_provides_hollow_knight_silksong_update_new_characters_revealed) .\\nNintendo Life . Archived from the original  (http://www .nintendolife.com/news/2019/03/team_cherry_\\nprovides_hollow_knight_silksong_update_new_characters_revealed)  on 2 April 2019 . Retrieved\\n11 April 2019 .\\n11. Gibson, Ari (13 December 2019). \"Team Cherry Holiday Sign Of f\" (https://www .teamcherry .com.a\\nu/blog/1 1xf7azcuebhybgossfhdc0mphiqbs) . Team Cherry .\\n12. Colp, Tyler (10 February 2022). \"Hollow Knight: Silksong—Everything we know about the\\nupcoming sequel\"  (https://www .pcgamer .com/hollow-knight-silksong-everything-we-know/) . PC\\nGamer . Retrieved 17 May  2022 .\\n13. Fenlon, W es (12 June 2022). \"Hollow Knight: Silksong ﬁnally gets a new trailer\"  (https://www .pcga\\nmer.com/hollow-knight-silksong-ﬁnally-gets-a-new-trailer/) . PC Gamer . Retrieved 12 June  2022 .\\n14. Peters, Jay (12 June 2022). \"Hollow Knight: Silksong is coming to Xbox, and it will be out within\\nthe next year\"  (https://www .theverge.com/2022/6/12/22175400/hollow-knight-silksong-sequel-xbox\\n-game-pass-trailer) . The V erge. Retrieved 13 June  2022 .\\n15. @Xbox  (12 June 2022). \"That\\'s exactly what we said\"  (https://twitter .com/Xbox/status/1536035818\\n275487746)  (Tweet ). Archived  (https://web.archive.org/web/202206121721 11/https://twitter .com/X\\nbox/status/1536035818275487746)  from the original on 12 June 2022 . Retrieved 21 June  2022  –\\nvia Twitter .\\n16. Howard, Jessica (10 May 2023). \"Hollow Knight: Silksong Has Been Delayed\"  (https://www .games\\npot.com/articles/hollow-knight-silksong-has-been-delayed/1 100-6513963/) . GameSpot . Retrieved\\n11 May  2023 .\\n17. Peters, Jay (16 September 2022). \"Hollow Knight: Silksong is coming to PlayStation, too\"  (https://\\nwww .theverge.com/2022/9/16/23356667/hollow-knight-silksong-playstation-ps5-ps4-still-no-releas\\ne-date) . The V erge. Archived  (https://web.archive.org/web/20220916175648/https://www .theverge.\\ncom/2022/9/16/23356667/hollow-knight-silksong-playstation-ps5-ps4-still-no-release-date)  from\\nthe original on 16 September 2022 . Retrieved 16 September  2022 .\\n18. Al Salman, Hasan; Rose, Michael; Aguzzi, Sabrina (27 April 2022). \"Unity Awards 2021\"  (https://bl\\nog.unity .com/games/unity-awards-2021) . Unity Blog . Unity Technologies . Retrieved 18 August\\n2022 .\\n19. Bailey , Dustin (8 June 2022). \"Hollow Knight: Silksong skips another indie showcase, but devs\\ntease \\'it can\\'t be too much longer , surely\\' \" (https://www .gamesradar .com/hollow-knight-silksong-sk\\nips-another-indie-showcase-but-devs-tease-it-cant-be-too-much-longer-surely/) . GamesRadar+ .\\nRetrieved 25 February  2023 .5/5/24, 3:39 PM Hollow Knight: Silksong - Wikipedia\\nhttps://en.wikipedia.org/wiki/Hollow_Knight:_Silksong 3/4', metadata={'source': '/content/drive/MyDrive/MSDA/DATA255/silksongPDF/HollowKnightSilksongWikipedia.pdf', 'page': 2}), Document(page_content='Ofﬁcial website  (https://www .hollowknightsilksong.com)  \\nRetrieved from \"https://en.wikipedia.org/w/index.php?title=Hollow_Knight:_Silksong&oldid=1222421525\"External links5/5/24, 3:39 PM Hollow Knight: Silksong - Wikipedia\\nhttps://en.wikipedia.org/wiki/Hollow_Knight:_Silksong 4/4', metadata={'source': '/content/drive/MyDrive/MSDA/DATA255/silksongPDF/HollowKnightSilksongWikipedia.pdf', 'page': 3}), Document(page_content='Hollow Knight: Silksong – Everything We Know About the 2D Metroidvania Sequel\\nThe acclaimed Metroidvania returns with a new protagonist in a new world.\\nBY\\xa0JORDAN SIRANI UPDATED:\\xa0MAR 20, 2024 8:05 PM POSTED:\\xa0FEB 13, 2024 6:19 PM\\nTeam Cherry \\xa0is years into development on Hollow Knight: Silksong, a sequel to its\\nacclaimed 2D action-adventure game that IGN crowned the all-time \\xa0best\\nMetroidvania \\xa0(that isn’t a Metroid or Castlevania game).\\nIn anticipation of the sequel to \\xa0Hollow Knight , we’ve put together this breakdown of\\neverything you need to know about Hollow Knight: Silksong as of February 2024.\\nJump to :\\nRelease Date\\nGameplay Details\\nStory Details\\nDevelopment\\nHollow Knight: Silksong - Reveal T railer\\n2 : 0 3Hollow Knight: Silksong - Reveal Trailer\\nAutoplay setting:\\xa0 On\\n2 : 0 3Hollow Knight: Silksong - Reveal Trailer\\nAutoplay setting:\\xa0 On5/5/24, 3:41 PM Hollow Knight: Silksong – Everything We Know About the 2D Metroidvania Sequel - IGN\\nhttps://www.ign.com/articles/hollow-knight-silksong-release-date-gameplay-trailer-news 1/6', metadata={'source': '/content/drive/MyDrive/MSDA/DATA255/silksongPDF/HollowKnightSilksongEverythingWeKnowIGN.pdf', 'page': 0}), Document(page_content=\"Hollow Knight: Silksong Release Date\\nThere is no ofﬁcial release date or window for Hollow Knight: Silksong . A 2024\\nrelease seems most likely given it was previously slated for the ﬁrst half of 2023,\\nthough there’ s been no ofﬁcial word from developer Team Cherry .\\nLast May , Team Cherry \\xa0delayed \\xa0Silksong beyond its initial First Half 2023 release\\nwindow , saying: “W e had planned to release in the 1st half of 2023, but\\ndevelopment is still continuing. W e're excited by how the game is shaping up, and\\nit's gotten quite big, so we want to take the time to make the game as good as we\\ncan. Expect more details from us once we get closer to release.”\\nAs of mid-February 2024, Team Cherry has not shared further details on the release\\ndate.\\nHollow Knight: Silksong Platforms and Price\\nHollow Knight: Silksong will be released on \\xa0PS5,\\xa0Xbox Series X|S ,\\xa0Nintendo\\nSwitch , and \\xa0PC. It’ll be available day and date on \\xa0Xbox Game Pass . The ofﬁcial\\nPlayStation account \\xa0tweeted \\xa0Silksong is coming to PS4 as well, though the platform\\nis absent from the game’ s ofﬁcial website and press kit.\\nA price has not been announced for Silksong. The ﬁrst Hollow Knight retailed for\\n$15, though there’ s no guarantee the sequel will cost the same.\\nIf you were one of the 2,158 people who backed the original Hollow Knight on\\nKickstarter , you'll receive a copy of Silksong for free, according to \\xa0Team Cherry .\\nHollow Knight: Silksong Gameplay\\nTeam Cherry has purposely been quiet about Silksong’ s gameplay details.\\n“Discovery is a huge part of Hollow Knight so we don’t want to spoil all the new\\nsystems and surprises,” it said. However , from two trailers and a handful of blog\\nposts, we’ve learned a bit about what you can expect gameplay-wise.\\nHornet, equipped with her needle and thread of silk, is described as an “acrobatic”\\nﬁghter; she moves quickly and gracefully , as evidenced by the most recent\\ngameplay trailer from 2022.5/5/24, 3:41 PM Hollow Knight: Silksong – Everything We Know About the 2D Metroidvania Sequel - IGN\\nhttps://www.ign.com/articles/hollow-knight-silksong-release-date-gameplay-trailer-news 2/6\", metadata={'source': '/content/drive/MyDrive/MSDA/DATA255/silksongPDF/HollowKnightSilksongEverythingWeKnowIGN.pdf', 'page': 1}), Document(page_content=\"Hollow Knight Silksong Gameplay T railer\\nThe sequel will feature tons of new enemies (165 \\xa0as of late 2019 ). These include\\n“beasts and hunters, assassins and kings, [and] monsters and knights.” Outside of\\ncombat, Hornet has the ability to craft weapons, traps, and “mechanisms to\\nconfound your enemies and explore new heights.”\\nAs detailed by \\xa0Team Cherry , Hornet uses silk to Bind (i.e., heal), similar to how the\\nKnight uses soul to Focus in Hollow Knight. New for the sequel is the speed in\\nwhich Hornet can Bind — “it’ s lightning-fast” — and her ability to heal in mid-air . At\\nthe start of the game, one Bind will restore three masks. Bind consumes \\xa0all\\xa0of\\nHornet’ s silk, and if she’ s hit mid-heal, “the healing ef fect will be wasted and the silk\\nwill be gone.”\\nHollow Knight Silksong Screens [2022 update]\\nUpon death, Hornet will leave a cocoon, akin to how the Knight left a Shade. Each\\ncocoon will contain a full supply of silk, creating a tactical decision for the player on\\nwhen to break it open.\\nAs with Hollow Knight's labyrinthine Hallownest, Silksong's world, Pharloom, must\\nbe mapped as you progress through its twisting layout. Team Cherry says the\\nprocess uses the “same tools and restrictions” as the original game, though this\\n1 : 1 9Hollow Knight Silksong Gameplay Trailer\\nAutoplay setting:\\xa0 On\\n1 : 1 9Hollow Knight Silksong Gameplay Trailer\\nAutoplay setting:\\xa0 On\\n8 IMAGES\\n5/5/24, 3:41 PM Hollow Knight: Silksong – Everything We Know About the 2D Metroidvania Sequel - IGN\\nhttps://www.ign.com/articles/hollow-knight-silksong-release-date-gameplay-trailer-news 3/6\", metadata={'source': '/content/drive/MyDrive/MSDA/DATA255/silksongPDF/HollowKnightSilksongEverythingWeKnowIGN.pdf', 'page': 2}), Document(page_content='time around, Hornet will be aided by the warrior Shakra, a master cartographer who\\nprovides charts, compasses, and other tools for navigation.\\nSilksong will feature Silk Soul Mode, available after you complete the game for the\\nﬁrst time. Silk Soul Mode, like Steel Soul Mode in Hollow Knight, “spins the game\\ninto a unique, challenging experience.” Further details have not yet been\\nannounced.\\nWe got our \\xa0hands on Silksong \\xa0back in 2019 and said, “It’ s unmistakably Hollow\\nKnight, but with the speed cranked up to 1 1 thanks to the nimble nature of its new\\nprotagonist, Hornet.”\\nHollow Knight: Silksong - 16 Minutes of Gameplay (Midgame) at E3 2019\\nHollow Knight: Silksong Story\\nHollow Knight: Silksong features a new protagonist and game world. In the sequel,\\nyou’ll play as Hornet, who appears as a boss-turned-ally in the original game.\\nDubbed the princess-protector of Halllownest, Hornet is captured and brought to the\\nunfamiliar , haunted land of Pharloom. She embarks on a journey to discover the\\ntruth behind her capture and ascend to the kingdom’ s peak. Here’ s the ofﬁcial story\\nsynopsis from Team Cherry:\\nAs Hornet, princess-protector of Hallownest, adventure through a whole new\\nkingdom ruled by silk and song. Captured and brought to this unfamiliar land,\\nHornet must battle foes and solve mysteries as she ascends on a deadly pilgrimage\\nto the kingdom’ s peak.\\nOne new area, as \\xa0detailed by Team Cherry , is Greymoor , wasted caverns that\\nhouse “many mysteries, several new friends, and [a] duel with a lethal, lunging foe.”\\nIt’s described as “one of the biggest” areas in either Hollow Knight game. Other\\nareas include lakes of ﬁre, coral forests, mossy grottoes, gilded cities, and misted\\nmoors.\\n1 5 : 5 9Hollow Knight: Silksong - 16 Minutes of Gameplay (Midgame) at E3 2019\\nAutoplay setting:\\xa0 On\\n1 5 : 5 9Hollow Knight: Silksong - 16 Minutes of Gameplay (Midgame) at E3 2019\\nAutoplay setting:\\xa0 On5/5/24, 3:41 PM Hollow Knight: Silksong – Everything We Know About the 2D Metroidvania Sequel - IGN\\nhttps://www.ign.com/articles/hollow-knight-silksong-release-date-gameplay-trailer-news 4/6', metadata={'source': '/content/drive/MyDrive/MSDA/DATA255/silksongPDF/HollowKnightSilksongEverythingWeKnowIGN.pdf', 'page': 3}), Document(page_content='Hollow Knight: Silksong Characters\\nHornet, unlike the Knight, is voiced. “Dialogue and narrative are there for those that\\nseek it,” said Team Cherry . “For those that don’t, you’ll be able to ignore nearly all\\ncharacters and get on with your exploring, hunting, and powering up.”\\nTeam Cherry has also revealed some of the new characters Hornet will befriend or\\nface of f against in Silksong. You can see them alongside their character\\ndescriptions in the gallery above.\\nHollow Knight: Silksong Development\\nHollow Knight: Silksong is being developed by Team Cherry , the Australian studio\\nthat created the original game. The development team consists of three people: Ari\\nGibson, William Pellen, and Jack V ine.\\nSilksong, \\xa0announced \\xa0in 2019, began development as DLC for the original game.\\n“Almost from the very start, Hornet’ s adventure was intended to take place in a new\\nland, but as we dove in, it quickly became too large and too unique to stay a DLC,\\nas initially planned,” Team Cherry wrote at the time of the announcement. “W e do\\nknow that makes the wait a little longer , but we think the ﬁnal, fresh world you’ll get\\nto explore is worth it.”\\nTeam Cherry is using Unity to create Silksong, as it did for the original. Composer\\nChristopher Larkin is also back for the sequel; a two-song sample of the soundtrack\\nis available on Larkin’ s\\xa0Bandcamp \\xa0page.\\nHow to Play Hollow Knight\\nThe original game is available on PS4, Xbox One, Switch, and PC as Hollow\\nKnight: V oidheart Edition, which bundles the base game with its four content packs:\\nHidden Dreams, The Grimm Troupe, Lifeblood, and Godmaster . It’s available with\\nXbox Game Pass and PlayStation Plus Extra. Otherwise, it retails for $15.\\nIn his \\xa0Hollow Knight review , IGN’ s Tom Marks wrote, “With such a high density of\\nsecrets to ﬁnd and fun, challenging enemies to face, it’ s worth spending every\\nmoment you can in Hollow Knight.”\\n5 IMAGES\\n5/5/24, 3:41 PM Hollow Knight: Silksong – Everything We Know About the 2D Metroidvania Sequel - IGN\\nhttps://www.ign.com/articles/hollow-knight-silksong-release-date-gameplay-trailer-news 5/6', metadata={'source': '/content/drive/MyDrive/MSDA/DATA255/silksongPDF/HollowKnightSilksongEverythingWeKnowIGN.pdf', 'page': 4}), Document(page_content='Hollow Knight Speedrun Finished In Under 34 Minutes (by ﬁreb0rn)\\n4 2 : 2 9Hollow Knight Speedrun Finished In Under 34 Minutes (by ﬁreb0rn)\\nAutoplay setting:\\xa0 On\\n4 2 : 2 9Hollow Knight Speedrun Finished In Under 34 Minutes (by ﬁreb0rn)\\nAutoplay setting:\\xa0 On5/5/24, 3:41 PM Hollow Knight: Silksong – Everything We Know About the 2D Metroidvania Sequel - IGN\\nhttps://www.ign.com/articles/hollow-knight-silksong-release-date-gameplay-trailer-news 6/6', metadata={'source': '/content/drive/MyDrive/MSDA/DATA255/silksongPDF/HollowKnightSilksongEverythingWeKnowIGN.pdf', 'page': 5}), Document(page_content=\"Hollow Knight: Silksong Fans,\\nPay Attention T o April 29\\nBYBEN BROSOFSKY\\nPUBLISHED APR 23, 2024Hollow Knight: Silksong has to release someday , and recent events and a new reveal point to one\\ngreat opportunity for an update on the game's status.\\nThe wait for \\xa0Hollow Knight: Silksong  has been filled with guess after guess about when\\nthe game might be showcased or eventually release, but the next date to pay attention to is\\ndefinitely April 29. Revealed as DLC for the original \\xa0Hollow Knight  in February 2019, theSUMMARY\\n\\xa0An April 29 Xbox Digital Showcase could potentially feature \\xa0Hollow Knight:\\nSilksong \\xa0.\\n\\xa0Recent \\xa0Silksong \\xa0news indicates progress towards release and suggests\\nupdates are imminent.\\n\\xa0Like all \\xa0Silksong \\xa0speculation, the idea that it could appear at the showcase\\nshouldn't be taken as fact.\\nCustom Image by Katarina CimbaljevicCustom Image by Katarina Cimbaljevic5/5/24, 3:45 PM Hollow Knight: Silksong Fans, Pay Attention To April 29\\nhttps://screenrant.com/hollow-knight-silksong-xbox-digital-showcase-april-29/ 1/6\", metadata={'source': '/content/drive/MyDrive/MSDA/DATA255/silksongPDF/HollowKnightSilksongFansPayAttentionToApril29.pdf', 'page': 0}), Document(page_content=\"scope of \\xa0Silksong  quickly expanded into a full game that's been in development since. The\\nbeautiful world, compelling gameplay, and extraordinary combat of \\xa0Hollow Knight  has\\nmade \\xa0Silksong  an incredibly anticipated follow-up since the beginning, and as the years pass,\\nthat hype seems to just keep growing.\\nAlthough expecting \\xa0Silksong  to appear every time there's any kind of gaming showcase or\\nevent has consistently proven to be a fruitless enterprise, recent events have actually indicated\\nthat a \\xa0Silksong  release could be solidifying. \\xa0The game finally  received an official Xbox\\nstore page  with a wishlist option and an ESRB rating , and other age ratings have\\nstarted popping up in other regions. At any rate, it's a sign of progress, confirming\\nthat\\xa0Silksong  definitely isn't joining the ranks of vaporware legends.\\nAn April Xbox Showcase Could Feature\\nSilksong\\nMicrosoft Might Show More Silksong On April 29Hollow Knight: Silksong Update May\\nBe Good News For A Release Date\\nA release date for\\xa0Hollow Night: Silksong\\xa0may ﬁnally be on its w…\\nRELATED\\n5/5/24, 3:45 PM Hollow Knight: Silksong Fans, Pay Attention To April 29\\nhttps://screenrant.com/hollow-knight-silksong-xbox-digital-showcase-april-29/ 2/6\", metadata={'source': '/content/drive/MyDrive/MSDA/DATA255/silksongPDF/HollowKnightSilksongFansPayAttentionToApril29.pdf', 'page': 1}), Document(page_content='A new candidate for a  Hollow Knight: Silksong  update has appeared in the form\\nof an April 29 Xbox Digital Showcase , revealed by the official \\xa0Xbox Wire \\xa0blog. Called the\\nIGN x ID@Xbox Digital Showcase, this event sequels one held in July 2023 that put the\\nspotlight on 20 different indie titles. Among these were some heavy hitters like \\xa0Axiom Verge\\n2,Sea of Stars , and \\xa0Vampire Survivors , so it\\'s safe to say that the presentation is intended to\\noffer updates on studios and franchises with followings along with revealing new games that\\ncould use the chance to be seen.\\nThe timing of the recent \\xa0Hollow Knight: Silksong  news makes this event a perfect candidate\\nfor a release date reveal or update on the game. \\xa0The Xbox store page being the one to\\nreceive an ESRB rating seems like a possible indicator that Microsoft could be\\nthe company to deliver the coveted  Silksong  news , and a major presentation focused\\non indie titles would be an obvious fit. \\xa0Silksong \\'s last trailer was showcased at the \\xa0Xbox &\\nBethesda Games Showcase in June 2022 , so the company also has precedent in this particular\\ndomain.\\n\"More Than Just an Excellent Turn-\\nBased RPG\": Sea of Stars Review\\nSea of Stars is a fantastic turn-based RPG, with a reﬁned and e…\\nRELATED\\nHollow Knight: Silksong  is also releasing on PlayStation platforms, PC,\\nand Nintendo Switch, with the Xbox and PlayStation release reveals both\\ncoming years after the initial trailer.5/5/24, 3:45 PM Hollow Knight: Silksong Fans, Pay Attention To April 29\\nhttps://screenrant.com/hollow-knight-silksong-xbox-digital-showcase-april-29/ 3/6', metadata={'source': '/content/drive/MyDrive/MSDA/DATA255/silksongPDF/HollowKnightSilksongFansPayAttentionToApril29.pdf', 'page': 2}), Document(page_content='A Hollow Knight: Silksong Showcase Is\\nSpeculative\\nA Good Chance Deﬁnitely Isn\\'t Deﬁnitive\\nThe only games confirmed for the new IGN x ID@Xbox Digital Showcase\\nare Dungeons of Hinterberg, 33 Immortals , and  Lost Records Bloom & Rage , all\\nmentioned in the \\xa0Xbox Wire \\xa0announcement. If the slate of 20 games from last year is anything\\nto go by, a lot more can be expected than just these, and the blog post refers to \" epic trailers ,\\nfresh gameplay, and new reveals \" as separate inclusions from the three games stated to be\\nshown.\\nThe April 29 Xbox Digital Showcase can be viewed on a number of IGN\\'s\\nchannels and platforms, including an ASL presentation on YouTube.5/5/24, 3:45 PM Hollow Knight: Silksong Fans, Pay Attention To April 29\\nhttps://screenrant.com/hollow-knight-silksong-xbox-digital-showcase-april-29/ 4/6', metadata={'source': '/content/drive/MyDrive/MSDA/DATA255/silksongPDF/HollowKnightSilksongFansPayAttentionToApril29.pdf', 'page': 3}), Document(page_content='Although failing to hook viewers in with the promise of \\xa0Hollow Knight:\\nSilksong \\xa0updates  might seem like a point against the likelihood of its inclusion, saving the\\ngame for a surprise reveal ultimately comes across as the more probable path. \\xa0It\\'s\\nessentially the perfect \"one more thing\" title to cap off a showcase in memorable\\nfashion , especially one that\\'s dedicated specifically to indie games. If an update on the game\\'s\\nstatus ends up being brief, it would also make sense not to get people\\'s hopes up for a more\\nsubstantial showcase.\\nAs is standard practice at this point, \\xa0the idea that  Silksong  might show up at the new\\nXbox Digital Showcase should absolutely be taken with a grain of salt , as it\\'s no\\nmore confirmed than any piece of speculation since the initial reveal has been. It does make\\nfor a more probable showcase than, say, the recent Nintendo Indie Showcase did, so tuning in\\ncould definitely be a worthwhile prospect for \\xa0Hollow Knight  fans. There\\'s no way to say for\\nsure when \\xa0Hollow Knight: Silksong  will be released, but April 29 might be the day when\\nthe world can learn more.\\nSource: \\xa0Xbox WireEvery Way Silksong Looks Different\\nFrom Hollow Knight\\nHollow Knight: Silksong ﬁnally got a new trailer at the Xbox & Be…\\nRELATED5/5/24, 3:45 PM Hollow Knight: Silksong Fans, Pay Attention To April 29\\nhttps://screenrant.com/hollow-knight-silksong-xbox-digital-showcase-april-29/ 5/6', metadata={'source': '/content/drive/MyDrive/MSDA/DATA255/silksongPDF/HollowKnightSilksongFansPayAttentionToApril29.pdf', 'page': 4}), Document(page_content='Hollow Knight: Silksong\\nHollow Knight: Silksong is the long-anticipated sequel to Hollow\\nKnight, the 2017 indie action-adventure Metroidvania hit. In\\nSilksong, players will take on the role of Princess Hornet, a far more\\nagile and combat-ready hero than the Knight in the previous title,\\nwith a stronger emphasis on aerial combos and gameplay. Stuck in a\\nnew strange land, Hornet will battle her way through all-new\\nenvironments outside of Hollownest to find her way back while saving\\nthis new kingdom.\\nFranchise Hollow Knight\\nPlatform(s) Microsoft Windows , macOS , Linux , \\xa0Nintendo\\nSwitch \\xa0,\\xa0Steam \\xa0,\\xa0PlayStation 4 \\xa0,\\xa0PlayStation\\n5\\xa0,\\xa0Xbox One \\xa0,\\xa0Xbox Series X/S\\nDeveloper(s) Team Cherry\\nPublisher(s) Team Cherry\\nGenre(s) Action \\xa0, Adventure , Metroidvania\\n5/5/24, 3:45 PM Hollow Knight: Silksong Fans, Pay Attention To April 29\\nhttps://screenrant.com/hollow-knight-silksong-xbox-digital-showcase-april-29/ 6/6', metadata={'source': '/content/drive/MyDrive/MSDA/DATA255/silksongPDF/HollowKnightSilksongFansPayAttentionToApril29.pdf', 'page': 5})]\n"
          ]
        }
      ]
    },
    {
      "cell_type": "code",
      "source": [
        "from langchain.text_splitter import RecursiveCharacterTextSplitter\n",
        "\n",
        "# split text data into chunks\n",
        "text_splitter = RecursiveCharacterTextSplitter(chunk_size=1024, chunk_overlap=20)\n",
        "text_chunks = text_splitter.split_documents(data)\n",
        "print(len(text_chunks))"
      ],
      "metadata": {
        "colab": {
          "base_uri": "https://localhost:8080/"
        },
        "id": "HdORRTUoi3vp",
        "outputId": "bae499da-a1dd-4bb6-c552-67b8d39ebc62"
      },
      "execution_count": 14,
      "outputs": [
        {
          "output_type": "stream",
          "name": "stdout",
          "text": [
            "36\n"
          ]
        }
      ]
    },
    {
      "cell_type": "code",
      "source": [
        "# check the chunks\n",
        "text_chunks[2]"
      ],
      "metadata": {
        "colab": {
          "base_uri": "https://localhost:8080/"
        },
        "id": "3t1UdQztjFp6",
        "outputId": "284a9ad8-8f2e-4a17-cced-a234dc730f01"
      },
      "execution_count": 15,
      "outputs": [
        {
          "output_type": "execute_result",
          "data": {
            "text/plain": [
              "Document(page_content='sporadic and infrequent\".[9]Gameplay\\nPremise\\nDevelopment5/5/24, 3:39 PM Hollow Knight: Silksong - Wikipedia\\nhttps://en.wikipedia.org/wiki/Hollow_Knight:_Silksong 1/4', metadata={'source': '/content/drive/MyDrive/MSDA/DATA255/silksongPDF/HollowKnightSilksongWikipedia.pdf', 'page': 0})"
            ]
          },
          "metadata": {},
          "execution_count": 15
        }
      ]
    },
    {
      "cell_type": "code",
      "source": [
        "# reformat chunks to improve vectorization; match 'jamescalam/llama-2-arxiv-papers-chunked' format sourced from Llama 2 ArXiv papers on huggingface\n",
        "dataset = []\n",
        "\n",
        "for i, chunk in enumerate(text_chunks):\n",
        "    dataset.append({\n",
        "        'doi': '',  # you can add a DOI here if available\n",
        "        'chunk-id': str(i),\n",
        "        'chunk': chunk,\n",
        "        'id': '',  # you can add an ID here if available\n",
        "        'title': '',  # you can add a title here if available\n",
        "        'summary': '',  # you can add a summary here if available\n",
        "        'source': '',  # you can add a source here if available\n",
        "        'authors': [],  # you can add authors here if available\n",
        "        'categories': [],  # you can add categories here if available\n",
        "        'comment': '',  # you can add a comment here if available\n",
        "        'journal_ref': None,  # you can add a journal reference here if available\n",
        "        'primary_category': '',  # you can add a primary category here if available\n",
        "        'published': '',  # you can add a published date here if available\n",
        "        'updated': '',  # you can add an updated date here if available\n",
        "        'references': []  # you can add references here if available\n",
        "    })\n",
        "\n",
        "print(dataset[3])"
      ],
      "metadata": {
        "colab": {
          "base_uri": "https://localhost:8080/"
        },
        "id": "AyeGKo8-jqAf",
        "outputId": "04d4d44e-f87c-4d89-9a51-05656717d48a"
      },
      "execution_count": 16,
      "outputs": [
        {
          "output_type": "stream",
          "name": "stdout",
          "text": [
            "{'doi': '', 'chunk-id': '3', 'chunk': Document(page_content='Eventually, due to the increased scope of the project, Team Cherry decided to expand the\\ndownloadable content to a full sequel.[1][2]\\nThe developers released an update in March 2019, sharing descriptions and images of characters who\\nwill appe ar in Silksong . They thanked the game\\'s fans for supporting them regarding the\\nannouncement of the sequel.[10]\\nIn Decem ber 2019 , Team Cherry released a preview of the soundtrack, composed by Christopher\\nLarkin , as well as an update on the total number of enemies developed, with a focus on a trio,\\ndescribed as \"members of a scholarly suite.\"[11]\\nAn article in PC Gamer  from February 2022 showcased Team Cherry co-director William Pellen\\nstating that the game was still in development despite the lack of updates since December 2019 and\\nsaid that more details would be revealed as the game got closer to its release.[12]\\nA new trailer was revealed at the Xbox & Bethesda Games Showcase in June 2022, revealing that', metadata={'source': '/content/drive/MyDrive/MSDA/DATA255/silksongPDF/HollowKnightSilksongWikipedia.pdf', 'page': 1}), 'id': '', 'title': '', 'summary': '', 'source': '', 'authors': [], 'categories': [], 'comment': '', 'journal_ref': None, 'primary_category': '', 'published': '', 'updated': '', 'references': []}\n"
          ]
        }
      ]
    },
    {
      "cell_type": "markdown",
      "metadata": {
        "id": "lo1AYqcZw4wY"
      },
      "source": [
        "#### Dataset Overview\n",
        "\n",
        "The dataset used are PDFs samples of my (Silksong Gosalvez's) Deep Learning homeworks.\n",
        "\n",
        "Because most **L**arge **L**anguage **M**odels (LLMs) only contain knowledge of the world as it was during training, they cannot answer our questions about Silksong the game without example data."
      ]
    },
    {
      "cell_type": "markdown",
      "metadata": {
        "id": "zq3-dxkGw4wY"
      },
      "source": [
        "### Task 4: Building the Knowledge Base"
      ]
    },
    {
      "cell_type": "markdown",
      "metadata": {
        "id": "xsYU27hBw4wY"
      },
      "source": [
        "We now have a dataset that can serve as our chatbot knowledge base. Our next task is to transform that dataset into the knowledge base that our chatbot can use. To do this we must use an embedding model and vector database.\n",
        "\n",
        "We begin by initializing our connection to Pinecone, this requires a [free API key](https://app.pinecone.io)."
      ]
    },
    {
      "cell_type": "code",
      "execution_count": 17,
      "metadata": {
        "id": "GxIvcXXOw4wb"
      },
      "outputs": [],
      "source": [
        "from pinecone import Pinecone\n",
        "\n",
        "# initialize connection to pinecone (get API key at app.pinecone.io)\n",
        "api_key= userdata.get('PineCone')\n",
        "\n",
        "# configure client\n",
        "pc = Pinecone(api_key=api_key)"
      ]
    },
    {
      "cell_type": "markdown",
      "metadata": {
        "id": "Kcal_JEgw4wb"
      },
      "source": [
        "Now we setup our index specification, this allows us to define the cloud provider and region where we want to deploy our index. You can find a list of all [available providers and regions here](https://docs.pinecone.io/docs/projects)."
      ]
    },
    {
      "cell_type": "code",
      "execution_count": 18,
      "metadata": {
        "id": "uTLMWZPAw4wb"
      },
      "outputs": [],
      "source": [
        "from pinecone import ServerlessSpec\n",
        "\n",
        "spec = ServerlessSpec(\n",
        "    cloud=\"aws\", region=\"us-east-1\"\n",
        ")"
      ]
    },
    {
      "cell_type": "markdown",
      "metadata": {
        "id": "zSxNjSjLw4wb"
      },
      "source": [
        "Then we initialize the index. We will be using OpenAI's `text-embedding-ada-002` model for creating the embeddings, so we set the `dimension` to `1536`."
      ]
    },
    {
      "cell_type": "code",
      "execution_count": 19,
      "metadata": {
        "id": "ULRvhj4aw4wb",
        "outputId": "4656a646-785a-4085-b4ee-d951038019c8",
        "colab": {
          "base_uri": "https://localhost:8080/"
        }
      },
      "outputs": [
        {
          "output_type": "execute_result",
          "data": {
            "text/plain": [
              "{'dimension': 1536,\n",
              " 'index_fullness': 0.0,\n",
              " 'namespaces': {},\n",
              " 'total_vector_count': 0}"
            ]
          },
          "metadata": {},
          "execution_count": 19
        }
      ],
      "source": [
        "import time\n",
        "\n",
        "index_name = 'llama-2-rag'\n",
        "existing_indexes = [\n",
        "    index_info[\"name\"] for index_info in pc.list_indexes()\n",
        "]\n",
        "\n",
        "# check if index already exists (it shouldn't if this is first time)\n",
        "if index_name not in existing_indexes:\n",
        "    # if does not exist, create index\n",
        "    pc.create_index(\n",
        "        index_name,\n",
        "        dimension=1536,  # dimensionality of ada 002\n",
        "        metric='dotproduct',\n",
        "        spec=spec\n",
        "    )\n",
        "    # wait for index to be initialized\n",
        "    while not pc.describe_index(index_name).status['ready']:\n",
        "        time.sleep(1)\n",
        "\n",
        "# connect to index\n",
        "index = pc.Index(index_name)\n",
        "time.sleep(1)\n",
        "# view index stats\n",
        "index.describe_index_stats()"
      ]
    },
    {
      "cell_type": "markdown",
      "metadata": {
        "id": "jae7TDz5w4wb"
      },
      "source": [
        "Our index is now ready but it's empty. It is a vector index, so it needs vectors. As mentioned, to create these vector embeddings we will OpenAI's `text-embedding-ada-002` model — we can access it via LangChain like so:"
      ]
    },
    {
      "cell_type": "code",
      "execution_count": 20,
      "metadata": {
        "id": "uCQ-XA0Vw4wb",
        "colab": {
          "base_uri": "https://localhost:8080/"
        },
        "outputId": "4a695a64-e72a-43ec-8c8b-b803e0c8ae7b"
      },
      "outputs": [
        {
          "output_type": "stream",
          "name": "stderr",
          "text": [
            "/usr/local/lib/python3.10/dist-packages/langchain_core/_api/deprecation.py:117: LangChainDeprecationWarning: The class `langchain_community.embeddings.openai.OpenAIEmbeddings` was deprecated in langchain-community 0.1.0 and will be removed in 0.2.0. An updated version of the class exists in the langchain-openai package and should be used instead. To use it run `pip install -U langchain-openai` and import as `from langchain_openai import OpenAIEmbeddings`.\n",
            "  warn_deprecated(\n"
          ]
        }
      ],
      "source": [
        "from langchain.embeddings.openai import OpenAIEmbeddings\n",
        "\n",
        "embed_model = OpenAIEmbeddings(model=\"text-embedding-ada-002\")"
      ]
    },
    {
      "cell_type": "markdown",
      "metadata": {
        "id": "ONTjqjWww4wb"
      },
      "source": [
        "Using this model we can create embeddings like so:"
      ]
    },
    {
      "cell_type": "code",
      "execution_count": 21,
      "metadata": {
        "id": "ugECVXqDw4wb",
        "outputId": "6f928d6c-2eb0-4945-de1a-ae9245488585",
        "colab": {
          "base_uri": "https://localhost:8080/"
        }
      },
      "outputs": [
        {
          "output_type": "execute_result",
          "data": {
            "text/plain": [
              "(2, 1536)"
            ]
          },
          "metadata": {},
          "execution_count": 21
        }
      ],
      "source": [
        "texts = [\n",
        "    'this is the first chunk of text',\n",
        "    'then another second chunk of text is here'\n",
        "]\n",
        "\n",
        "res = embed_model.embed_documents(texts)\n",
        "len(res), len(res[0])"
      ]
    },
    {
      "cell_type": "markdown",
      "metadata": {
        "id": "f82zGPmIw4wb"
      },
      "source": [
        "From this we get two (aligning to our two chunks of text) 1536-dimensional embeddings.\n",
        "\n",
        "We're now ready to embed and index all our our data! We do this by looping through our dataset and embedding and inserting everything in batches.\n",
        "\n",
        "**NOTE**: *ensure that chunks are strings and ensure that they are correctly assigned to metadata (do this with the .page_content method)*"
      ]
    },
    {
      "cell_type": "code",
      "execution_count": 22,
      "metadata": {
        "colab": {
          "referenced_widgets": [
            "5b9bcff7e778481abb5a2f04490bc10a",
            "8cc2c2c2c6a94a6e945457ae4defdee9",
            "fd78bca43c454152b60a0527f37250b5",
            "8348a25a6f714de7aeedf93ccbbe270b",
            "7bed3d00469049d1bb7dd74cc37e6ef1",
            "fb9b695c9a9442d3824dfdf913f9ddb2",
            "db0541c3e7e54cdbad561f78fa85ff79",
            "18d47641d1bb41b98151c59164a8a856",
            "b2c9225eb98d4292b1ac54331cd317b2",
            "6c72d691fe9841288bfa3c03a6f27353",
            "eb1a5c78839746ed8b28c861216d5705"
          ],
          "base_uri": "https://localhost:8080/",
          "height": 49
        },
        "id": "AtgH_iMuw4wb",
        "outputId": "03738a87-93d9-415c-e6b0-8dd0b814616c"
      },
      "outputs": [
        {
          "output_type": "display_data",
          "data": {
            "text/plain": [
              "  0%|          | 0/1 [00:00<?, ?it/s]"
            ],
            "application/vnd.jupyter.widget-view+json": {
              "version_major": 2,
              "version_minor": 0,
              "model_id": "5b9bcff7e778481abb5a2f04490bc10a"
            }
          },
          "metadata": {}
        }
      ],
      "source": [
        "import pandas as pd\n",
        "from tqdm.auto import tqdm  # for progress bar\n",
        "\n",
        "data = pd.DataFrame(dataset) # this makes it easier to iterate over the dataset\n",
        "\n",
        "batch_size = 100\n",
        "\n",
        "for i in tqdm(range(0, len(data), batch_size)):\n",
        "    i_end = min(len(data), i+batch_size)\n",
        "    # get batch of data\n",
        "    batch = data.iloc[i:i_end]\n",
        "    # generate unique ids for each chunk\n",
        "    ids = [f\"{x['doi']}-{x['chunk-id']}\" for i, x in batch.iterrows()]\n",
        "    # get text to embed\n",
        "    texts = [str(x['chunk']) for _, x in batch.iterrows()]\n",
        "\n",
        "    # embed text\n",
        "    embeds = embed_model.embed_documents(texts)\n",
        "    # get metadata to store in Pinecone\n",
        "    metadata = [\n",
        "        {'text': x['chunk'].page_content,\n",
        "         'source': x['source'],\n",
        "         'title': x['title']} for i, x in batch.iterrows()\n",
        "    ]\n",
        "    # add to Pinecone\n",
        "    index.upsert(vectors=zip(ids, embeds, metadata))"
      ]
    },
    {
      "cell_type": "markdown",
      "metadata": {
        "id": "S9p8OBkyw4wc"
      },
      "source": [
        "We can check that the vector index has been populated using `describe_index_stats` like before:"
      ]
    },
    {
      "cell_type": "code",
      "execution_count": 23,
      "metadata": {
        "id": "I3QdqBijw4wc",
        "outputId": "5c1bab86-9fea-41a7-9af3-49fc6317b627",
        "colab": {
          "base_uri": "https://localhost:8080/"
        }
      },
      "outputs": [
        {
          "output_type": "execute_result",
          "data": {
            "text/plain": [
              "{'dimension': 1536,\n",
              " 'index_fullness': 0.0,\n",
              " 'namespaces': {'': {'vector_count': 36}},\n",
              " 'total_vector_count': 36}"
            ]
          },
          "metadata": {},
          "execution_count": 23
        }
      ],
      "source": [
        "index.describe_index_stats()"
      ]
    },
    {
      "cell_type": "markdown",
      "metadata": {
        "id": "DqqVoZnkw4wc"
      },
      "source": [
        "#### Retrieval Augmented Generation"
      ]
    },
    {
      "cell_type": "markdown",
      "metadata": {
        "id": "zcm-dCPCw4wc"
      },
      "source": [
        "We've built a fully-fledged knowledge base. Now it's time to connect that knowledge base to our chatbot. To do that we'll be diving back into LangChain and reusing our template prompt from earlier."
      ]
    },
    {
      "cell_type": "markdown",
      "metadata": {
        "id": "qJPGGyXSw4wc"
      },
      "source": [
        "To use LangChain here we need to load the LangChain abstraction for a vector index, called a `vectorstore`. We pass in our vector `index` to initialize the object."
      ]
    },
    {
      "cell_type": "code",
      "execution_count": 24,
      "metadata": {
        "id": "4MPMJmtCw4wc",
        "outputId": "7fd3e064-ec18-4e6e-d220-f6bdb5781fc9",
        "colab": {
          "base_uri": "https://localhost:8080/"
        }
      },
      "outputs": [
        {
          "output_type": "stream",
          "name": "stderr",
          "text": [
            "/usr/local/lib/python3.10/dist-packages/langchain_core/_api/deprecation.py:117: LangChainDeprecationWarning: The class `langchain_community.vectorstores.pinecone.Pinecone` was deprecated in langchain-community 0.0.18 and will be removed in 0.2.0. An updated version of the class exists in the langchain-pinecone package and should be used instead. To use it run `pip install -U langchain-pinecone` and import as `from langchain_pinecone import Pinecone`.\n",
            "  warn_deprecated(\n",
            "/usr/local/lib/python3.10/dist-packages/langchain_community/vectorstores/pinecone.py:68: UserWarning: Passing in `embedding` as a Callable is deprecated. Please pass in an Embeddings object instead.\n",
            "  warnings.warn(\n"
          ]
        }
      ],
      "source": [
        "from langchain.vectorstores import Pinecone\n",
        "\n",
        "text_field = \"text\"  # the metadata field that contains our text\n",
        "\n",
        "# initialize the vector store object\n",
        "vectorstore = Pinecone(\n",
        "    index, embed_model.embed_query, text_field\n",
        ")"
      ]
    },
    {
      "cell_type": "markdown",
      "metadata": {
        "id": "_zrlwGYUw4wc"
      },
      "source": [
        "Using this `vectorstore` we can already query the index and see if we have any relevant information given our question about Silksong's prior deep learning homeworks."
      ]
    },
    {
      "cell_type": "code",
      "execution_count": 25,
      "metadata": {
        "id": "oyShvreew4wc",
        "outputId": "533f2f01-bd57-4ef7-d213-1c071d6d18ea",
        "colab": {
          "base_uri": "https://localhost:8080/"
        }
      },
      "outputs": [
        {
          "output_type": "execute_result",
          "data": {
            "text/plain": [
              "[Document(page_content='Silksong  would be released on Xbox Game Pass  at launch, with the game being available through the\\nservice for PC and Xbox Series X/S.[13] While no release date was announ ced, the Xbox Twitter\\naccount stated in a tweet that it would be available within the next twelve months, implying they\\nexpected a release by 12 June 2023.[14][15] Team Cherry marketing and publishing representative\\nMatthew Griffin declared on 10 May 2023 that the game was delayed, stating \"We had planned to\\nrelease in the first half of 2023, but development is still continuing.\"[16]\\nIn September 2022, Sony  confirmed in a tweet that the game  would also come to PlayStation 4 and\\nPlayStation 5.[17]\\nIn May 2022, Hollow Knight: Silksong  won a \"Most Anticipated Game\" award from Unity . In\\nresponse, Team Cherry thanked the community for their support and said \"It can\\'t be too much\\nlonger, surely!\"[9][18][19]\\n1. \"Team Cherry Holiday Sign of f\" (https://www .teamcherry .com.au/blog/1 1xf7azcuebhybgossfhdc0m', metadata={'source': '', 'title': ''}),\n",
              " Document(page_content='Eventually, due to the increased scope of the project, Team Cherry decided to expand the\\ndownloadable content to a full sequel.[1][2]\\nThe developers released an update in March 2019, sharing descriptions and images of characters who\\nwill appe ar in Silksong . They thanked the game\\'s fans for supporting them regarding the\\nannouncement of the sequel.[10]\\nIn Decem ber 2019 , Team Cherry released a preview of the soundtrack, composed by Christopher\\nLarkin , as well as an update on the total number of enemies developed, with a focus on a trio,\\ndescribed as \"members of a scholarly suite.\"[11]\\nAn article in PC Gamer  from February 2022 showcased Team Cherry co-director William Pellen\\nstating that the game was still in development despite the lack of updates since December 2019 and\\nsaid that more details would be revealed as the game got closer to its release.[12]\\nA new trailer was revealed at the Xbox & Bethesda Games Showcase in June 2022, revealing that', metadata={'source': '', 'title': ''}),\n",
              " Document(page_content=\"Hollow Knight: Silksong Release Date\\nThere is no ofﬁcial release date or window for Hollow Knight: Silksong . A 2024\\nrelease seems most likely given it was previously slated for the ﬁrst half of 2023,\\nthough there’ s been no ofﬁcial word from developer Team Cherry .\\nLast May , Team Cherry \\xa0delayed \\xa0Silksong beyond its initial First Half 2023 release\\nwindow , saying: “W e had planned to release in the 1st half of 2023, but\\ndevelopment is still continuing. W e're excited by how the game is shaping up, and\\nit's gotten quite big, so we want to take the time to make the game as good as we\\ncan. Expect more details from us once we get closer to release.”\\nAs of mid-February 2024, Team Cherry has not shared further details on the release\\ndate.\\nHollow Knight: Silksong Platforms and Price\\nHollow Knight: Silksong will be released on \\xa0PS5,\\xa0Xbox Series X|S ,\\xa0Nintendo\\nSwitch , and \\xa0PC. It’ll be available day and date on \\xa0Xbox Game Pass . The ofﬁcial\", metadata={'source': '', 'title': ''})]"
            ]
          },
          "metadata": {},
          "execution_count": 25
        }
      ],
      "source": [
        "query = \"Did Silksong get released?\"\n",
        "\n",
        "vectorstore.similarity_search(query, k=3)"
      ]
    },
    {
      "cell_type": "markdown",
      "metadata": {
        "id": "huzLImnKw4wc"
      },
      "source": [
        "We return a lot of text here and it's not that clear what we need or what is relevant. Fortunately, our LLM will be able to parse this information much faster than us. All we need is to connect the output from our `vectorstore` to our `chat` chatbot. To do that we can use the same logic as we used earlier."
      ]
    },
    {
      "cell_type": "code",
      "execution_count": 26,
      "metadata": {
        "id": "Rp5NBaqfw4wc"
      },
      "outputs": [],
      "source": [
        "def augment_prompt(query: str):\n",
        "    # get top 3 results from knowledge base\n",
        "    results = vectorstore.similarity_search(query, k=3)\n",
        "    # get the text from the results\n",
        "    source_knowledge = \"\\n\".join([x.page_content for x in results])\n",
        "    # feed into an augmented prompt\n",
        "    augmented_prompt = f\"\"\"Using the contexts below, answer the query.\n",
        "\n",
        "    Contexts:\n",
        "    {source_knowledge}\n",
        "\n",
        "    Query: {query}\"\"\"\n",
        "    return augmented_prompt"
      ]
    },
    {
      "cell_type": "markdown",
      "metadata": {
        "id": "q2-7QCTew4wc"
      },
      "source": [
        "Using this we produce an augmented prompt:"
      ]
    },
    {
      "cell_type": "code",
      "execution_count": 27,
      "metadata": {
        "id": "Mftcb16Cw4wc",
        "outputId": "d2ecc08d-06ed-4cfb-e35e-be48a14e8c8d",
        "colab": {
          "base_uri": "https://localhost:8080/"
        }
      },
      "outputs": [
        {
          "output_type": "stream",
          "name": "stdout",
          "text": [
            "Using the contexts below, answer the query.\n",
            "\n",
            "    Contexts:\n",
            "    Silksong  would be released on Xbox Game Pass  at launch, with the game being available through the\n",
            "service for PC and Xbox Series X/S.[13] While no release date was announ ced, the Xbox Twitter\n",
            "account stated in a tweet that it would be available within the next twelve months, implying they\n",
            "expected a release by 12 June 2023.[14][15] Team Cherry marketing and publishing representative\n",
            "Matthew Griffin declared on 10 May 2023 that the game was delayed, stating \"We had planned to\n",
            "release in the first half of 2023, but development is still continuing.\"[16]\n",
            "In September 2022, Sony  confirmed in a tweet that the game  would also come to PlayStation 4 and\n",
            "PlayStation 5.[17]\n",
            "In May 2022, Hollow Knight: Silksong  won a \"Most Anticipated Game\" award from Unity . In\n",
            "response, Team Cherry thanked the community for their support and said \"It can't be too much\n",
            "longer, surely!\"[9][18][19]\n",
            "1. \"Team Cherry Holiday Sign of f\" (https://www .teamcherry .com.au/blog/1 1xf7azcuebhybgossfhdc0m\n",
            "Eventually, due to the increased scope of the project, Team Cherry decided to expand the\n",
            "downloadable content to a full sequel.[1][2]\n",
            "The developers released an update in March 2019, sharing descriptions and images of characters who\n",
            "will appe ar in Silksong . They thanked the game's fans for supporting them regarding the\n",
            "announcement of the sequel.[10]\n",
            "In Decem ber 2019 , Team Cherry released a preview of the soundtrack, composed by Christopher\n",
            "Larkin , as well as an update on the total number of enemies developed, with a focus on a trio,\n",
            "described as \"members of a scholarly suite.\"[11]\n",
            "An article in PC Gamer  from February 2022 showcased Team Cherry co-director William Pellen\n",
            "stating that the game was still in development despite the lack of updates since December 2019 and\n",
            "said that more details would be revealed as the game got closer to its release.[12]\n",
            "A new trailer was revealed at the Xbox & Bethesda Games Showcase in June 2022, revealing that\n",
            "Hollow Knight: Silksong Release Date\n",
            "There is no ofﬁcial release date or window for Hollow Knight: Silksong . A 2024\n",
            "release seems most likely given it was previously slated for the ﬁrst half of 2023,\n",
            "though there’ s been no ofﬁcial word from developer Team Cherry .\n",
            "Last May , Team Cherry  delayed  Silksong beyond its initial First Half 2023 release\n",
            "window , saying: “W e had planned to release in the 1st half of 2023, but\n",
            "development is still continuing. W e're excited by how the game is shaping up, and\n",
            "it's gotten quite big, so we want to take the time to make the game as good as we\n",
            "can. Expect more details from us once we get closer to release.”\n",
            "As of mid-February 2024, Team Cherry has not shared further details on the release\n",
            "date.\n",
            "Hollow Knight: Silksong Platforms and Price\n",
            "Hollow Knight: Silksong will be released on  PS5, Xbox Series X|S , Nintendo\n",
            "Switch , and  PC. It’ll be available day and date on  Xbox Game Pass . The ofﬁcial\n",
            "\n",
            "    Query: Did Silksong get released?\n"
          ]
        }
      ],
      "source": [
        "print(augment_prompt(query))"
      ]
    },
    {
      "cell_type": "markdown",
      "metadata": {
        "id": "tZI3-CdZw4wc"
      },
      "source": [
        "There is still a lot of text here, so let's pass it onto our chat model to see how it performs."
      ]
    },
    {
      "cell_type": "code",
      "execution_count": 28,
      "metadata": {
        "id": "3j-9JMRWw4wc",
        "outputId": "ed709ed8-01ed-4735-a791-07fb36f1ffdb",
        "colab": {
          "base_uri": "https://localhost:8080/"
        }
      },
      "outputs": [
        {
          "output_type": "stream",
          "name": "stdout",
          "text": [
            "As of mid-February 2024, Team Cherry has not shared any further details on the release date for Hollow Knight: Silksong. Therefore, Silksong has not been released yet.\n"
          ]
        }
      ],
      "source": [
        "# create a new user prompt\n",
        "prompt = HumanMessage(\n",
        "    content=augment_prompt(query)\n",
        ")\n",
        "# add to messages\n",
        "messages.append(prompt)\n",
        "\n",
        "res = chat(messages)\n",
        "\n",
        "print(res.content)"
      ]
    },
    {
      "cell_type": "markdown",
      "metadata": {
        "id": "WwWgr78fw4wc"
      },
      "source": [
        "We can continue with more questions about Silksong's prior deep learning homeworks. Let's try _without_ RAG first:"
      ]
    },
    {
      "cell_type": "code",
      "execution_count": 29,
      "metadata": {
        "id": "pBuJCW1ew4wc",
        "outputId": "6ea4402c-ce86-4490-e58a-f1e3356bdc71",
        "colab": {
          "base_uri": "https://localhost:8080/"
        }
      },
      "outputs": [
        {
          "output_type": "stream",
          "name": "stdout",
          "text": [
            "Hollow Knight: Silksong will be released on PS5, Xbox Series X|S, Nintendo Switch, and PC. Additionally, the game will be available on Xbox Game Pass on launch day.\n"
          ]
        }
      ],
      "source": [
        "prompt = HumanMessage(\n",
        "    content=\"What systems will Silksong release on?\"\n",
        ")\n",
        "\n",
        "res = chat(messages + [prompt])\n",
        "print(res.content)"
      ]
    },
    {
      "cell_type": "markdown",
      "metadata": {
        "id": "7ts3kGD0w4wc"
      },
      "source": [
        "The chatbot is able to respond about Silksong's prior deep learning homeworks thanks to it's conversational history stored in `messages`."
      ]
    },
    {
      "cell_type": "code",
      "execution_count": 30,
      "metadata": {
        "id": "cuWbaJAIw4wc",
        "outputId": "89d1e80d-7c7c-4769-b3c6-fc16f0b11209",
        "colab": {
          "base_uri": "https://localhost:8080/"
        }
      },
      "outputs": [
        {
          "output_type": "stream",
          "name": "stdout",
          "text": [
            "Hollow Knight: Silksong is being developed by the Australian independent developer Team Cherry.\n"
          ]
        }
      ],
      "source": [
        "prompt = HumanMessage(\n",
        "    content=augment_prompt(\n",
        "        \"Who created Silksong?\"\n",
        "    )\n",
        ")\n",
        "\n",
        "res = chat(messages + [prompt])\n",
        "print(res.content)"
      ]
    },
    {
      "cell_type": "code",
      "source": [
        "prompt = HumanMessage(\n",
        "    content=augment_prompt(\n",
        "        \"What date should fans pay attention to?\"\n",
        "    )\n",
        ")\n",
        "\n",
        "res = chat(messages + [prompt])\n",
        "print(res.content)"
      ],
      "metadata": {
        "colab": {
          "base_uri": "https://localhost:8080/"
        },
        "id": "JZq8hZQemR15",
        "outputId": "c94f6b27-3672-4e6c-fa3a-03491ddec479"
      },
      "execution_count": 31,
      "outputs": [
        {
          "output_type": "stream",
          "name": "stdout",
          "text": [
            "Fans of Hollow Knight: Silksong should pay attention to April 29, as there is a potential opportunity for an update on the game's status during an Xbox Digital Showcase on that date. This event could feature new information about the progress towards the release of Silksong and may offer updates that fans have been eagerly anticipating.\n"
          ]
        }
      ]
    },
    {
      "cell_type": "code",
      "source": [
        "prompt = HumanMessage(\n",
        "    content=augment_prompt(\n",
        "        \"Who wrote about Silksong on april 23, 2024?\"\n",
        "    )\n",
        ")\n",
        "\n",
        "res = chat(messages + [prompt])\n",
        "print(res.content)"
      ],
      "metadata": {
        "colab": {
          "base_uri": "https://localhost:8080/"
        },
        "id": "F8moQ46ZmrTU",
        "outputId": "1f6f42a3-3e4f-49be-9c87-c97ff666d6b3"
      },
      "execution_count": 32,
      "outputs": [
        {
          "output_type": "stream",
          "name": "stdout",
          "text": [
            "Ben Brosofsky wrote about Silksong on April 23, 2024.\n"
          ]
        }
      ]
    },
    {
      "cell_type": "code",
      "source": [
        "prompt = HumanMessage(\n",
        "    content=augment_prompt(\n",
        "        \"What is the only games confirmed for the new IGN x ID@Xbox Digital Showcase?\"\n",
        "    )\n",
        ")\n",
        "\n",
        "res = chat(messages + [prompt])\n",
        "print(res.content)"
      ],
      "metadata": {
        "colab": {
          "base_uri": "https://localhost:8080/"
        },
        "id": "Tmf9qV7GnBW-",
        "outputId": "a3074c07-5dc5-4fc6-91de-2287adce2812"
      },
      "execution_count": 33,
      "outputs": [
        {
          "output_type": "stream",
          "name": "stdout",
          "text": [
            "The only games confirmed for the new IGN x ID@Xbox Digital Showcase are Dungeons of Hinterberg, 33 Immortals, and Lost Records Bloom & Rage, as mentioned in the Xbox Wire announcement.\n"
          ]
        }
      ]
    },
    {
      "cell_type": "code",
      "source": [
        "prompt = HumanMessage(\n",
        "    content=augment_prompt(\n",
        "        \"Who said 'Discovery is a huge part of Hollow Knight so we don’t want to spoil all the new systems and surprises'?\"\n",
        "    )\n",
        ")\n",
        "\n",
        "res = chat(messages + [prompt])\n",
        "print(res.content)"
      ],
      "metadata": {
        "colab": {
          "base_uri": "https://localhost:8080/"
        },
        "id": "2zyI_DCfn5le",
        "outputId": "e05e4791-283d-4da7-defc-578199812550"
      },
      "execution_count": 35,
      "outputs": [
        {
          "output_type": "stream",
          "name": "stdout",
          "text": [
            "The statement \"Discovery is a huge part of Hollow Knight so we don’t want to spoil all the new systems and surprises\" was made by Team Cherry during their Hollow Knight: Silksong reveal.\n"
          ]
        }
      ]
    },
    {
      "cell_type": "code",
      "source": [
        "prompt = HumanMessage(\n",
        "    content=augment_prompt(\n",
        "        \"Who is Jordan Sirani?\"\n",
        "    )\n",
        ")\n",
        "\n",
        "res = chat(messages + [prompt])\n",
        "print(res.content)"
      ],
      "metadata": {
        "colab": {
          "base_uri": "https://localhost:8080/"
        },
        "id": "f8_FFWCW_AyD",
        "outputId": "5881367b-91a5-4454-847d-e4583d9997e0"
      },
      "execution_count": 38,
      "outputs": [
        {
          "output_type": "stream",
          "name": "stdout",
          "text": [
            "I'm sorry, but the provided contexts do not mention anyone named Jordan Sirani. If there is any other information or context you can provide, I would be happy to try to assist further.\n"
          ]
        }
      ]
    },
    {
      "cell_type": "code",
      "source": [
        "prompt = HumanMessage(\n",
        "    content=augment_prompt(\n",
        "        \"What 'mode' will Silksong feature?\"\n",
        "    )\n",
        ")\n",
        "\n",
        "res = chat(messages + [prompt])\n",
        "print(res.content)"
      ],
      "metadata": {
        "colab": {
          "base_uri": "https://localhost:8080/"
        },
        "id": "XhQNQS4EnZ9T",
        "outputId": "e46639b5-929a-404f-d559-8c83438693ef"
      },
      "execution_count": 36,
      "outputs": [
        {
          "output_type": "stream",
          "name": "stdout",
          "text": [
            "Silksong will feature Silk Soul Mode, which will be available after you complete the game for the first time. This mode, similar to Steel Soul Mode in Hollow Knight, is described as spinning the game into a unique and challenging experience. Further details about Silk Soul Mode have not yet been announced.\n"
          ]
        }
      ]
    },
    {
      "cell_type": "code",
      "source": [
        "prompt = HumanMessage(\n",
        "    content=augment_prompt(\n",
        "        \"Summarize our chat in bullets.\"\n",
        "    )\n",
        ")\n",
        "\n",
        "res = chat(messages + [prompt])\n",
        "print(res.content)"
      ],
      "metadata": {
        "colab": {
          "base_uri": "https://localhost:8080/"
        },
        "id": "vB4V01dF-V-i",
        "outputId": "1c209b87-6462-4ba3-ebf5-9595705ac5df"
      },
      "execution_count": 37,
      "outputs": [
        {
          "output_type": "stream",
          "name": "stdout",
          "text": [
            "- Hollow Knight: Silksong has not been released yet.\n",
            "- The game was initially expected to be released in the first half of 2023.\n",
            "- Team Cherry announced a delay in the game's release, citing continued development to ensure the game's quality.\n",
            "- As of mid-February 2024, there have been no further details shared on the release date.\n",
            "- Hollow Knight: Silksong is anticipated to be released on PS5, Xbox Series X|S, Nintendo Switch, and PC, with availability on Xbox Game Pass at launch.\n"
          ]
        }
      ]
    },
    {
      "cell_type": "markdown",
      "source": [
        "**Observations and Limitations:**\n",
        "* PDFs can include special characters and formatting complexities, so the LLM did not grab all details, for example the RAG grabbed context written by Jordan Sirani, but could not determine that he wrote the article\n",
        "* chunking format ensures data loading and ingestion occurs properly\n",
        "* appending prompts and responses to messages expand content to enable the chatbot to 'converse'\n",
        "* savign messages by passing them forward allows the chatbot to 'remember' the conversation for conclusions and anslysis"
      ],
      "metadata": {
        "id": "kbqygLLrqrpQ"
      }
    },
    {
      "cell_type": "markdown",
      "metadata": {
        "id": "XPrsKLj7w4wc"
      },
      "source": [
        "Delete the index to save resources and not be charged for non-use:"
      ]
    },
    {
      "cell_type": "code",
      "execution_count": 39,
      "metadata": {
        "id": "E8LSIHSGw4wc"
      },
      "outputs": [],
      "source": [
        "pc.delete_index(index_name)"
      ]
    },
    {
      "cell_type": "markdown",
      "metadata": {
        "id": "XtiAQmWdw4wd"
      },
      "source": [
        "---"
      ]
    }
  ],
  "metadata": {
    "colab": {
      "provenance": [],
      "gpuType": "T4",
      "include_colab_link": true
    },
    "kernelspec": {
      "display_name": "Python 3",
      "name": "python3"
    },
    "language_info": {
      "codemirror_mode": {
        "name": "ipython",
        "version": 3
      },
      "file_extension": ".py",
      "mimetype": "text/x-python",
      "name": "python",
      "nbconvert_exporter": "python",
      "pygments_lexer": "ipython3",
      "version": "3.11.5"
    },
    "accelerator": "GPU",
    "widgets": {
      "application/vnd.jupyter.widget-state+json": {
        "5b9bcff7e778481abb5a2f04490bc10a": {
          "model_module": "@jupyter-widgets/controls",
          "model_name": "HBoxModel",
          "model_module_version": "1.5.0",
          "state": {
            "_dom_classes": [],
            "_model_module": "@jupyter-widgets/controls",
            "_model_module_version": "1.5.0",
            "_model_name": "HBoxModel",
            "_view_count": null,
            "_view_module": "@jupyter-widgets/controls",
            "_view_module_version": "1.5.0",
            "_view_name": "HBoxView",
            "box_style": "",
            "children": [
              "IPY_MODEL_8cc2c2c2c6a94a6e945457ae4defdee9",
              "IPY_MODEL_fd78bca43c454152b60a0527f37250b5",
              "IPY_MODEL_8348a25a6f714de7aeedf93ccbbe270b"
            ],
            "layout": "IPY_MODEL_7bed3d00469049d1bb7dd74cc37e6ef1"
          }
        },
        "8cc2c2c2c6a94a6e945457ae4defdee9": {
          "model_module": "@jupyter-widgets/controls",
          "model_name": "HTMLModel",
          "model_module_version": "1.5.0",
          "state": {
            "_dom_classes": [],
            "_model_module": "@jupyter-widgets/controls",
            "_model_module_version": "1.5.0",
            "_model_name": "HTMLModel",
            "_view_count": null,
            "_view_module": "@jupyter-widgets/controls",
            "_view_module_version": "1.5.0",
            "_view_name": "HTMLView",
            "description": "",
            "description_tooltip": null,
            "layout": "IPY_MODEL_fb9b695c9a9442d3824dfdf913f9ddb2",
            "placeholder": "​",
            "style": "IPY_MODEL_db0541c3e7e54cdbad561f78fa85ff79",
            "value": "100%"
          }
        },
        "fd78bca43c454152b60a0527f37250b5": {
          "model_module": "@jupyter-widgets/controls",
          "model_name": "FloatProgressModel",
          "model_module_version": "1.5.0",
          "state": {
            "_dom_classes": [],
            "_model_module": "@jupyter-widgets/controls",
            "_model_module_version": "1.5.0",
            "_model_name": "FloatProgressModel",
            "_view_count": null,
            "_view_module": "@jupyter-widgets/controls",
            "_view_module_version": "1.5.0",
            "_view_name": "ProgressView",
            "bar_style": "success",
            "description": "",
            "description_tooltip": null,
            "layout": "IPY_MODEL_18d47641d1bb41b98151c59164a8a856",
            "max": 1,
            "min": 0,
            "orientation": "horizontal",
            "style": "IPY_MODEL_b2c9225eb98d4292b1ac54331cd317b2",
            "value": 1
          }
        },
        "8348a25a6f714de7aeedf93ccbbe270b": {
          "model_module": "@jupyter-widgets/controls",
          "model_name": "HTMLModel",
          "model_module_version": "1.5.0",
          "state": {
            "_dom_classes": [],
            "_model_module": "@jupyter-widgets/controls",
            "_model_module_version": "1.5.0",
            "_model_name": "HTMLModel",
            "_view_count": null,
            "_view_module": "@jupyter-widgets/controls",
            "_view_module_version": "1.5.0",
            "_view_name": "HTMLView",
            "description": "",
            "description_tooltip": null,
            "layout": "IPY_MODEL_6c72d691fe9841288bfa3c03a6f27353",
            "placeholder": "​",
            "style": "IPY_MODEL_eb1a5c78839746ed8b28c861216d5705",
            "value": " 1/1 [00:03&lt;00:00,  3.82s/it]"
          }
        },
        "7bed3d00469049d1bb7dd74cc37e6ef1": {
          "model_module": "@jupyter-widgets/base",
          "model_name": "LayoutModel",
          "model_module_version": "1.2.0",
          "state": {
            "_model_module": "@jupyter-widgets/base",
            "_model_module_version": "1.2.0",
            "_model_name": "LayoutModel",
            "_view_count": null,
            "_view_module": "@jupyter-widgets/base",
            "_view_module_version": "1.2.0",
            "_view_name": "LayoutView",
            "align_content": null,
            "align_items": null,
            "align_self": null,
            "border": null,
            "bottom": null,
            "display": null,
            "flex": null,
            "flex_flow": null,
            "grid_area": null,
            "grid_auto_columns": null,
            "grid_auto_flow": null,
            "grid_auto_rows": null,
            "grid_column": null,
            "grid_gap": null,
            "grid_row": null,
            "grid_template_areas": null,
            "grid_template_columns": null,
            "grid_template_rows": null,
            "height": null,
            "justify_content": null,
            "justify_items": null,
            "left": null,
            "margin": null,
            "max_height": null,
            "max_width": null,
            "min_height": null,
            "min_width": null,
            "object_fit": null,
            "object_position": null,
            "order": null,
            "overflow": null,
            "overflow_x": null,
            "overflow_y": null,
            "padding": null,
            "right": null,
            "top": null,
            "visibility": null,
            "width": null
          }
        },
        "fb9b695c9a9442d3824dfdf913f9ddb2": {
          "model_module": "@jupyter-widgets/base",
          "model_name": "LayoutModel",
          "model_module_version": "1.2.0",
          "state": {
            "_model_module": "@jupyter-widgets/base",
            "_model_module_version": "1.2.0",
            "_model_name": "LayoutModel",
            "_view_count": null,
            "_view_module": "@jupyter-widgets/base",
            "_view_module_version": "1.2.0",
            "_view_name": "LayoutView",
            "align_content": null,
            "align_items": null,
            "align_self": null,
            "border": null,
            "bottom": null,
            "display": null,
            "flex": null,
            "flex_flow": null,
            "grid_area": null,
            "grid_auto_columns": null,
            "grid_auto_flow": null,
            "grid_auto_rows": null,
            "grid_column": null,
            "grid_gap": null,
            "grid_row": null,
            "grid_template_areas": null,
            "grid_template_columns": null,
            "grid_template_rows": null,
            "height": null,
            "justify_content": null,
            "justify_items": null,
            "left": null,
            "margin": null,
            "max_height": null,
            "max_width": null,
            "min_height": null,
            "min_width": null,
            "object_fit": null,
            "object_position": null,
            "order": null,
            "overflow": null,
            "overflow_x": null,
            "overflow_y": null,
            "padding": null,
            "right": null,
            "top": null,
            "visibility": null,
            "width": null
          }
        },
        "db0541c3e7e54cdbad561f78fa85ff79": {
          "model_module": "@jupyter-widgets/controls",
          "model_name": "DescriptionStyleModel",
          "model_module_version": "1.5.0",
          "state": {
            "_model_module": "@jupyter-widgets/controls",
            "_model_module_version": "1.5.0",
            "_model_name": "DescriptionStyleModel",
            "_view_count": null,
            "_view_module": "@jupyter-widgets/base",
            "_view_module_version": "1.2.0",
            "_view_name": "StyleView",
            "description_width": ""
          }
        },
        "18d47641d1bb41b98151c59164a8a856": {
          "model_module": "@jupyter-widgets/base",
          "model_name": "LayoutModel",
          "model_module_version": "1.2.0",
          "state": {
            "_model_module": "@jupyter-widgets/base",
            "_model_module_version": "1.2.0",
            "_model_name": "LayoutModel",
            "_view_count": null,
            "_view_module": "@jupyter-widgets/base",
            "_view_module_version": "1.2.0",
            "_view_name": "LayoutView",
            "align_content": null,
            "align_items": null,
            "align_self": null,
            "border": null,
            "bottom": null,
            "display": null,
            "flex": null,
            "flex_flow": null,
            "grid_area": null,
            "grid_auto_columns": null,
            "grid_auto_flow": null,
            "grid_auto_rows": null,
            "grid_column": null,
            "grid_gap": null,
            "grid_row": null,
            "grid_template_areas": null,
            "grid_template_columns": null,
            "grid_template_rows": null,
            "height": null,
            "justify_content": null,
            "justify_items": null,
            "left": null,
            "margin": null,
            "max_height": null,
            "max_width": null,
            "min_height": null,
            "min_width": null,
            "object_fit": null,
            "object_position": null,
            "order": null,
            "overflow": null,
            "overflow_x": null,
            "overflow_y": null,
            "padding": null,
            "right": null,
            "top": null,
            "visibility": null,
            "width": null
          }
        },
        "b2c9225eb98d4292b1ac54331cd317b2": {
          "model_module": "@jupyter-widgets/controls",
          "model_name": "ProgressStyleModel",
          "model_module_version": "1.5.0",
          "state": {
            "_model_module": "@jupyter-widgets/controls",
            "_model_module_version": "1.5.0",
            "_model_name": "ProgressStyleModel",
            "_view_count": null,
            "_view_module": "@jupyter-widgets/base",
            "_view_module_version": "1.2.0",
            "_view_name": "StyleView",
            "bar_color": null,
            "description_width": ""
          }
        },
        "6c72d691fe9841288bfa3c03a6f27353": {
          "model_module": "@jupyter-widgets/base",
          "model_name": "LayoutModel",
          "model_module_version": "1.2.0",
          "state": {
            "_model_module": "@jupyter-widgets/base",
            "_model_module_version": "1.2.0",
            "_model_name": "LayoutModel",
            "_view_count": null,
            "_view_module": "@jupyter-widgets/base",
            "_view_module_version": "1.2.0",
            "_view_name": "LayoutView",
            "align_content": null,
            "align_items": null,
            "align_self": null,
            "border": null,
            "bottom": null,
            "display": null,
            "flex": null,
            "flex_flow": null,
            "grid_area": null,
            "grid_auto_columns": null,
            "grid_auto_flow": null,
            "grid_auto_rows": null,
            "grid_column": null,
            "grid_gap": null,
            "grid_row": null,
            "grid_template_areas": null,
            "grid_template_columns": null,
            "grid_template_rows": null,
            "height": null,
            "justify_content": null,
            "justify_items": null,
            "left": null,
            "margin": null,
            "max_height": null,
            "max_width": null,
            "min_height": null,
            "min_width": null,
            "object_fit": null,
            "object_position": null,
            "order": null,
            "overflow": null,
            "overflow_x": null,
            "overflow_y": null,
            "padding": null,
            "right": null,
            "top": null,
            "visibility": null,
            "width": null
          }
        },
        "eb1a5c78839746ed8b28c861216d5705": {
          "model_module": "@jupyter-widgets/controls",
          "model_name": "DescriptionStyleModel",
          "model_module_version": "1.5.0",
          "state": {
            "_model_module": "@jupyter-widgets/controls",
            "_model_module_version": "1.5.0",
            "_model_name": "DescriptionStyleModel",
            "_view_count": null,
            "_view_module": "@jupyter-widgets/base",
            "_view_module_version": "1.2.0",
            "_view_name": "StyleView",
            "description_width": ""
          }
        }
      }
    }
  },
  "nbformat": 4,
  "nbformat_minor": 0
}