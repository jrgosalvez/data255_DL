{
 "cells": [
  {
   "cell_type": "markdown",
   "id": "aac3e57c-bc0e-41fe-ad13-893ff2b1ddbf",
   "metadata": {
    "tags": []
   },
   "source": [
    "# SJSU MSDS 255 DL, Spring 2024 - Deep Reinforcement Learning\n",
    "Homework 13: DQN on gymnasium video games"
   ]
  },
  {
   "cell_type": "markdown",
   "id": "7bfbfb66-8871-427a-bea8-868226e487a1",
   "metadata": {},
   "source": [
    "Git: https://github.com/jrgosalvez/data255_DL"
   ]
  },
  {
   "cell_type": "markdown",
   "id": "3ea426ba-7ee9-4c67-ac84-8baa9c1d4069",
   "metadata": {},
   "source": [
    "Source: \n",
    "- [Gymnasium Lunar Lander](https://gymnasium.farama.org/environments/box2d/lunar_lander/#lunar-lander)\n",
    "- [Gym Documentation Box 2d](https://www.gymlibrary.dev/environments/box2d/index.html)\n",
    "- [Gymnasium wrappers to record](https://gymnasium.farama.org/main/_modules/gymnasium/wrappers/record_video/)\n",
    "- [Deep Reinforcement Learning](https://medium.com/@sokistar24/introduction-to-deep-reinforcement-learning-solving-the-lunar-lander-c1bb0f6e6f0)\n",
    "- [Problems pip installing Box2d](https://stackoverflow.com/questions/51811263/problems-pip-installing-box2d)"
   ]
  },
  {
   "cell_type": "markdown",
   "id": "2e8eace2-2c4f-4199-aa8c-6592bf7118c7",
   "metadata": {},
   "source": [
    "# Prepare environment"
   ]
  },
  {
   "cell_type": "code",
   "execution_count": 4,
   "id": "5f11ff11-1e05-45cb-bb8b-26f0f3db343a",
   "metadata": {},
   "outputs": [
    {
     "name": "stdout",
     "output_type": "stream",
     "text": [
      "Collecting swig\n",
      "  Downloading swig-4.2.1-py2.py3-none-macosx_10_9_x86_64.whl.metadata (3.6 kB)\n",
      "Downloading swig-4.2.1-py2.py3-none-macosx_10_9_x86_64.whl (1.8 MB)\n",
      "\u001b[2K   \u001b[90m━━━━━━━━━━━━━━━━━━━━━━━━━━━━━━━━━━━━━━━━\u001b[0m \u001b[32m1.8/1.8 MB\u001b[0m \u001b[31m7.8 MB/s\u001b[0m eta \u001b[36m0:00:00\u001b[0ma \u001b[36m0:00:01\u001b[0m\n",
      "\u001b[?25hInstalling collected packages: swig\n",
      "Successfully installed swig-4.2.1\n",
      "Collecting box2d-py==2.3.5\n",
      "  Using cached box2d-py-2.3.5.tar.gz (374 kB)\n",
      "  Preparing metadata (setup.py) ... \u001b[?25ldone\n",
      "\u001b[?25hBuilding wheels for collected packages: box2d-py\n",
      "  Building wheel for box2d-py (setup.py) ... \u001b[?25ldone\n",
      "\u001b[?25h  Created wheel for box2d-py: filename=box2d_py-2.3.5-cp311-cp311-macosx_10_9_x86_64.whl size=398224 sha256=c074b0d80574b9f1f28589350c542b20bc8d3dbf0bb14229e8745e1e6a1d2032\n",
      "  Stored in directory: /Users/gosalvez/Library/Caches/pip/wheels/ab/f1/0c/d56f4a2bdd12bae0a0693ec33f2f0daadb5eb9753c78fa5308\n",
      "Successfully built box2d-py\n",
      "Installing collected packages: box2d-py\n",
      "  Attempting uninstall: box2d-py\n",
      "    Found existing installation: box2d-py 2.3.8\n",
      "    Uninstalling box2d-py-2.3.8:\n",
      "      Successfully uninstalled box2d-py-2.3.8\n",
      "Successfully installed box2d-py-2.3.5\n"
     ]
    }
   ],
   "source": [
    "!pip install swig\n",
    "!pip install box2d-py==2.3.5 --no-build-isolation"
   ]
  },
  {
   "cell_type": "code",
   "execution_count": 1,
   "id": "c257b9e5-bbde-45a3-a214-e89c70796a80",
   "metadata": {},
   "outputs": [
    {
     "name": "stdout",
     "output_type": "stream",
     "text": [
      "Collecting moviepy\n",
      "  Downloading moviepy-1.0.3.tar.gz (388 kB)\n",
      "\u001b[2K     \u001b[90m━━━━━━━━━━━━━━━━━━━━━━━━━━━━━━━━━━━━━━━\u001b[0m \u001b[32m388.3/388.3 kB\u001b[0m \u001b[31m4.2 MB/s\u001b[0m eta \u001b[36m0:00:00\u001b[0m00:01\u001b[0m00:01\u001b[0m\n",
      "\u001b[?25h  Preparing metadata (setup.py) ... \u001b[?25ldone\n",
      "\u001b[?25hCollecting decorator<5.0,>=4.0.2 (from moviepy)\n",
      "  Downloading decorator-4.4.2-py2.py3-none-any.whl.metadata (4.2 kB)\n",
      "Requirement already satisfied: tqdm<5.0,>=4.11.2 in /opt/anaconda3/envs/python311/lib/python3.11/site-packages (from moviepy) (4.65.0)\n",
      "Requirement already satisfied: requests<3.0,>=2.8.1 in /opt/anaconda3/envs/python311/lib/python3.11/site-packages (from moviepy) (2.31.0)\n",
      "Collecting proglog<=1.0.0 (from moviepy)\n",
      "  Downloading proglog-0.1.10-py3-none-any.whl.metadata (639 bytes)\n",
      "Requirement already satisfied: numpy>=1.17.3 in /opt/anaconda3/envs/python311/lib/python3.11/site-packages (from moviepy) (1.23.5)\n",
      "Requirement already satisfied: imageio<3.0,>=2.5 in /opt/anaconda3/envs/python311/lib/python3.11/site-packages (from moviepy) (2.34.0)\n",
      "Collecting imageio_ffmpeg>=0.2.0 (from moviepy)\n",
      "  Downloading imageio_ffmpeg-0.4.9-py3-none-macosx_10_9_intel.macosx_10_9_x86_64.macosx_10_10_intel.macosx_10_10_x86_64.whl.metadata (1.7 kB)\n",
      "Requirement already satisfied: pillow>=8.3.2 in /opt/anaconda3/envs/python311/lib/python3.11/site-packages (from imageio<3.0,>=2.5->moviepy) (10.3.0)\n",
      "Requirement already satisfied: setuptools in /opt/anaconda3/envs/python311/lib/python3.11/site-packages (from imageio_ffmpeg>=0.2.0->moviepy) (68.0.0)\n",
      "Requirement already satisfied: charset-normalizer<4,>=2 in /opt/anaconda3/envs/python311/lib/python3.11/site-packages (from requests<3.0,>=2.8.1->moviepy) (3.2.0)\n",
      "Requirement already satisfied: idna<4,>=2.5 in /opt/anaconda3/envs/python311/lib/python3.11/site-packages (from requests<3.0,>=2.8.1->moviepy) (2.10)\n",
      "Requirement already satisfied: urllib3<3,>=1.21.1 in /opt/anaconda3/envs/python311/lib/python3.11/site-packages (from requests<3.0,>=2.8.1->moviepy) (2.0.5)\n",
      "Requirement already satisfied: certifi>=2017.4.17 in /opt/anaconda3/envs/python311/lib/python3.11/site-packages (from requests<3.0,>=2.8.1->moviepy) (2024.2.2)\n",
      "Downloading decorator-4.4.2-py2.py3-none-any.whl (9.2 kB)\n",
      "Downloading imageio_ffmpeg-0.4.9-py3-none-macosx_10_9_intel.macosx_10_9_x86_64.macosx_10_10_intel.macosx_10_10_x86_64.whl (22.5 MB)\n",
      "\u001b[2K   \u001b[90m━━━━━━━━━━━━━━━━━━━━━━━━━━━━━━━━━━━━━━━━\u001b[0m \u001b[32m22.5/22.5 MB\u001b[0m \u001b[31m20.2 MB/s\u001b[0m eta \u001b[36m0:00:00\u001b[0m00:01\u001b[0m00:01\u001b[0m\n",
      "\u001b[?25hDownloading proglog-0.1.10-py3-none-any.whl (6.1 kB)\n",
      "Building wheels for collected packages: moviepy\n",
      "  Building wheel for moviepy (setup.py) ... \u001b[?25ldone\n",
      "\u001b[?25h  Created wheel for moviepy: filename=moviepy-1.0.3-py3-none-any.whl size=110727 sha256=19e897093f97bcfce4359dd1194846f77b937deadbf805d1d64e2d9c40707ec4\n",
      "  Stored in directory: /Users/gosalvez/Library/Caches/pip/wheels/83/b1/d9/119ef7c144b44d591ec0a9a140465133c23ea95d2a161184ba\n",
      "Successfully built moviepy\n",
      "Installing collected packages: proglog, imageio_ffmpeg, decorator, moviepy\n",
      "  Attempting uninstall: decorator\n",
      "    Found existing installation: decorator 5.1.1\n",
      "    Uninstalling decorator-5.1.1:\n",
      "      Successfully uninstalled decorator-5.1.1\n",
      "Successfully installed decorator-4.4.2 imageio_ffmpeg-0.4.9 moviepy-1.0.3 proglog-0.1.10\n"
     ]
    }
   ],
   "source": [
    "!pip install moviepy"
   ]
  },
  {
   "cell_type": "code",
   "execution_count": 1,
   "id": "149419ca-3a2a-4ab3-83e4-de6542271865",
   "metadata": {},
   "outputs": [],
   "source": [
    "import gymnasium as gym\n",
    "import numpy as np\n",
    "import random\n",
    "import time\n",
    "\n",
    "import torch\n",
    "import torch.nn as nn\n",
    "import torch.optim as optim\n",
    "import torch.nn.functional as F\n",
    "from collections import deque, namedtuple\n",
    "import matplotlib.pyplot as plt\n",
    "from gymnasium.wrappers import RecordVideo\n",
    "\n",
    "# if GPU is to be used\n",
    "device = torch.device(\"cuda\" if torch.cuda.is_available() else \"cpu\")"
   ]
  },
  {
   "cell_type": "markdown",
   "id": "9f68cd78-c114-439f-b185-84ee8f463a13",
   "metadata": {},
   "source": [
    "# Define parameters"
   ]
  },
  {
   "cell_type": "code",
   "execution_count": 2,
   "id": "da70522f-7dab-45a2-b365-59c84e4f8d65",
   "metadata": {},
   "outputs": [],
   "source": [
    "BUFFER_SIZE  = int(1e5)  # replay buffer size\n",
    "BATCH_SIZE   = 64         # minibatch size\n",
    "GAMMA        = 0.99            # discount factor\n",
    "TAU          = 1e-3              # for soft update of target parameters\n",
    "LR           = 5e-4               # learning rate \n",
    "UPDATE_EVERY = 4        # how often to update the network"
   ]
  },
  {
   "cell_type": "markdown",
   "id": "9dc547a3-3092-4b55-a260-43d6848f4ea9",
   "metadata": {},
   "source": [
    "# Create classes and functions for iterative reinforcement learning"
   ]
  },
  {
   "cell_type": "markdown",
   "id": "415b6fd4-26b5-430b-8ce8-519ebfa84fd0",
   "metadata": {},
   "source": [
    "### Create Agent to interact with and learn the environment"
   ]
  },
  {
   "cell_type": "code",
   "execution_count": 3,
   "id": "44f3880c-ad0f-4a10-b45a-c40d0268544f",
   "metadata": {},
   "outputs": [],
   "source": [
    "class Agent():\n",
    "\n",
    "    def __init__(self, state_size, action_size, seed):\n",
    "        #Initialize an Agent object\n",
    "\n",
    "        self.state_size = state_size\n",
    "        self.action_size = action_size\n",
    "        self.seed = random.seed(seed)\n",
    "\n",
    "        # Q-Network\n",
    "        self.qnetwork_local  = QNetwork(state_size, action_size, seed).to(device)\n",
    "        self.qnetwork_target = QNetwork(state_size, action_size, seed).to(device)\n",
    "        self.optimizer = optim.Adam(self.qnetwork_local.parameters(), lr=LR)\n",
    "\n",
    "        # Replay memory\n",
    "        self.memory = ReplayBuffer(action_size, BUFFER_SIZE, BATCH_SIZE, seed)\n",
    "        # Initialize time step (for updating every UPDATE_EVERY steps)\n",
    "        self.t_step = 0\n",
    "    \n",
    "    def step(self, state, action, reward, next_state, done):\n",
    "        # Save experience in replay memory\n",
    "        self.memory.add(state, action, reward, next_state, done)\n",
    "        \n",
    "        # Learn every UPDATE_EVERY time steps.\n",
    "        self.t_step = (self.t_step + 1) % UPDATE_EVERY\n",
    "        if self.t_step == 0:\n",
    "            # If enough samples are available in memory, get random subset and learn\n",
    "            if len(self.memory) > BATCH_SIZE:\n",
    "                experiences = self.memory.sample()\n",
    "                self.learn(experiences, GAMMA)\n",
    "\n",
    "    def act(self, state, eps=0.):\n",
    "        # Returns actions for given state as per current policy.\n",
    "        # state (array_like) is the current state\n",
    "        # eps (float): epsilon; epsilon-greedy action selection\n",
    "        \n",
    "        state = torch.from_numpy(state).float().unsqueeze(0).to(device)\n",
    "        self.qnetwork_local.eval()\n",
    "        with torch.no_grad():\n",
    "            action_values = self.qnetwork_local(state)\n",
    "        self.qnetwork_local.train()\n",
    "\n",
    "        # Epsilon-greedy action selection\n",
    "        if random.random() > eps:\n",
    "            return np.argmax(action_values.cpu().data.numpy())\n",
    "        else:\n",
    "            return random.choice(np.arange(self.action_size))\n",
    "\n",
    "    def learn(self, experiences, gamma):\n",
    "        #Update value parameters using given batch of experience tuples.\n",
    "        # experiences (Tuple[torch.Tensor]): tuple of (s, a, r, s', done) tuples \n",
    "        # gamma (float): discount factor\n",
    "\n",
    "        states, actions, rewards, next_states, dones = experiences\n",
    "\n",
    "        # Get max predicted Q values (for next states) from target model\n",
    "        Q_targets_next = self.qnetwork_target(next_states).detach().max(1)[0].unsqueeze(1)\n",
    "        # Compute Q targets for current states \n",
    "        Q_targets = rewards + (gamma * Q_targets_next * (1 - dones))\n",
    "\n",
    "        # Get expected Q values from local model\n",
    "        Q_expected = self.qnetwork_local(states).gather(1, actions)\n",
    "\n",
    "        # Compute loss\n",
    "        loss = F.mse_loss(Q_expected, Q_targets)\n",
    "        # Minimize the loss\n",
    "        self.optimizer.zero_grad()\n",
    "        loss.backward()\n",
    "        self.optimizer.step()\n",
    "\n",
    "        # update target network \n",
    "        self.soft_update(self.qnetwork_local, self.qnetwork_target, TAU)                     \n",
    "\n",
    "    def soft_update(self, local_model, target_model, tau):\n",
    "        # Soft update model parameters - θ_target = τ*θ_local + (1 - τ)*θ_target\n",
    "        # local_model (PyTorch model): weights will be copied from\n",
    "        # target_model (PyTorch model): weights will be copied to\n",
    "        # tau (float): interpolation parameter \n",
    "        \n",
    "        for target_param, local_param in zip(target_model.parameters(), local_model.parameters()):\n",
    "            target_param.data.copy_(tau*local_param.data + (1.0-tau)*target_param.data)"
   ]
  },
  {
   "cell_type": "markdown",
   "id": "778af621-d10a-40e8-97ae-3e8b8b8b88dc",
   "metadata": {},
   "source": [
    "### Create relay buffer to store results for learning"
   ]
  },
  {
   "cell_type": "code",
   "execution_count": 4,
   "id": "0bb14b09-3599-4714-b94e-36948d949645",
   "metadata": {},
   "outputs": [],
   "source": [
    "class ReplayBuffer:\n",
    "    #Fixed-size buffer to store experience tuples\n",
    "\n",
    "    def __init__(self, action_size, buffer_size, batch_size, seed):\n",
    "        # action_size (int): dimension of each action\n",
    "        # buffer_size (int): maximum size of buffer\n",
    "        # batch_size (int): size of each training batch\n",
    "        # seed (int): random seed\n",
    "\n",
    "        self.action_size = action_size\n",
    "        self.memory = deque(maxlen=buffer_size)  \n",
    "        self.batch_size = batch_size\n",
    "        self.experience = namedtuple(\"Experience\", field_names=[\"state\", \"action\", \"reward\", \"next_state\", \"done\"])\n",
    "        self.seed = random.seed(seed)\n",
    "    \n",
    "    def add(self, state, action, reward, next_state, done):\n",
    "        # Add a new experience to memory\n",
    "        e = self.experience(state, action, reward, next_state, done)\n",
    "        self.memory.append(e)\n",
    "    \n",
    "    def sample(self):\n",
    "        # Randomly sample a batch of experiences from memory\n",
    "        experiences = random.sample(self.memory, k=self.batch_size)\n",
    "\n",
    "        states = torch.from_numpy(np.vstack([e.state for e in experiences if e is not None])).float().to(device)\n",
    "        actions = torch.from_numpy(np.vstack([e.action for e in experiences if e is not None])).long().to(device)\n",
    "        rewards = torch.from_numpy(np.vstack([e.reward for e in experiences if e is not None])).float().to(device)\n",
    "        next_states = torch.from_numpy(np.vstack([e.next_state for e in experiences if e is not None])).float().to(device)\n",
    "        dones = torch.from_numpy(np.vstack([e.done for e in experiences if e is not None]).astype(np.uint8)).float().to(device)\n",
    "  \n",
    "        return (states, actions, rewards, next_states, dones)\n",
    "\n",
    "    def __len__(self):\n",
    "        # Return the current size of internal memory\n",
    "        return len(self.memory)"
   ]
  },
  {
   "cell_type": "markdown",
   "id": "c2f2a743-202a-43b9-adc5-41e6fe6dd115",
   "metadata": {},
   "source": [
    "### Create the Deep Q-Network - apply an actor policy model"
   ]
  },
  {
   "cell_type": "code",
   "execution_count": 5,
   "id": "ad71a2d7-0004-4982-a4a9-5c152db2f2ef",
   "metadata": {},
   "outputs": [],
   "source": [
    "class QNetwork(nn.Module):\n",
    "\n",
    "    def __init__(self, state_size, action_size, seed, fc1_units=64, fc2_units=64):\n",
    "        # state_size (int): Dimension of each state\n",
    "        # action_size (int): Dimension of each action\n",
    "        # seed (int): Random seed\n",
    "        # fc1_units (int): Number of nodes in first hidden layer\n",
    "        # fc2_units (int): Number of nodes in second hidden layer\n",
    "        \n",
    "        super(QNetwork, self).__init__()\n",
    "        self.seed = torch.manual_seed(seed)\n",
    "        self.fc1 = nn.Linear(state_size, fc1_units)\n",
    "        self.fc2 = nn.Linear(fc1_units, fc2_units)\n",
    "        self.fc3 = nn.Linear(fc2_units, action_size)\n",
    "\n",
    "    def forward(self, state):\n",
    "        # Map state to action values\n",
    "        x = F.relu(self.fc1(state))\n",
    "        x = F.relu(self.fc2(x))\n",
    "        return self.fc3(x)"
   ]
  },
  {
   "cell_type": "markdown",
   "id": "9d5c881e-55b8-4ab6-9ef7-d24253985800",
   "metadata": {},
   "source": [
    "### Create training, scoring, and plotting function loop"
   ]
  },
  {
   "cell_type": "code",
   "execution_count": 6,
   "id": "3bfd0ecf-489d-468c-970b-b70068199184",
   "metadata": {},
   "outputs": [],
   "source": [
    "def dqn(n_episodes=2000, max_t=1000, eps_start=1.0, eps_end=0.01, eps_decay=0.995):\n",
    "    # n_episodes (int): maximum number of training episodes\n",
    "    # max_t (int): maximum number of timesteps per episode\n",
    "    # eps_start (float): starting value of epsilon, for epsilon-greedy action selection\n",
    "    # eps_end (float): minimum value of epsilon\n",
    "    # eps_decay (float): multiplicative factor (per episode) for decreasing epsilon\n",
    "    \n",
    "    scores = []                        # list containing scores from each episode\n",
    "    scores_window = deque(maxlen=100)  # last 100 scores\n",
    "    eps = eps_start                    # initialize greedy epsilon\n",
    "    for i_episode in range(1, n_episodes+1):\n",
    "        state,info = env.reset()\n",
    "        score = 0\n",
    "        for t in range(max_t):\n",
    "            action = agent.act(state, eps)\n",
    "            next_state, reward, done, info,_ = env.step(action)\n",
    "            agent.step(state, action, reward, next_state, done)\n",
    "            state = next_state\n",
    "            score += reward\n",
    "            if done:\n",
    "                break \n",
    "        scores_window.append(score)       # save most recent score\n",
    "        scores.append(score)              # save most recent score\n",
    "        eps = max(eps_end, eps_decay*eps) # decrease epsilon\n",
    "        print('\\rEpisode {}\\tAverage Score: {:.2f}'.format(i_episode, np.mean(scores_window)), end=\"\")\n",
    "        if i_episode % 100 == 0:\n",
    "            print('\\rEpisode {}\\tAverage Score: {:.2f}'.format(i_episode, np.mean(scores_window)))\n",
    "        if np.mean(scores_window)>=200.0:\n",
    "            print('\\nEnvironment solved in {:d} episodes!\\tAverage Score: {:.2f}'.format(i_episode-100, np.mean(scores_window)))\n",
    "            torch.save(agent.qnetwork_local.state_dict(), 'checkpoint_lunar.pth') # save trained model for future use\n",
    "            break\n",
    "    return scores"
   ]
  },
  {
   "cell_type": "markdown",
   "id": "3bd11d0f-c247-4d38-885c-ed5846f86993",
   "metadata": {},
   "source": [
    "### Explore the environment and play an episode to understand the problem and to set parameters for training"
   ]
  },
  {
   "cell_type": "markdown",
   "id": "47f21577-6cae-41c4-ab3e-edc399e9edbe",
   "metadata": {},
   "source": [
    "*************"
   ]
  },
  {
   "cell_type": "markdown",
   "id": "46ea1060-be5a-4802-b4d3-a831035e125f",
   "metadata": {},
   "source": [
    "#### >>>> SKIP <<< NOTE: python renderer crashes on CPU, so after doing this and recording, skip to training DQN <<<<"
   ]
  },
  {
   "cell_type": "code",
   "execution_count": 7,
   "id": "82a9c5b8-51f9-46b1-8ad4-77945539695d",
   "metadata": {},
   "outputs": [
    {
     "name": "stderr",
     "output_type": "stream",
     "text": [
      "<frozen importlib._bootstrap>:241: RuntimeWarning: Your system is avx2 capable but pygame was not built with support for it. The performance of some of your blits could be adversely affected. Consider enabling compile time detection with environment variables like PYGAME_DETECT_AVX2=1 if you are compiling without cross compilation.\n"
     ]
    },
    {
     "name": "stdout",
     "output_type": "stream",
     "text": [
      "State shape:  (8,)\n",
      "Number of actions:  4\n"
     ]
    }
   ],
   "source": [
    "env = gym.make('LunarLander-v2',render_mode='human')\n",
    "observation, info = env.reset(seed=42)\n",
    "print('State shape: ', env.observation_space.shape)\n",
    "print('Number of actions: ', env.action_space.n)"
   ]
  },
  {
   "cell_type": "code",
   "execution_count": 8,
   "id": "bef83938-7068-4bc1-98a6-a7e1de3d23c9",
   "metadata": {},
   "outputs": [
    {
     "name": "stderr",
     "output_type": "stream",
     "text": [
      "/opt/anaconda3/envs/python311/lib/python3.11/site-packages/gymnasium/wrappers/record_video.py:94: UserWarning: \u001b[33mWARN: Overwriting existing videos at /Users/gosalvez/Desktop/Git/python_practice/python_practice/HW/DATA255_DL_SPRING2024/HW13/No_learn_videos folder (try specifying a different `video_folder` for the `RecordVideo` wrapper if this is not desired)\u001b[0m\n",
      "  logger.warn(\n"
     ]
    },
    {
     "name": "stdout",
     "output_type": "stream",
     "text": [
      "Moviepy - Building video /Users/gosalvez/Desktop/Git/python_practice/python_practice/HW/DATA255_DL_SPRING2024/HW13/No_learn_videos/lunar_lander_no_learning-episode-0.mp4.\n",
      "Moviepy - Writing video /Users/gosalvez/Desktop/Git/python_practice/python_practice/HW/DATA255_DL_SPRING2024/HW13/No_learn_videos/lunar_lander_no_learning-episode-0.mp4\n",
      "\n"
     ]
    },
    {
     "name": "stderr",
     "output_type": "stream",
     "text": [
      "                                                               \r"
     ]
    },
    {
     "name": "stdout",
     "output_type": "stream",
     "text": [
      "Moviepy - Done !\n",
      "Moviepy - video ready /Users/gosalvez/Desktop/Git/python_practice/python_practice/HW/DATA255_DL_SPRING2024/HW13/No_learn_videos/lunar_lander_no_learning-episode-0.mp4\n",
      "Moviepy - Building video /Users/gosalvez/Desktop/Git/python_practice/python_practice/HW/DATA255_DL_SPRING2024/HW13/No_learn_videos/lunar_lander_no_learning-episode-1.mp4.\n",
      "Moviepy - Writing video /Users/gosalvez/Desktop/Git/python_practice/python_practice/HW/DATA255_DL_SPRING2024/HW13/No_learn_videos/lunar_lander_no_learning-episode-1.mp4\n",
      "\n"
     ]
    },
    {
     "name": "stderr",
     "output_type": "stream",
     "text": [
      "                                                             \r"
     ]
    },
    {
     "name": "stdout",
     "output_type": "stream",
     "text": [
      "Moviepy - Done !\n",
      "Moviepy - video ready /Users/gosalvez/Desktop/Git/python_practice/python_practice/HW/DATA255_DL_SPRING2024/HW13/No_learn_videos/lunar_lander_no_learning-episode-1.mp4\n",
      "Moviepy - Building video /Users/gosalvez/Desktop/Git/python_practice/python_practice/HW/DATA255_DL_SPRING2024/HW13/No_learn_videos/lunar_lander_no_learning-episode-8.mp4.\n",
      "Moviepy - Writing video /Users/gosalvez/Desktop/Git/python_practice/python_practice/HW/DATA255_DL_SPRING2024/HW13/No_learn_videos/lunar_lander_no_learning-episode-8.mp4\n",
      "\n"
     ]
    },
    {
     "name": "stderr",
     "output_type": "stream",
     "text": [
      "                                                             \r"
     ]
    },
    {
     "name": "stdout",
     "output_type": "stream",
     "text": [
      "Moviepy - Done !\n",
      "Moviepy - video ready /Users/gosalvez/Desktop/Git/python_practice/python_practice/HW/DATA255_DL_SPRING2024/HW13/No_learn_videos/lunar_lander_no_learning-episode-8.mp4\n"
     ]
    }
   ],
   "source": [
    "# Create the environment\n",
    "env = gym.make('LunarLander-v2', render_mode='rgb_array')\n",
    "\n",
    "# Wrap the environment with RecordVideo\n",
    "env = RecordVideo(env, video_folder='./No_learn_videos', name_prefix='lunar_lander_no_learning')\n",
    "\n",
    "# Reset the environment\n",
    "observation, info = env.reset()\n",
    "\n",
    "for _ in range(1000):\n",
    "   # Simple policy: choose a random action\n",
    "   action = env.action_space.sample()\n",
    "   \n",
    "   # Apply the action and get the new observation, reward, and other information\n",
    "   observation, reward, terminated, truncated, info = env.step(action)\n",
    "\n",
    "   # If the episode is over, reset the environment\n",
    "   if terminated or truncated:\n",
    "      observation, info = env.reset()\n",
    "\n",
    "env.reset()\n",
    "env.close()"
   ]
  },
  {
   "cell_type": "markdown",
   "id": "c5cde6bc-8821-4db2-8724-ad651d331b62",
   "metadata": {},
   "source": [
    "- 8 elements of observation array; however only 6 required. Omit final 2.\n",
    "- 4 possible action states (up, down, left, right)"
   ]
  },
  {
   "cell_type": "markdown",
   "id": "368a7882-fbd9-4605-a325-9f402e47a858",
   "metadata": {},
   "source": [
    "# Instantiate the environment and agent with learned environment parameters"
   ]
  },
  {
   "cell_type": "code",
   "execution_count": 7,
   "id": "5575aa88-f06d-493e-a4e3-88856ca82a17",
   "metadata": {},
   "outputs": [
    {
     "name": "stderr",
     "output_type": "stream",
     "text": [
      "<frozen importlib._bootstrap>:241: RuntimeWarning: Your system is avx2 capable but pygame was not built with support for it. The performance of some of your blits could be adversely affected. Consider enabling compile time detection with environment variables like PYGAME_DETECT_AVX2=1 if you are compiling without cross compilation.\n"
     ]
    }
   ],
   "source": [
    "# define parameters from environment exploration\n",
    "env   = gym.make('LunarLander-v2')\n",
    "agent = Agent(state_size=8, action_size=4, seed=0)"
   ]
  },
  {
   "cell_type": "markdown",
   "id": "7d3483f3-e5fd-4a2d-b2a4-a77e78e0b352",
   "metadata": {},
   "source": [
    "**************"
   ]
  },
  {
   "cell_type": "markdown",
   "id": "19835752-f981-4e34-b303-22a3b397f073",
   "metadata": {},
   "source": [
    "### Train DQN and plot convergence"
   ]
  },
  {
   "cell_type": "markdown",
   "id": "be601251-c29d-4df8-870d-36440af9de88",
   "metadata": {},
   "source": [
    "#### >>>> SKIP <<< NOTE: skip training and simpliy load if already have model pretrained model to avoid python render from crashing <<<<"
   ]
  },
  {
   "cell_type": "code",
   "execution_count": 8,
   "id": "ba097084-d856-4d78-9be5-c57f7d6020a8",
   "metadata": {},
   "outputs": [
    {
     "name": "stdout",
     "output_type": "stream",
     "text": [
      "Episode 100\tAverage Score: -155.70\n",
      "Episode 200\tAverage Score: -128.87\n",
      "Episode 300\tAverage Score: -36.546\n",
      "Episode 400\tAverage Score: 19.315\n",
      "Episode 500\tAverage Score: 130.48\n",
      "Episode 598\tAverage Score: 200.32\n",
      "Environment solved in 498 episodes!\tAverage Score: 200.32\n"
     ]
    },
    {
     "data": {
      "image/png": "[encoded data removed]",
      "text/plain": [
       "<Figure size 640x480 with 1 Axes>"
      ]
     },
     "metadata": {},
     "output_type": "display_data"
    }
   ],
   "source": [
    "scores = dqn()\n",
    "\n",
    "# plot the scores\n",
    "fig = plt.figure()\n",
    "ax = fig.add_subplot(111)\n",
    "plt.plot(np.arange(len(scores)), scores)\n",
    "plt.ylabel('Score')\n",
    "plt.xlabel('Episode #')\n",
    "plt.show()"
   ]
  },
  {
   "cell_type": "markdown",
   "id": "9f0a133a-5f1c-4802-b447-dc1b8fe4699f",
   "metadata": {},
   "source": [
    "**************"
   ]
  },
  {
   "cell_type": "markdown",
   "id": "616a3860-1d1c-420f-933c-9e9b06d7efd4",
   "metadata": {},
   "source": [
    "# Load the trained model to record a video"
   ]
  },
  {
   "cell_type": "code",
   "execution_count": 9,
   "id": "7c4d30dc-28fc-4243-860f-5ae2e2a6b5e0",
   "metadata": {},
   "outputs": [
    {
     "name": "stderr",
     "output_type": "stream",
     "text": [
      "/opt/anaconda3/envs/python311/lib/python3.11/site-packages/gymnasium/wrappers/record_video.py:94: UserWarning: \u001b[33mWARN: Overwriting existing videos at /Users/gosalvez/Desktop/Git/python_practice/python_practice/HW/DATA255_DL_SPRING2024/HW13/DQN_videos folder (try specifying a different `video_folder` for the `RecordVideo` wrapper if this is not desired)\u001b[0m\n",
      "  logger.warn(\n"
     ]
    },
    {
     "name": "stdout",
     "output_type": "stream",
     "text": [
      "Moviepy - Building video /Users/gosalvez/Desktop/Git/python_practice/python_practice/HW/DATA255_DL_SPRING2024/HW13/DQN_videos/lunar_lander_DQN-episode-0.mp4.\n",
      "Moviepy - Writing video /Users/gosalvez/Desktop/Git/python_practice/python_practice/HW/DATA255_DL_SPRING2024/HW13/DQN_videos/lunar_lander_DQN-episode-0.mp4\n",
      "\n"
     ]
    },
    {
     "name": "stderr",
     "output_type": "stream",
     "text": [
      "                                                               \r"
     ]
    },
    {
     "name": "stdout",
     "output_type": "stream",
     "text": [
      "Moviepy - Done !\n",
      "Moviepy - video ready /Users/gosalvez/Desktop/Git/python_practice/python_practice/HW/DATA255_DL_SPRING2024/HW13/DQN_videos/lunar_lander_DQN-episode-0.mp4\n",
      "Moviepy - Building video /Users/gosalvez/Desktop/Git/python_practice/python_practice/HW/DATA255_DL_SPRING2024/HW13/DQN_videos/lunar_lander_DQN-episode-1.mp4.\n",
      "Moviepy - Writing video /Users/gosalvez/Desktop/Git/python_practice/python_practice/HW/DATA255_DL_SPRING2024/HW13/DQN_videos/lunar_lander_DQN-episode-1.mp4\n",
      "\n"
     ]
    },
    {
     "name": "stderr",
     "output_type": "stream",
     "text": [
      "                                                  "
     ]
    },
    {
     "name": "stdout",
     "output_type": "stream",
     "text": [
      "Moviepy - Done !\n",
      "Moviepy - video ready /Users/gosalvez/Desktop/Git/python_practice/python_practice/HW/DATA255_DL_SPRING2024/HW13/DQN_videos/lunar_lander_DQN-episode-1.mp4\n"
     ]
    },
    {
     "name": "stderr",
     "output_type": "stream",
     "text": [
      "\r"
     ]
    }
   ],
   "source": [
    "# Load the checkpoint\n",
    "agent.qnetwork_local.load_state_dict(torch.load('checkpoint_lunar.pth'))\n",
    "\n",
    "# Create a new environment for rendering\n",
    "env = gym.make('LunarLander-v2', render_mode='rgb_array')\n",
    "\n",
    "env = RecordVideo(env, video_folder='./DQN_videos', name_prefix='lunar_lander_DQN')\n",
    "\n",
    "# Reset the environment\n",
    "state, info = env.reset()\n",
    "\n",
    "# Render the environment\n",
    "while True:\n",
    "    action = agent.act(state, eps=0.0)  # Use a fixed epsilon value for rendering\n",
    "    next_state, reward, done, info, _ = env.step(action)\n",
    "    env.render()\n",
    "    state = next_state\n",
    "    if done:\n",
    "        env.reset()\n",
    "        env.close()\n",
    "        break"
   ]
  },
  {
   "cell_type": "markdown",
   "id": "26315882-7858-435c-ac77-7fdc7816230f",
   "metadata": {},
   "source": [
    "# Load the trained model and visualize"
   ]
  },
  {
   "cell_type": "code",
   "execution_count": 10,
   "id": "754933d4-488d-43bb-a543-b7a7a833982f",
   "metadata": {},
   "outputs": [
    {
     "name": "stdout",
     "output_type": "stream",
     "text": [
      "done\n"
     ]
    }
   ],
   "source": [
    "# Load the checkpoint\n",
    "agent.qnetwork_local.load_state_dict(torch.load('checkpoint_lunar.pth'))\n",
    "\n",
    "# Create a new environment for rendering\n",
    "env_render = gym.make('LunarLander-v2', render_mode='human')\n",
    "\n",
    "# Reset the environment\n",
    "state, info = env_render.reset()\n",
    "\n",
    "# Render the environment\n",
    "while True:\n",
    "    action = agent.act(state, eps=0.0)  # Use a fixed epsilon value for rendering\n",
    "    next_state, reward, done, info, _ = env_render.step(action)\n",
    "    env_render.render()\n",
    "    state = next_state\n",
    "    if done:\n",
    "        print(\"done\")\n",
    "        env.close()\n",
    "        break"
   ]
  },
  {
   "cell_type": "code",
   "execution_count": null,
   "id": "79c662d6-9206-4b06-922f-6cb8473f1f5d",
   "metadata": {},
   "outputs": [],
   "source": []
  }
 ],
 "metadata": {
  "kernelspec": {
   "display_name": "Python 3 (ipykernel)",
   "language": "python",
   "name": "python3"
  },
  "language_info": {
   "codemirror_mode": {
    "name": "ipython",
    "version": 3
   },
   "file_extension": ".py",
   "mimetype": "text/x-python",
   "name": "python",
   "nbconvert_exporter": "python",
   "pygments_lexer": "ipython3",
   "version": "3.11.5"
  }
 },
 "nbformat": 4,
 "nbformat_minor": 5
}
